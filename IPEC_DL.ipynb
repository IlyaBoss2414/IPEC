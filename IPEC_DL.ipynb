{
  "cells": [
    {
      "cell_type": "markdown",
      "metadata": {
        "id": "view-in-github",
        "colab_type": "text"
      },
      "source": [
        "<a href=\"https://colab.research.google.com/github/IlyaBoss2414/IPEC/blob/main/IPEC_DL.ipynb\" target=\"_parent\"><img src=\"https://colab.research.google.com/assets/colab-badge.svg\" alt=\"Open In Colab\"/></a>"
      ]
    },
    {
      "cell_type": "markdown",
      "metadata": {
        "id": "jTgo22tPe_lp"
      },
      "source": [
        "# Settings"
      ]
    },
    {
      "cell_type": "code",
      "execution_count": 1,
      "metadata": {
        "id": "utk1nmz-XJ8j",
        "colab": {
          "base_uri": "https://localhost:8080/"
        },
        "outputId": "22aca801-a3f6-4a72-9bfa-5dfc2526a6d8"
      },
      "outputs": [
        {
          "output_type": "stream",
          "name": "stdout",
          "text": [
            "\u001b[2K     \u001b[90m━━━━━━━━━━━━━━━━━━━━━━━━━━━━━━━━━━━━━━━━\u001b[0m \u001b[32m46.3/46.3 kB\u001b[0m \u001b[31m851.3 kB/s\u001b[0m eta \u001b[36m0:00:00\u001b[0m\n",
            "\u001b[2K     \u001b[90m━━━━━━━━━━━━━━━━━━━━━━━━━━━━━━━━━━━━━━━━\u001b[0m \u001b[32m21.3/21.3 MB\u001b[0m \u001b[31m28.6 MB/s\u001b[0m eta \u001b[36m0:00:00\u001b[0m\n",
            "\u001b[2K     \u001b[90m━━━━━━━━━━━━━━━━━━━━━━━━━━━━━━━━━━━━━━━━\u001b[0m \u001b[32m2.3/2.3 MB\u001b[0m \u001b[31m8.4 MB/s\u001b[0m eta \u001b[36m0:00:00\u001b[0m\n",
            "\u001b[2K     \u001b[90m━━━━━━━━━━━━━━━━━━━━━━━━━━━━━━━━━━━━━━━━\u001b[0m \u001b[32m2.0/2.0 MB\u001b[0m \u001b[31m15.4 MB/s\u001b[0m eta \u001b[36m0:00:00\u001b[0m\n",
            "\u001b[2K     \u001b[90m━━━━━━━━━━━━━━━━━━━━━━━━━━━━━━━━━━━━━━━━\u001b[0m \u001b[32m868.8/868.8 kB\u001b[0m \u001b[31m16.5 MB/s\u001b[0m eta \u001b[36m0:00:00\u001b[0m\n",
            "\u001b[2K     \u001b[90m━━━━━━━━━━━━━━━━━━━━━━━━━━━━━━━━━━━━━━━━\u001b[0m \u001b[32m812.2/812.2 kB\u001b[0m \u001b[31m21.1 MB/s\u001b[0m eta \u001b[36m0:00:00\u001b[0m\n",
            "\u001b[?25h"
          ]
        }
      ],
      "source": [
        "%pip install -q torchsat\n",
        "%pip install -q timm lightning torchmetrics"
      ]
    },
    {
      "cell_type": "code",
      "execution_count": 2,
      "metadata": {
        "id": "YB_PCtR4av1V"
      },
      "outputs": [],
      "source": [
        "%pip install -q lion-pytorch"
      ]
    },
    {
      "cell_type": "code",
      "execution_count": 3,
      "metadata": {
        "colab": {
          "base_uri": "https://localhost:8080/"
        },
        "id": "GctBi34-aFD0",
        "outputId": "59e4612f-cc52-4f87-a69a-cb33153a9fc1"
      },
      "outputs": [
        {
          "output_type": "stream",
          "name": "stdout",
          "text": [
            "Requirement already satisfied: gdown in /usr/local/lib/python3.10/dist-packages (5.1.0)\n",
            "Requirement already satisfied: beautifulsoup4 in /usr/local/lib/python3.10/dist-packages (from gdown) (4.12.3)\n",
            "Requirement already satisfied: filelock in /usr/local/lib/python3.10/dist-packages (from gdown) (3.14.0)\n",
            "Requirement already satisfied: requests[socks] in /usr/local/lib/python3.10/dist-packages (from gdown) (2.31.0)\n",
            "Requirement already satisfied: tqdm in /usr/local/lib/python3.10/dist-packages (from gdown) (4.66.4)\n",
            "Requirement already satisfied: soupsieve>1.2 in /usr/local/lib/python3.10/dist-packages (from beautifulsoup4->gdown) (2.5)\n",
            "Requirement already satisfied: charset-normalizer<4,>=2 in /usr/local/lib/python3.10/dist-packages (from requests[socks]->gdown) (3.3.2)\n",
            "Requirement already satisfied: idna<4,>=2.5 in /usr/local/lib/python3.10/dist-packages (from requests[socks]->gdown) (3.7)\n",
            "Requirement already satisfied: urllib3<3,>=1.21.1 in /usr/local/lib/python3.10/dist-packages (from requests[socks]->gdown) (2.0.7)\n",
            "Requirement already satisfied: certifi>=2017.4.17 in /usr/local/lib/python3.10/dist-packages (from requests[socks]->gdown) (2024.6.2)\n",
            "Requirement already satisfied: PySocks!=1.5.7,>=1.5.6 in /usr/local/lib/python3.10/dist-packages (from requests[socks]->gdown) (1.7.1)\n"
          ]
        }
      ],
      "source": [
        "!pip install gdown"
      ]
    },
    {
      "cell_type": "code",
      "execution_count": 4,
      "metadata": {
        "id": "lchNTEQiaKS_"
      },
      "outputs": [],
      "source": [
        "import gdown"
      ]
    },
    {
      "cell_type": "code",
      "execution_count": 5,
      "metadata": {
        "id": "SBdgm9nrXNWB"
      },
      "outputs": [],
      "source": [
        "import os\n",
        "import pickle\n",
        "from sys import getsizeof\n",
        "import numpy as np\n",
        "import pandas as pd\n",
        "import psutil\n",
        "import torch\n",
        "from matplotlib import pyplot as plt\n",
        "from matplotlib.image import NonUniformImage"
      ]
    },
    {
      "cell_type": "code",
      "execution_count": 6,
      "metadata": {
        "colab": {
          "base_uri": "https://localhost:8080/"
        },
        "id": "gl7LXRuUbusp",
        "outputId": "2c7efafb-f6ca-421d-efe0-15867ab01820"
      },
      "outputs": [
        {
          "output_type": "stream",
          "name": "stderr",
          "text": [
            "INFO: Seed set to 42\n",
            "INFO:lightning.fabric.utilities.seed:Seed set to 42\n"
          ]
        },
        {
          "output_type": "execute_result",
          "data": {
            "text/plain": [
              "42"
            ]
          },
          "metadata": {},
          "execution_count": 6
        }
      ],
      "source": [
        "import lightning as L\n",
        "import numpy as np\n",
        "import torch\n",
        "from pytorch_lightning.loggers import TensorBoardLogger\n",
        "import tensorflow as tf\n",
        "\n",
        "torch.manual_seed(42)\n",
        "torch.backends.cudnn.deterministic = True\n",
        "torch.backends.cudnn.benchmark = False\n",
        "\n",
        "import numpy as np\n",
        "import random\n",
        "import torch\n",
        "\n",
        "\n",
        "def set_random_seed(seed):\n",
        "    torch.manual_seed(seed)\n",
        "    torch.cuda.manual_seed(seed)\n",
        "    np.random.seed(seed)\n",
        "    random.seed(seed)\n",
        "\n",
        "\n",
        "set_random_seed(42)\n",
        "\n",
        "np.random.seed(42)\n",
        "tf.random.set_seed(42)\n",
        "L.seed_everything(42)\n"
      ]
    },
    {
      "cell_type": "code",
      "execution_count": 7,
      "metadata": {
        "colab": {
          "base_uri": "https://localhost:8080/"
        },
        "id": "Jrb-wJKkQiCx",
        "outputId": "13c86f7b-3956-405a-fde9-077fe390c7a2"
      },
      "outputs": [
        {
          "output_type": "stream",
          "name": "stdout",
          "text": [
            "Cloning into 'IPEC'...\n",
            "remote: Enumerating objects: 208, done.\u001b[K\n",
            "remote: Counting objects: 100% (79/79), done.\u001b[K\n",
            "remote: Compressing objects: 100% (51/51), done.\u001b[K\n",
            "remote: Total 208 (delta 56), reused 28 (delta 28), pack-reused 129\u001b[K\n",
            "Receiving objects: 100% (208/208), 631.98 KiB | 7.02 MiB/s, done.\n",
            "Resolving deltas: 100% (102/102), done.\n"
          ]
        }
      ],
      "source": [
        "!git clone https://github.com/IlyaBoss2414/IPEC"
      ]
    },
    {
      "cell_type": "code",
      "execution_count": 9,
      "metadata": {
        "id": "X4GPvEptYGAq"
      },
      "outputs": [],
      "source": [
        "from IPEC.models.trainer import LitBasic_upd\n",
        "from IPEC.models.trainer_pairing import LitBasic_upd_pare\n",
        "from IPEC.models.model_pairing_common import IPEC_net_upd_pare\n",
        "from IPEC.models.model_pairing import IPEC_net_pairing\n",
        "from IPEC.models.model import IPEC_net_upd\n",
        "from IPEC.data.data import prepare_data\n",
        "from IPEC.data.data_pairing import prepare_data_pairing"
      ]
    },
    {
      "cell_type": "markdown",
      "metadata": {
        "id": "14Dry-wZgJtM"
      },
      "source": [
        "# Data loading"
      ]
    },
    {
      "cell_type": "code",
      "execution_count": 10,
      "metadata": {
        "id": "X3ZX9m3QdXgK"
      },
      "outputs": [],
      "source": [
        "path_to_folder = '/content/IPEC/data/'\n",
        "df = pd.read_csv(os.path.join(path_to_folder, \"df_lin.csv\"))"
      ]
    },
    {
      "cell_type": "code",
      "execution_count": 11,
      "metadata": {
        "id": "UBBh1Z2ldiOo"
      },
      "outputs": [],
      "source": [
        "train_loader, val_loader, test_loader = prepare_data(df)\n",
        "train_loader_pair, val_loader_pair, test_loader_pair = prepare_data_pairing(df)"
      ]
    },
    {
      "cell_type": "code",
      "source": [
        "list_features = df.select_dtypes(exclude=['object']).columns.tolist()\n",
        "list_features.remove(\"Unnamed: 0\")\n",
        "list_features.remove(\"phi\")\n",
        "elements = list_features\n",
        "pa_list = []\n",
        "pc_list = []\n",
        "other_list = []\n",
        "\n",
        "for element in elements:\n",
        "    if element.startswith(\"PA_\"):\n",
        "        pa_list.append(element)\n",
        "    elif element.startswith(\"PC_\"):\n",
        "        pc_list.append(element)\n",
        "    elif element.startswith(\"PС_\"):\n",
        "        pc_list.append(element)\n",
        "\n",
        "    else:\n",
        "        other_list.append(element)\n"
      ],
      "metadata": {
        "id": "-Sn_XT7Yv9mu"
      },
      "execution_count": 12,
      "outputs": []
    },
    {
      "cell_type": "markdown",
      "metadata": {
        "id": "ZRofsJ2BgPlj"
      },
      "source": [
        "# model.py\n"
      ]
    },
    {
      "cell_type": "code",
      "source": [
        "model = IPEC_net_upd(len(list_features))\n",
        "print(model)"
      ],
      "metadata": {
        "colab": {
          "base_uri": "https://localhost:8080/",
          "height": 1000,
          "referenced_widgets": [
            "9c2a3ebb4a1c447aa4774e3d3acecff9",
            "95ad29b74b7a420989378f6a2678d095",
            "c8422f40cdcb4286a4b52bf7681548fd",
            "46216ee9a3894c28ab2932ac273371ec",
            "39a44b72995e4a7d8249beae071845e6",
            "28eb948d2b2e42608aefce14aae7353c",
            "7093270673da4bce8392261fcc9ae485",
            "1d22669247a0464fbf24c8e76a6aa7dc",
            "723632267592470185884dcfd91334e9",
            "0325e18cadce49c4b773ac9d1e8ceac9",
            "055cd63f5cb244569357e18a229301b6",
            "47597a820417476bb9dc33ba7b8e2d54",
            "070cb1f3c8eb44429217fc1e5d1a3fb3",
            "78155094192b47cb899e19250e0d4179",
            "72e80a0266254bc1805a60e185a5b5a6",
            "286a062bf0fc4e23ad5ab388d0d09e30",
            "deb810ff77374e8d9b5c66ceb02de558",
            "ec75a9715a4a4ef1be29c4600c5eaa7d",
            "6e7ce4597bf84507a46eed098b9ac046",
            "a13f3f50739547c18ba91dc2ce600bd7",
            "3de12660cde24ee2943a6bb39ac18b23",
            "a9bf46b7037347629967e52996229c18",
            "863f6e3e1b6341c29e679d3d188068e8",
            "f0287edeec674e3795b3c193a20c5f7b",
            "0cc8d2816c6f4898a579c591cfac76e8",
            "1dd87fd1dda544c8afd30ed887024e8e",
            "8ba136b233c64b168f13be02db235861",
            "f91839e0e2f4426c8569356a81c8bfb8",
            "992411d3a7ea4ad1abb62a18073c5a70",
            "344d1508f2fe49d194032f11954bbb00",
            "182bc3b7668849f3aeb167cfc75a072f",
            "16f76f38292b4183838988c1b4089f68",
            "f0df07e65e914307b1dc74360142aaad",
            "ebdee37126b74748b2d77d1881600368",
            "2b7b913a22d64a4ab691c25958b16f6e",
            "32afec1c49434c0faf8be2fb91805ce3",
            "399a0ba359c348aaa175a620f8198384",
            "da39ca009dbf4f38a202a44043eeac4d",
            "62e18376f08a4c719e05c59b1b3cb684",
            "336dd3e2fa974b1e84bd130b608bf9d0",
            "19b7731fb3d4490f8bed31befb084c66",
            "e615ad2689af4b9296ff6b66898342c9",
            "7bcf16f1352d44ebb35370914036da6a",
            "01908406774e4e31ada5fdf0084febe4",
            "314e67380a7d492aa1d19a19d273ca1e",
            "2b28aaf3785d4052bdc072d870f25cc2",
            "c8995fabc77a412da39e21c4cf1c1c76",
            "4b7424889aae416b804ac2847cac51bf",
            "95bac6fb2dfe4fecac2f69e7709c445e",
            "21091eeb42d8418eb77cc7a4d9cb2d0b",
            "5bdaafbc175c46fda7bbbdfef2fc9be5",
            "01aa9747fcb94ec8b9916366bc0a6274",
            "fbd789426a394b4c92ad52dd8fd066f3",
            "431c2039288945a382bbdd932e5461b3",
            "5d26d9c173d347c09c9ba73bc41a1290",
            "381e865dc10c4fefbdb95a9f11c1189e",
            "a584ccde96de4407a1e53724fe763ddd",
            "861eff0ab9ff40a385050ffaa97d75fa",
            "eabfd083890d4a9d8c4246dce6b39a8b",
            "57921156a18d411ca488fe083926d2f0",
            "3ae5d4b3d91b4e409ac3352927512b84",
            "41074232a7c442ec87d6cd8bdf1bd931",
            "a6c26f2928c24bae84eda78a73194ed9",
            "6205f686e8434192a9a017c808b3c8b7",
            "e8127cffdc6b47ba891042ce10489333",
            "7e056b9cc5a444f5a3de6b22446e2d1d",
            "e48546dacda940e3af1dc96efb571805",
            "fae7dc50a1034ace8a901e67ed4a46c0",
            "86f8c82718d84e61932730216f22fcf8",
            "23523bf8e41a4974a43ddd90fd6cf298",
            "5d18a1fd20bf42d99a69931a4f7e5f1a",
            "6c70f9bfc36d4fa39bb640052f4baa5c",
            "88a6dc1d6b6b4ddaa024da911090e075",
            "93b48d7c6f6a4ccb82e1a854021117e6",
            "88fb19a5ef5a4162b79766d5bc1e27fe",
            "7f65862bce4441e0a81f8a1e07b56665",
            "e598172d4d74477ba2bb99f67d99a9f8"
          ]
        },
        "id": "OGtly5HjwQj1",
        "outputId": "4a174622-b504-49f4-fc8d-9cda49fbe429"
      },
      "execution_count": 13,
      "outputs": [
        {
          "output_type": "stream",
          "name": "stderr",
          "text": [
            "/usr/local/lib/python3.10/dist-packages/huggingface_hub/utils/_token.py:89: UserWarning: \n",
            "The secret `HF_TOKEN` does not exist in your Colab secrets.\n",
            "To authenticate with the Hugging Face Hub, create a token in your settings tab (https://huggingface.co/settings/tokens), set it as secret in your Google Colab and restart your session.\n",
            "You will be able to reuse this secret in all of your notebooks.\n",
            "Please note that authentication is recommended but still optional to access public models or datasets.\n",
            "  warnings.warn(\n"
          ]
        },
        {
          "output_type": "display_data",
          "data": {
            "text/plain": [
              "tokenizer_config.json:   0%|          | 0.00/382 [00:00<?, ?B/s]"
            ],
            "application/vnd.jupyter.widget-view+json": {
              "version_major": 2,
              "version_minor": 0,
              "model_id": "9c2a3ebb4a1c447aa4774e3d3acecff9"
            }
          },
          "metadata": {}
        },
        {
          "output_type": "display_data",
          "data": {
            "text/plain": [
              "spm.model:   0%|          | 0.00/242k [00:00<?, ?B/s]"
            ],
            "application/vnd.jupyter.widget-view+json": {
              "version_major": 2,
              "version_minor": 0,
              "model_id": "47597a820417476bb9dc33ba7b8e2d54"
            }
          },
          "metadata": {}
        },
        {
          "output_type": "display_data",
          "data": {
            "text/plain": [
              "tokenizer.json:   0%|          | 0.00/331k [00:00<?, ?B/s]"
            ],
            "application/vnd.jupyter.widget-view+json": {
              "version_major": 2,
              "version_minor": 0,
              "model_id": "863f6e3e1b6341c29e679d3d188068e8"
            }
          },
          "metadata": {}
        },
        {
          "output_type": "display_data",
          "data": {
            "text/plain": [
              "added_tokens.json:   0%|          | 0.00/84.0 [00:00<?, ?B/s]"
            ],
            "application/vnd.jupyter.widget-view+json": {
              "version_major": 2,
              "version_minor": 0,
              "model_id": "ebdee37126b74748b2d77d1881600368"
            }
          },
          "metadata": {}
        },
        {
          "output_type": "display_data",
          "data": {
            "text/plain": [
              "special_tokens_map.json:   0%|          | 0.00/173 [00:00<?, ?B/s]"
            ],
            "application/vnd.jupyter.widget-view+json": {
              "version_major": 2,
              "version_minor": 0,
              "model_id": "314e67380a7d492aa1d19a19d273ca1e"
            }
          },
          "metadata": {}
        },
        {
          "output_type": "stream",
          "name": "stderr",
          "text": [
            "Special tokens have been added in the vocabulary, make sure the associated word embeddings are fine-tuned or trained.\n"
          ]
        },
        {
          "output_type": "display_data",
          "data": {
            "text/plain": [
              "config.json:   0%|          | 0.00/756 [00:00<?, ?B/s]"
            ],
            "application/vnd.jupyter.widget-view+json": {
              "version_major": 2,
              "version_minor": 0,
              "model_id": "381e865dc10c4fefbdb95a9f11c1189e"
            }
          },
          "metadata": {}
        },
        {
          "output_type": "display_data",
          "data": {
            "text/plain": [
              "pytorch_model.bin:   0%|          | 0.00/101M [00:00<?, ?B/s]"
            ],
            "application/vnd.jupyter.widget-view+json": {
              "version_major": 2,
              "version_minor": 0,
              "model_id": "e48546dacda940e3af1dc96efb571805"
            }
          },
          "metadata": {}
        },
        {
          "output_type": "stream",
          "name": "stdout",
          "text": [
            "IPEC_net_upd(\n",
            "  (polyBERT): DebertaV2Model(\n",
            "    (embeddings): DebertaV2Embeddings(\n",
            "      (word_embeddings): Embedding(269, 600, padding_idx=3)\n",
            "      (position_embeddings): Embedding(512, 600)\n",
            "      (LayerNorm): LayerNorm((600,), eps=1e-07, elementwise_affine=True)\n",
            "      (dropout): StableDropout()\n",
            "    )\n",
            "    (encoder): DebertaV2Encoder(\n",
            "      (layer): ModuleList(\n",
            "        (0-11): 12 x DebertaV2Layer(\n",
            "          (attention): DebertaV2Attention(\n",
            "            (self): DisentangledSelfAttention(\n",
            "              (query_proj): Linear(in_features=600, out_features=600, bias=True)\n",
            "              (key_proj): Linear(in_features=600, out_features=600, bias=True)\n",
            "              (value_proj): Linear(in_features=600, out_features=600, bias=True)\n",
            "              (dropout): StableDropout()\n",
            "            )\n",
            "            (output): DebertaV2SelfOutput(\n",
            "              (dense): Linear(in_features=600, out_features=600, bias=True)\n",
            "              (LayerNorm): LayerNorm((600,), eps=1e-07, elementwise_affine=True)\n",
            "              (dropout): StableDropout()\n",
            "            )\n",
            "          )\n",
            "          (intermediate): DebertaV2Intermediate(\n",
            "            (dense): Linear(in_features=600, out_features=512, bias=True)\n",
            "            (intermediate_act_fn): GELUActivation()\n",
            "          )\n",
            "          (output): DebertaV2Output(\n",
            "            (dense): Linear(in_features=512, out_features=600, bias=True)\n",
            "            (LayerNorm): LayerNorm((600,), eps=1e-07, elementwise_affine=True)\n",
            "            (dropout): StableDropout()\n",
            "          )\n",
            "        )\n",
            "      )\n",
            "    )\n",
            "  )\n",
            "  (feature_net): Sequential(\n",
            "    (0): Linear(in_features=188, out_features=128, bias=True)\n",
            "    (1): ReLU()\n",
            "    (2): Dropout(p=0.5, inplace=False)\n",
            "  )\n",
            "  (layers_stack_chem): Sequential(\n",
            "    (0): Linear(in_features=1200, out_features=600, bias=True)\n",
            "    (1): ReLU()\n",
            "    (2): Dropout(p=0.5, inplace=False)\n",
            "    (3): Linear(in_features=600, out_features=128, bias=True)\n",
            "    (4): ReLU()\n",
            "    (5): Dropout(p=0.5, inplace=False)\n",
            "  )\n",
            "  (layers_stack_all): Sequential(\n",
            "    (0): Linear(in_features=256, out_features=64, bias=True)\n",
            "    (1): ReLU()\n",
            "    (2): Linear(in_features=64, out_features=1, bias=True)\n",
            "  )\n",
            ")\n"
          ]
        }
      ]
    },
    {
      "cell_type": "code",
      "source": [
        "# https://drive.google.com/file/d/1uZ1R51bohBr4LcSvY-M2pVnUjjOUPFo8/view?usp=drive_link"
      ],
      "metadata": {
        "id": "bdY6NvrqDomy"
      },
      "execution_count": 14,
      "outputs": []
    },
    {
      "cell_type": "code",
      "execution_count": 15,
      "metadata": {
        "colab": {
          "base_uri": "https://localhost:8080/",
          "height": 127
        },
        "outputId": "1af955e2-aa99-4a20-d193-dbdfc7f9166c",
        "id": "g_iNkIz_Di3V"
      },
      "outputs": [
        {
          "output_type": "stream",
          "name": "stderr",
          "text": [
            "Downloading...\n",
            "From (original): https://drive.google.com/uc?id=1uZ1R51bohBr4LcSvY-M2pVnUjjOUPFo8\n",
            "From (redirected): https://drive.google.com/uc?id=1uZ1R51bohBr4LcSvY-M2pVnUjjOUPFo8&confirm=t&uuid=0775ba1b-a21e-4c6c-9aaa-3bbaf12363ff\n",
            "To: /content/epoch=71-step=1440.ckpt\n",
            "100%|██████████| 111M/111M [00:02<00:00, 42.6MB/s]\n"
          ]
        },
        {
          "output_type": "execute_result",
          "data": {
            "text/plain": [
              "'epoch=71-step=1440.ckpt'"
            ],
            "application/vnd.google.colaboratory.intrinsic+json": {
              "type": "string"
            }
          },
          "metadata": {},
          "execution_count": 15
        }
      ],
      "source": [
        "file_id = \"1uZ1R51bohBr4LcSvY-M2pVnUjjOUPFo8\"\n",
        "output = 'epoch=71-step=1440.ckpt'\n",
        "url = f'https://drive.google.com/uc?id={file_id}'\n",
        "gdown.download(url, output, quiet=False)"
      ]
    },
    {
      "cell_type": "code",
      "source": [
        "from glob import glob\n",
        "\n",
        "# Find last checkpoint\n",
        "ckpt_list = glob(\"/content/epoch=71-step=1440.ckpt\")\n",
        "ckpt_list.sort()\n",
        "ckpt_path = ckpt_list[-1]\n",
        "print(ckpt_path)"
      ],
      "metadata": {
        "colab": {
          "base_uri": "https://localhost:8080/"
        },
        "outputId": "3c5203bd-3bd9-4d35-e692-d4daaf47e12d",
        "id": "fM2YrwDODi3V"
      },
      "execution_count": 16,
      "outputs": [
        {
          "output_type": "stream",
          "name": "stdout",
          "text": [
            "/content/epoch=71-step=1440.ckpt\n"
          ]
        }
      ]
    },
    {
      "cell_type": "code",
      "source": [
        "checkpoint = torch.load(ckpt_path)\n",
        "print(f\"checkpoint keys: {checkpoint.keys()}\")\n",
        "print(f\"checkpoint['epoch'] = {checkpoint['epoch']}\")\n",
        "print(f\"checkpoint['state_dict'] keys: {checkpoint['state_dict'].keys()}\")"
      ],
      "metadata": {
        "colab": {
          "base_uri": "https://localhost:8080/"
        },
        "outputId": "efcece80-8ba8-4cc1-ace8-e909748bbefc",
        "id": "6W99DORsDi3W"
      },
      "execution_count": 17,
      "outputs": [
        {
          "output_type": "stream",
          "name": "stdout",
          "text": [
            "checkpoint keys: dict_keys(['epoch', 'global_step', 'pytorch-lightning_version', 'state_dict', 'loops', 'callbacks', 'optimizer_states', 'lr_schedulers', 'hparams_name', 'hyper_parameters'])\n",
            "checkpoint['epoch'] = 71\n",
            "checkpoint['state_dict'] keys: odict_keys(['model.polyBERT.embeddings.word_embeddings.weight', 'model.polyBERT.embeddings.position_embeddings.weight', 'model.polyBERT.embeddings.LayerNorm.weight', 'model.polyBERT.embeddings.LayerNorm.bias', 'model.polyBERT.encoder.layer.0.attention.self.query_proj.weight', 'model.polyBERT.encoder.layer.0.attention.self.query_proj.bias', 'model.polyBERT.encoder.layer.0.attention.self.key_proj.weight', 'model.polyBERT.encoder.layer.0.attention.self.key_proj.bias', 'model.polyBERT.encoder.layer.0.attention.self.value_proj.weight', 'model.polyBERT.encoder.layer.0.attention.self.value_proj.bias', 'model.polyBERT.encoder.layer.0.attention.output.dense.weight', 'model.polyBERT.encoder.layer.0.attention.output.dense.bias', 'model.polyBERT.encoder.layer.0.attention.output.LayerNorm.weight', 'model.polyBERT.encoder.layer.0.attention.output.LayerNorm.bias', 'model.polyBERT.encoder.layer.0.intermediate.dense.weight', 'model.polyBERT.encoder.layer.0.intermediate.dense.bias', 'model.polyBERT.encoder.layer.0.output.dense.weight', 'model.polyBERT.encoder.layer.0.output.dense.bias', 'model.polyBERT.encoder.layer.0.output.LayerNorm.weight', 'model.polyBERT.encoder.layer.0.output.LayerNorm.bias', 'model.polyBERT.encoder.layer.1.attention.self.query_proj.weight', 'model.polyBERT.encoder.layer.1.attention.self.query_proj.bias', 'model.polyBERT.encoder.layer.1.attention.self.key_proj.weight', 'model.polyBERT.encoder.layer.1.attention.self.key_proj.bias', 'model.polyBERT.encoder.layer.1.attention.self.value_proj.weight', 'model.polyBERT.encoder.layer.1.attention.self.value_proj.bias', 'model.polyBERT.encoder.layer.1.attention.output.dense.weight', 'model.polyBERT.encoder.layer.1.attention.output.dense.bias', 'model.polyBERT.encoder.layer.1.attention.output.LayerNorm.weight', 'model.polyBERT.encoder.layer.1.attention.output.LayerNorm.bias', 'model.polyBERT.encoder.layer.1.intermediate.dense.weight', 'model.polyBERT.encoder.layer.1.intermediate.dense.bias', 'model.polyBERT.encoder.layer.1.output.dense.weight', 'model.polyBERT.encoder.layer.1.output.dense.bias', 'model.polyBERT.encoder.layer.1.output.LayerNorm.weight', 'model.polyBERT.encoder.layer.1.output.LayerNorm.bias', 'model.polyBERT.encoder.layer.2.attention.self.query_proj.weight', 'model.polyBERT.encoder.layer.2.attention.self.query_proj.bias', 'model.polyBERT.encoder.layer.2.attention.self.key_proj.weight', 'model.polyBERT.encoder.layer.2.attention.self.key_proj.bias', 'model.polyBERT.encoder.layer.2.attention.self.value_proj.weight', 'model.polyBERT.encoder.layer.2.attention.self.value_proj.bias', 'model.polyBERT.encoder.layer.2.attention.output.dense.weight', 'model.polyBERT.encoder.layer.2.attention.output.dense.bias', 'model.polyBERT.encoder.layer.2.attention.output.LayerNorm.weight', 'model.polyBERT.encoder.layer.2.attention.output.LayerNorm.bias', 'model.polyBERT.encoder.layer.2.intermediate.dense.weight', 'model.polyBERT.encoder.layer.2.intermediate.dense.bias', 'model.polyBERT.encoder.layer.2.output.dense.weight', 'model.polyBERT.encoder.layer.2.output.dense.bias', 'model.polyBERT.encoder.layer.2.output.LayerNorm.weight', 'model.polyBERT.encoder.layer.2.output.LayerNorm.bias', 'model.polyBERT.encoder.layer.3.attention.self.query_proj.weight', 'model.polyBERT.encoder.layer.3.attention.self.query_proj.bias', 'model.polyBERT.encoder.layer.3.attention.self.key_proj.weight', 'model.polyBERT.encoder.layer.3.attention.self.key_proj.bias', 'model.polyBERT.encoder.layer.3.attention.self.value_proj.weight', 'model.polyBERT.encoder.layer.3.attention.self.value_proj.bias', 'model.polyBERT.encoder.layer.3.attention.output.dense.weight', 'model.polyBERT.encoder.layer.3.attention.output.dense.bias', 'model.polyBERT.encoder.layer.3.attention.output.LayerNorm.weight', 'model.polyBERT.encoder.layer.3.attention.output.LayerNorm.bias', 'model.polyBERT.encoder.layer.3.intermediate.dense.weight', 'model.polyBERT.encoder.layer.3.intermediate.dense.bias', 'model.polyBERT.encoder.layer.3.output.dense.weight', 'model.polyBERT.encoder.layer.3.output.dense.bias', 'model.polyBERT.encoder.layer.3.output.LayerNorm.weight', 'model.polyBERT.encoder.layer.3.output.LayerNorm.bias', 'model.polyBERT.encoder.layer.4.attention.self.query_proj.weight', 'model.polyBERT.encoder.layer.4.attention.self.query_proj.bias', 'model.polyBERT.encoder.layer.4.attention.self.key_proj.weight', 'model.polyBERT.encoder.layer.4.attention.self.key_proj.bias', 'model.polyBERT.encoder.layer.4.attention.self.value_proj.weight', 'model.polyBERT.encoder.layer.4.attention.self.value_proj.bias', 'model.polyBERT.encoder.layer.4.attention.output.dense.weight', 'model.polyBERT.encoder.layer.4.attention.output.dense.bias', 'model.polyBERT.encoder.layer.4.attention.output.LayerNorm.weight', 'model.polyBERT.encoder.layer.4.attention.output.LayerNorm.bias', 'model.polyBERT.encoder.layer.4.intermediate.dense.weight', 'model.polyBERT.encoder.layer.4.intermediate.dense.bias', 'model.polyBERT.encoder.layer.4.output.dense.weight', 'model.polyBERT.encoder.layer.4.output.dense.bias', 'model.polyBERT.encoder.layer.4.output.LayerNorm.weight', 'model.polyBERT.encoder.layer.4.output.LayerNorm.bias', 'model.polyBERT.encoder.layer.5.attention.self.query_proj.weight', 'model.polyBERT.encoder.layer.5.attention.self.query_proj.bias', 'model.polyBERT.encoder.layer.5.attention.self.key_proj.weight', 'model.polyBERT.encoder.layer.5.attention.self.key_proj.bias', 'model.polyBERT.encoder.layer.5.attention.self.value_proj.weight', 'model.polyBERT.encoder.layer.5.attention.self.value_proj.bias', 'model.polyBERT.encoder.layer.5.attention.output.dense.weight', 'model.polyBERT.encoder.layer.5.attention.output.dense.bias', 'model.polyBERT.encoder.layer.5.attention.output.LayerNorm.weight', 'model.polyBERT.encoder.layer.5.attention.output.LayerNorm.bias', 'model.polyBERT.encoder.layer.5.intermediate.dense.weight', 'model.polyBERT.encoder.layer.5.intermediate.dense.bias', 'model.polyBERT.encoder.layer.5.output.dense.weight', 'model.polyBERT.encoder.layer.5.output.dense.bias', 'model.polyBERT.encoder.layer.5.output.LayerNorm.weight', 'model.polyBERT.encoder.layer.5.output.LayerNorm.bias', 'model.polyBERT.encoder.layer.6.attention.self.query_proj.weight', 'model.polyBERT.encoder.layer.6.attention.self.query_proj.bias', 'model.polyBERT.encoder.layer.6.attention.self.key_proj.weight', 'model.polyBERT.encoder.layer.6.attention.self.key_proj.bias', 'model.polyBERT.encoder.layer.6.attention.self.value_proj.weight', 'model.polyBERT.encoder.layer.6.attention.self.value_proj.bias', 'model.polyBERT.encoder.layer.6.attention.output.dense.weight', 'model.polyBERT.encoder.layer.6.attention.output.dense.bias', 'model.polyBERT.encoder.layer.6.attention.output.LayerNorm.weight', 'model.polyBERT.encoder.layer.6.attention.output.LayerNorm.bias', 'model.polyBERT.encoder.layer.6.intermediate.dense.weight', 'model.polyBERT.encoder.layer.6.intermediate.dense.bias', 'model.polyBERT.encoder.layer.6.output.dense.weight', 'model.polyBERT.encoder.layer.6.output.dense.bias', 'model.polyBERT.encoder.layer.6.output.LayerNorm.weight', 'model.polyBERT.encoder.layer.6.output.LayerNorm.bias', 'model.polyBERT.encoder.layer.7.attention.self.query_proj.weight', 'model.polyBERT.encoder.layer.7.attention.self.query_proj.bias', 'model.polyBERT.encoder.layer.7.attention.self.key_proj.weight', 'model.polyBERT.encoder.layer.7.attention.self.key_proj.bias', 'model.polyBERT.encoder.layer.7.attention.self.value_proj.weight', 'model.polyBERT.encoder.layer.7.attention.self.value_proj.bias', 'model.polyBERT.encoder.layer.7.attention.output.dense.weight', 'model.polyBERT.encoder.layer.7.attention.output.dense.bias', 'model.polyBERT.encoder.layer.7.attention.output.LayerNorm.weight', 'model.polyBERT.encoder.layer.7.attention.output.LayerNorm.bias', 'model.polyBERT.encoder.layer.7.intermediate.dense.weight', 'model.polyBERT.encoder.layer.7.intermediate.dense.bias', 'model.polyBERT.encoder.layer.7.output.dense.weight', 'model.polyBERT.encoder.layer.7.output.dense.bias', 'model.polyBERT.encoder.layer.7.output.LayerNorm.weight', 'model.polyBERT.encoder.layer.7.output.LayerNorm.bias', 'model.polyBERT.encoder.layer.8.attention.self.query_proj.weight', 'model.polyBERT.encoder.layer.8.attention.self.query_proj.bias', 'model.polyBERT.encoder.layer.8.attention.self.key_proj.weight', 'model.polyBERT.encoder.layer.8.attention.self.key_proj.bias', 'model.polyBERT.encoder.layer.8.attention.self.value_proj.weight', 'model.polyBERT.encoder.layer.8.attention.self.value_proj.bias', 'model.polyBERT.encoder.layer.8.attention.output.dense.weight', 'model.polyBERT.encoder.layer.8.attention.output.dense.bias', 'model.polyBERT.encoder.layer.8.attention.output.LayerNorm.weight', 'model.polyBERT.encoder.layer.8.attention.output.LayerNorm.bias', 'model.polyBERT.encoder.layer.8.intermediate.dense.weight', 'model.polyBERT.encoder.layer.8.intermediate.dense.bias', 'model.polyBERT.encoder.layer.8.output.dense.weight', 'model.polyBERT.encoder.layer.8.output.dense.bias', 'model.polyBERT.encoder.layer.8.output.LayerNorm.weight', 'model.polyBERT.encoder.layer.8.output.LayerNorm.bias', 'model.polyBERT.encoder.layer.9.attention.self.query_proj.weight', 'model.polyBERT.encoder.layer.9.attention.self.query_proj.bias', 'model.polyBERT.encoder.layer.9.attention.self.key_proj.weight', 'model.polyBERT.encoder.layer.9.attention.self.key_proj.bias', 'model.polyBERT.encoder.layer.9.attention.self.value_proj.weight', 'model.polyBERT.encoder.layer.9.attention.self.value_proj.bias', 'model.polyBERT.encoder.layer.9.attention.output.dense.weight', 'model.polyBERT.encoder.layer.9.attention.output.dense.bias', 'model.polyBERT.encoder.layer.9.attention.output.LayerNorm.weight', 'model.polyBERT.encoder.layer.9.attention.output.LayerNorm.bias', 'model.polyBERT.encoder.layer.9.intermediate.dense.weight', 'model.polyBERT.encoder.layer.9.intermediate.dense.bias', 'model.polyBERT.encoder.layer.9.output.dense.weight', 'model.polyBERT.encoder.layer.9.output.dense.bias', 'model.polyBERT.encoder.layer.9.output.LayerNorm.weight', 'model.polyBERT.encoder.layer.9.output.LayerNorm.bias', 'model.polyBERT.encoder.layer.10.attention.self.query_proj.weight', 'model.polyBERT.encoder.layer.10.attention.self.query_proj.bias', 'model.polyBERT.encoder.layer.10.attention.self.key_proj.weight', 'model.polyBERT.encoder.layer.10.attention.self.key_proj.bias', 'model.polyBERT.encoder.layer.10.attention.self.value_proj.weight', 'model.polyBERT.encoder.layer.10.attention.self.value_proj.bias', 'model.polyBERT.encoder.layer.10.attention.output.dense.weight', 'model.polyBERT.encoder.layer.10.attention.output.dense.bias', 'model.polyBERT.encoder.layer.10.attention.output.LayerNorm.weight', 'model.polyBERT.encoder.layer.10.attention.output.LayerNorm.bias', 'model.polyBERT.encoder.layer.10.intermediate.dense.weight', 'model.polyBERT.encoder.layer.10.intermediate.dense.bias', 'model.polyBERT.encoder.layer.10.output.dense.weight', 'model.polyBERT.encoder.layer.10.output.dense.bias', 'model.polyBERT.encoder.layer.10.output.LayerNorm.weight', 'model.polyBERT.encoder.layer.10.output.LayerNorm.bias', 'model.polyBERT.encoder.layer.11.attention.self.query_proj.weight', 'model.polyBERT.encoder.layer.11.attention.self.query_proj.bias', 'model.polyBERT.encoder.layer.11.attention.self.key_proj.weight', 'model.polyBERT.encoder.layer.11.attention.self.key_proj.bias', 'model.polyBERT.encoder.layer.11.attention.self.value_proj.weight', 'model.polyBERT.encoder.layer.11.attention.self.value_proj.bias', 'model.polyBERT.encoder.layer.11.attention.output.dense.weight', 'model.polyBERT.encoder.layer.11.attention.output.dense.bias', 'model.polyBERT.encoder.layer.11.attention.output.LayerNorm.weight', 'model.polyBERT.encoder.layer.11.attention.output.LayerNorm.bias', 'model.polyBERT.encoder.layer.11.intermediate.dense.weight', 'model.polyBERT.encoder.layer.11.intermediate.dense.bias', 'model.polyBERT.encoder.layer.11.output.dense.weight', 'model.polyBERT.encoder.layer.11.output.dense.bias', 'model.polyBERT.encoder.layer.11.output.LayerNorm.weight', 'model.polyBERT.encoder.layer.11.output.LayerNorm.bias', 'model.feature_net.0.weight', 'model.feature_net.0.bias', 'model.layers_stack_chem.0.weight', 'model.layers_stack_chem.0.bias', 'model.layers_stack_chem.3.weight', 'model.layers_stack_chem.3.bias', 'model.layers_stack_all.0.weight', 'model.layers_stack_all.0.bias', 'model.layers_stack_all.2.weight', 'model.layers_stack_all.2.bias'])\n"
          ]
        }
      ]
    },
    {
      "cell_type": "code",
      "source": [
        "print(f\"checkpoint['state_dict'] keys: {checkpoint['state_dict'].keys()}\")\n",
        "print(f\"model.state_dict keys: {model.state_dict().keys()}\")"
      ],
      "metadata": {
        "colab": {
          "base_uri": "https://localhost:8080/"
        },
        "outputId": "aabd7790-de72-40e6-df73-b607394b6cdc",
        "id": "KzHAf9fkDi3W"
      },
      "execution_count": 18,
      "outputs": [
        {
          "output_type": "stream",
          "name": "stdout",
          "text": [
            "checkpoint['state_dict'] keys: odict_keys(['model.polyBERT.embeddings.word_embeddings.weight', 'model.polyBERT.embeddings.position_embeddings.weight', 'model.polyBERT.embeddings.LayerNorm.weight', 'model.polyBERT.embeddings.LayerNorm.bias', 'model.polyBERT.encoder.layer.0.attention.self.query_proj.weight', 'model.polyBERT.encoder.layer.0.attention.self.query_proj.bias', 'model.polyBERT.encoder.layer.0.attention.self.key_proj.weight', 'model.polyBERT.encoder.layer.0.attention.self.key_proj.bias', 'model.polyBERT.encoder.layer.0.attention.self.value_proj.weight', 'model.polyBERT.encoder.layer.0.attention.self.value_proj.bias', 'model.polyBERT.encoder.layer.0.attention.output.dense.weight', 'model.polyBERT.encoder.layer.0.attention.output.dense.bias', 'model.polyBERT.encoder.layer.0.attention.output.LayerNorm.weight', 'model.polyBERT.encoder.layer.0.attention.output.LayerNorm.bias', 'model.polyBERT.encoder.layer.0.intermediate.dense.weight', 'model.polyBERT.encoder.layer.0.intermediate.dense.bias', 'model.polyBERT.encoder.layer.0.output.dense.weight', 'model.polyBERT.encoder.layer.0.output.dense.bias', 'model.polyBERT.encoder.layer.0.output.LayerNorm.weight', 'model.polyBERT.encoder.layer.0.output.LayerNorm.bias', 'model.polyBERT.encoder.layer.1.attention.self.query_proj.weight', 'model.polyBERT.encoder.layer.1.attention.self.query_proj.bias', 'model.polyBERT.encoder.layer.1.attention.self.key_proj.weight', 'model.polyBERT.encoder.layer.1.attention.self.key_proj.bias', 'model.polyBERT.encoder.layer.1.attention.self.value_proj.weight', 'model.polyBERT.encoder.layer.1.attention.self.value_proj.bias', 'model.polyBERT.encoder.layer.1.attention.output.dense.weight', 'model.polyBERT.encoder.layer.1.attention.output.dense.bias', 'model.polyBERT.encoder.layer.1.attention.output.LayerNorm.weight', 'model.polyBERT.encoder.layer.1.attention.output.LayerNorm.bias', 'model.polyBERT.encoder.layer.1.intermediate.dense.weight', 'model.polyBERT.encoder.layer.1.intermediate.dense.bias', 'model.polyBERT.encoder.layer.1.output.dense.weight', 'model.polyBERT.encoder.layer.1.output.dense.bias', 'model.polyBERT.encoder.layer.1.output.LayerNorm.weight', 'model.polyBERT.encoder.layer.1.output.LayerNorm.bias', 'model.polyBERT.encoder.layer.2.attention.self.query_proj.weight', 'model.polyBERT.encoder.layer.2.attention.self.query_proj.bias', 'model.polyBERT.encoder.layer.2.attention.self.key_proj.weight', 'model.polyBERT.encoder.layer.2.attention.self.key_proj.bias', 'model.polyBERT.encoder.layer.2.attention.self.value_proj.weight', 'model.polyBERT.encoder.layer.2.attention.self.value_proj.bias', 'model.polyBERT.encoder.layer.2.attention.output.dense.weight', 'model.polyBERT.encoder.layer.2.attention.output.dense.bias', 'model.polyBERT.encoder.layer.2.attention.output.LayerNorm.weight', 'model.polyBERT.encoder.layer.2.attention.output.LayerNorm.bias', 'model.polyBERT.encoder.layer.2.intermediate.dense.weight', 'model.polyBERT.encoder.layer.2.intermediate.dense.bias', 'model.polyBERT.encoder.layer.2.output.dense.weight', 'model.polyBERT.encoder.layer.2.output.dense.bias', 'model.polyBERT.encoder.layer.2.output.LayerNorm.weight', 'model.polyBERT.encoder.layer.2.output.LayerNorm.bias', 'model.polyBERT.encoder.layer.3.attention.self.query_proj.weight', 'model.polyBERT.encoder.layer.3.attention.self.query_proj.bias', 'model.polyBERT.encoder.layer.3.attention.self.key_proj.weight', 'model.polyBERT.encoder.layer.3.attention.self.key_proj.bias', 'model.polyBERT.encoder.layer.3.attention.self.value_proj.weight', 'model.polyBERT.encoder.layer.3.attention.self.value_proj.bias', 'model.polyBERT.encoder.layer.3.attention.output.dense.weight', 'model.polyBERT.encoder.layer.3.attention.output.dense.bias', 'model.polyBERT.encoder.layer.3.attention.output.LayerNorm.weight', 'model.polyBERT.encoder.layer.3.attention.output.LayerNorm.bias', 'model.polyBERT.encoder.layer.3.intermediate.dense.weight', 'model.polyBERT.encoder.layer.3.intermediate.dense.bias', 'model.polyBERT.encoder.layer.3.output.dense.weight', 'model.polyBERT.encoder.layer.3.output.dense.bias', 'model.polyBERT.encoder.layer.3.output.LayerNorm.weight', 'model.polyBERT.encoder.layer.3.output.LayerNorm.bias', 'model.polyBERT.encoder.layer.4.attention.self.query_proj.weight', 'model.polyBERT.encoder.layer.4.attention.self.query_proj.bias', 'model.polyBERT.encoder.layer.4.attention.self.key_proj.weight', 'model.polyBERT.encoder.layer.4.attention.self.key_proj.bias', 'model.polyBERT.encoder.layer.4.attention.self.value_proj.weight', 'model.polyBERT.encoder.layer.4.attention.self.value_proj.bias', 'model.polyBERT.encoder.layer.4.attention.output.dense.weight', 'model.polyBERT.encoder.layer.4.attention.output.dense.bias', 'model.polyBERT.encoder.layer.4.attention.output.LayerNorm.weight', 'model.polyBERT.encoder.layer.4.attention.output.LayerNorm.bias', 'model.polyBERT.encoder.layer.4.intermediate.dense.weight', 'model.polyBERT.encoder.layer.4.intermediate.dense.bias', 'model.polyBERT.encoder.layer.4.output.dense.weight', 'model.polyBERT.encoder.layer.4.output.dense.bias', 'model.polyBERT.encoder.layer.4.output.LayerNorm.weight', 'model.polyBERT.encoder.layer.4.output.LayerNorm.bias', 'model.polyBERT.encoder.layer.5.attention.self.query_proj.weight', 'model.polyBERT.encoder.layer.5.attention.self.query_proj.bias', 'model.polyBERT.encoder.layer.5.attention.self.key_proj.weight', 'model.polyBERT.encoder.layer.5.attention.self.key_proj.bias', 'model.polyBERT.encoder.layer.5.attention.self.value_proj.weight', 'model.polyBERT.encoder.layer.5.attention.self.value_proj.bias', 'model.polyBERT.encoder.layer.5.attention.output.dense.weight', 'model.polyBERT.encoder.layer.5.attention.output.dense.bias', 'model.polyBERT.encoder.layer.5.attention.output.LayerNorm.weight', 'model.polyBERT.encoder.layer.5.attention.output.LayerNorm.bias', 'model.polyBERT.encoder.layer.5.intermediate.dense.weight', 'model.polyBERT.encoder.layer.5.intermediate.dense.bias', 'model.polyBERT.encoder.layer.5.output.dense.weight', 'model.polyBERT.encoder.layer.5.output.dense.bias', 'model.polyBERT.encoder.layer.5.output.LayerNorm.weight', 'model.polyBERT.encoder.layer.5.output.LayerNorm.bias', 'model.polyBERT.encoder.layer.6.attention.self.query_proj.weight', 'model.polyBERT.encoder.layer.6.attention.self.query_proj.bias', 'model.polyBERT.encoder.layer.6.attention.self.key_proj.weight', 'model.polyBERT.encoder.layer.6.attention.self.key_proj.bias', 'model.polyBERT.encoder.layer.6.attention.self.value_proj.weight', 'model.polyBERT.encoder.layer.6.attention.self.value_proj.bias', 'model.polyBERT.encoder.layer.6.attention.output.dense.weight', 'model.polyBERT.encoder.layer.6.attention.output.dense.bias', 'model.polyBERT.encoder.layer.6.attention.output.LayerNorm.weight', 'model.polyBERT.encoder.layer.6.attention.output.LayerNorm.bias', 'model.polyBERT.encoder.layer.6.intermediate.dense.weight', 'model.polyBERT.encoder.layer.6.intermediate.dense.bias', 'model.polyBERT.encoder.layer.6.output.dense.weight', 'model.polyBERT.encoder.layer.6.output.dense.bias', 'model.polyBERT.encoder.layer.6.output.LayerNorm.weight', 'model.polyBERT.encoder.layer.6.output.LayerNorm.bias', 'model.polyBERT.encoder.layer.7.attention.self.query_proj.weight', 'model.polyBERT.encoder.layer.7.attention.self.query_proj.bias', 'model.polyBERT.encoder.layer.7.attention.self.key_proj.weight', 'model.polyBERT.encoder.layer.7.attention.self.key_proj.bias', 'model.polyBERT.encoder.layer.7.attention.self.value_proj.weight', 'model.polyBERT.encoder.layer.7.attention.self.value_proj.bias', 'model.polyBERT.encoder.layer.7.attention.output.dense.weight', 'model.polyBERT.encoder.layer.7.attention.output.dense.bias', 'model.polyBERT.encoder.layer.7.attention.output.LayerNorm.weight', 'model.polyBERT.encoder.layer.7.attention.output.LayerNorm.bias', 'model.polyBERT.encoder.layer.7.intermediate.dense.weight', 'model.polyBERT.encoder.layer.7.intermediate.dense.bias', 'model.polyBERT.encoder.layer.7.output.dense.weight', 'model.polyBERT.encoder.layer.7.output.dense.bias', 'model.polyBERT.encoder.layer.7.output.LayerNorm.weight', 'model.polyBERT.encoder.layer.7.output.LayerNorm.bias', 'model.polyBERT.encoder.layer.8.attention.self.query_proj.weight', 'model.polyBERT.encoder.layer.8.attention.self.query_proj.bias', 'model.polyBERT.encoder.layer.8.attention.self.key_proj.weight', 'model.polyBERT.encoder.layer.8.attention.self.key_proj.bias', 'model.polyBERT.encoder.layer.8.attention.self.value_proj.weight', 'model.polyBERT.encoder.layer.8.attention.self.value_proj.bias', 'model.polyBERT.encoder.layer.8.attention.output.dense.weight', 'model.polyBERT.encoder.layer.8.attention.output.dense.bias', 'model.polyBERT.encoder.layer.8.attention.output.LayerNorm.weight', 'model.polyBERT.encoder.layer.8.attention.output.LayerNorm.bias', 'model.polyBERT.encoder.layer.8.intermediate.dense.weight', 'model.polyBERT.encoder.layer.8.intermediate.dense.bias', 'model.polyBERT.encoder.layer.8.output.dense.weight', 'model.polyBERT.encoder.layer.8.output.dense.bias', 'model.polyBERT.encoder.layer.8.output.LayerNorm.weight', 'model.polyBERT.encoder.layer.8.output.LayerNorm.bias', 'model.polyBERT.encoder.layer.9.attention.self.query_proj.weight', 'model.polyBERT.encoder.layer.9.attention.self.query_proj.bias', 'model.polyBERT.encoder.layer.9.attention.self.key_proj.weight', 'model.polyBERT.encoder.layer.9.attention.self.key_proj.bias', 'model.polyBERT.encoder.layer.9.attention.self.value_proj.weight', 'model.polyBERT.encoder.layer.9.attention.self.value_proj.bias', 'model.polyBERT.encoder.layer.9.attention.output.dense.weight', 'model.polyBERT.encoder.layer.9.attention.output.dense.bias', 'model.polyBERT.encoder.layer.9.attention.output.LayerNorm.weight', 'model.polyBERT.encoder.layer.9.attention.output.LayerNorm.bias', 'model.polyBERT.encoder.layer.9.intermediate.dense.weight', 'model.polyBERT.encoder.layer.9.intermediate.dense.bias', 'model.polyBERT.encoder.layer.9.output.dense.weight', 'model.polyBERT.encoder.layer.9.output.dense.bias', 'model.polyBERT.encoder.layer.9.output.LayerNorm.weight', 'model.polyBERT.encoder.layer.9.output.LayerNorm.bias', 'model.polyBERT.encoder.layer.10.attention.self.query_proj.weight', 'model.polyBERT.encoder.layer.10.attention.self.query_proj.bias', 'model.polyBERT.encoder.layer.10.attention.self.key_proj.weight', 'model.polyBERT.encoder.layer.10.attention.self.key_proj.bias', 'model.polyBERT.encoder.layer.10.attention.self.value_proj.weight', 'model.polyBERT.encoder.layer.10.attention.self.value_proj.bias', 'model.polyBERT.encoder.layer.10.attention.output.dense.weight', 'model.polyBERT.encoder.layer.10.attention.output.dense.bias', 'model.polyBERT.encoder.layer.10.attention.output.LayerNorm.weight', 'model.polyBERT.encoder.layer.10.attention.output.LayerNorm.bias', 'model.polyBERT.encoder.layer.10.intermediate.dense.weight', 'model.polyBERT.encoder.layer.10.intermediate.dense.bias', 'model.polyBERT.encoder.layer.10.output.dense.weight', 'model.polyBERT.encoder.layer.10.output.dense.bias', 'model.polyBERT.encoder.layer.10.output.LayerNorm.weight', 'model.polyBERT.encoder.layer.10.output.LayerNorm.bias', 'model.polyBERT.encoder.layer.11.attention.self.query_proj.weight', 'model.polyBERT.encoder.layer.11.attention.self.query_proj.bias', 'model.polyBERT.encoder.layer.11.attention.self.key_proj.weight', 'model.polyBERT.encoder.layer.11.attention.self.key_proj.bias', 'model.polyBERT.encoder.layer.11.attention.self.value_proj.weight', 'model.polyBERT.encoder.layer.11.attention.self.value_proj.bias', 'model.polyBERT.encoder.layer.11.attention.output.dense.weight', 'model.polyBERT.encoder.layer.11.attention.output.dense.bias', 'model.polyBERT.encoder.layer.11.attention.output.LayerNorm.weight', 'model.polyBERT.encoder.layer.11.attention.output.LayerNorm.bias', 'model.polyBERT.encoder.layer.11.intermediate.dense.weight', 'model.polyBERT.encoder.layer.11.intermediate.dense.bias', 'model.polyBERT.encoder.layer.11.output.dense.weight', 'model.polyBERT.encoder.layer.11.output.dense.bias', 'model.polyBERT.encoder.layer.11.output.LayerNorm.weight', 'model.polyBERT.encoder.layer.11.output.LayerNorm.bias', 'model.feature_net.0.weight', 'model.feature_net.0.bias', 'model.layers_stack_chem.0.weight', 'model.layers_stack_chem.0.bias', 'model.layers_stack_chem.3.weight', 'model.layers_stack_chem.3.bias', 'model.layers_stack_all.0.weight', 'model.layers_stack_all.0.bias', 'model.layers_stack_all.2.weight', 'model.layers_stack_all.2.bias'])\n",
            "model.state_dict keys: odict_keys(['polyBERT.embeddings.word_embeddings.weight', 'polyBERT.embeddings.position_embeddings.weight', 'polyBERT.embeddings.LayerNorm.weight', 'polyBERT.embeddings.LayerNorm.bias', 'polyBERT.encoder.layer.0.attention.self.query_proj.weight', 'polyBERT.encoder.layer.0.attention.self.query_proj.bias', 'polyBERT.encoder.layer.0.attention.self.key_proj.weight', 'polyBERT.encoder.layer.0.attention.self.key_proj.bias', 'polyBERT.encoder.layer.0.attention.self.value_proj.weight', 'polyBERT.encoder.layer.0.attention.self.value_proj.bias', 'polyBERT.encoder.layer.0.attention.output.dense.weight', 'polyBERT.encoder.layer.0.attention.output.dense.bias', 'polyBERT.encoder.layer.0.attention.output.LayerNorm.weight', 'polyBERT.encoder.layer.0.attention.output.LayerNorm.bias', 'polyBERT.encoder.layer.0.intermediate.dense.weight', 'polyBERT.encoder.layer.0.intermediate.dense.bias', 'polyBERT.encoder.layer.0.output.dense.weight', 'polyBERT.encoder.layer.0.output.dense.bias', 'polyBERT.encoder.layer.0.output.LayerNorm.weight', 'polyBERT.encoder.layer.0.output.LayerNorm.bias', 'polyBERT.encoder.layer.1.attention.self.query_proj.weight', 'polyBERT.encoder.layer.1.attention.self.query_proj.bias', 'polyBERT.encoder.layer.1.attention.self.key_proj.weight', 'polyBERT.encoder.layer.1.attention.self.key_proj.bias', 'polyBERT.encoder.layer.1.attention.self.value_proj.weight', 'polyBERT.encoder.layer.1.attention.self.value_proj.bias', 'polyBERT.encoder.layer.1.attention.output.dense.weight', 'polyBERT.encoder.layer.1.attention.output.dense.bias', 'polyBERT.encoder.layer.1.attention.output.LayerNorm.weight', 'polyBERT.encoder.layer.1.attention.output.LayerNorm.bias', 'polyBERT.encoder.layer.1.intermediate.dense.weight', 'polyBERT.encoder.layer.1.intermediate.dense.bias', 'polyBERT.encoder.layer.1.output.dense.weight', 'polyBERT.encoder.layer.1.output.dense.bias', 'polyBERT.encoder.layer.1.output.LayerNorm.weight', 'polyBERT.encoder.layer.1.output.LayerNorm.bias', 'polyBERT.encoder.layer.2.attention.self.query_proj.weight', 'polyBERT.encoder.layer.2.attention.self.query_proj.bias', 'polyBERT.encoder.layer.2.attention.self.key_proj.weight', 'polyBERT.encoder.layer.2.attention.self.key_proj.bias', 'polyBERT.encoder.layer.2.attention.self.value_proj.weight', 'polyBERT.encoder.layer.2.attention.self.value_proj.bias', 'polyBERT.encoder.layer.2.attention.output.dense.weight', 'polyBERT.encoder.layer.2.attention.output.dense.bias', 'polyBERT.encoder.layer.2.attention.output.LayerNorm.weight', 'polyBERT.encoder.layer.2.attention.output.LayerNorm.bias', 'polyBERT.encoder.layer.2.intermediate.dense.weight', 'polyBERT.encoder.layer.2.intermediate.dense.bias', 'polyBERT.encoder.layer.2.output.dense.weight', 'polyBERT.encoder.layer.2.output.dense.bias', 'polyBERT.encoder.layer.2.output.LayerNorm.weight', 'polyBERT.encoder.layer.2.output.LayerNorm.bias', 'polyBERT.encoder.layer.3.attention.self.query_proj.weight', 'polyBERT.encoder.layer.3.attention.self.query_proj.bias', 'polyBERT.encoder.layer.3.attention.self.key_proj.weight', 'polyBERT.encoder.layer.3.attention.self.key_proj.bias', 'polyBERT.encoder.layer.3.attention.self.value_proj.weight', 'polyBERT.encoder.layer.3.attention.self.value_proj.bias', 'polyBERT.encoder.layer.3.attention.output.dense.weight', 'polyBERT.encoder.layer.3.attention.output.dense.bias', 'polyBERT.encoder.layer.3.attention.output.LayerNorm.weight', 'polyBERT.encoder.layer.3.attention.output.LayerNorm.bias', 'polyBERT.encoder.layer.3.intermediate.dense.weight', 'polyBERT.encoder.layer.3.intermediate.dense.bias', 'polyBERT.encoder.layer.3.output.dense.weight', 'polyBERT.encoder.layer.3.output.dense.bias', 'polyBERT.encoder.layer.3.output.LayerNorm.weight', 'polyBERT.encoder.layer.3.output.LayerNorm.bias', 'polyBERT.encoder.layer.4.attention.self.query_proj.weight', 'polyBERT.encoder.layer.4.attention.self.query_proj.bias', 'polyBERT.encoder.layer.4.attention.self.key_proj.weight', 'polyBERT.encoder.layer.4.attention.self.key_proj.bias', 'polyBERT.encoder.layer.4.attention.self.value_proj.weight', 'polyBERT.encoder.layer.4.attention.self.value_proj.bias', 'polyBERT.encoder.layer.4.attention.output.dense.weight', 'polyBERT.encoder.layer.4.attention.output.dense.bias', 'polyBERT.encoder.layer.4.attention.output.LayerNorm.weight', 'polyBERT.encoder.layer.4.attention.output.LayerNorm.bias', 'polyBERT.encoder.layer.4.intermediate.dense.weight', 'polyBERT.encoder.layer.4.intermediate.dense.bias', 'polyBERT.encoder.layer.4.output.dense.weight', 'polyBERT.encoder.layer.4.output.dense.bias', 'polyBERT.encoder.layer.4.output.LayerNorm.weight', 'polyBERT.encoder.layer.4.output.LayerNorm.bias', 'polyBERT.encoder.layer.5.attention.self.query_proj.weight', 'polyBERT.encoder.layer.5.attention.self.query_proj.bias', 'polyBERT.encoder.layer.5.attention.self.key_proj.weight', 'polyBERT.encoder.layer.5.attention.self.key_proj.bias', 'polyBERT.encoder.layer.5.attention.self.value_proj.weight', 'polyBERT.encoder.layer.5.attention.self.value_proj.bias', 'polyBERT.encoder.layer.5.attention.output.dense.weight', 'polyBERT.encoder.layer.5.attention.output.dense.bias', 'polyBERT.encoder.layer.5.attention.output.LayerNorm.weight', 'polyBERT.encoder.layer.5.attention.output.LayerNorm.bias', 'polyBERT.encoder.layer.5.intermediate.dense.weight', 'polyBERT.encoder.layer.5.intermediate.dense.bias', 'polyBERT.encoder.layer.5.output.dense.weight', 'polyBERT.encoder.layer.5.output.dense.bias', 'polyBERT.encoder.layer.5.output.LayerNorm.weight', 'polyBERT.encoder.layer.5.output.LayerNorm.bias', 'polyBERT.encoder.layer.6.attention.self.query_proj.weight', 'polyBERT.encoder.layer.6.attention.self.query_proj.bias', 'polyBERT.encoder.layer.6.attention.self.key_proj.weight', 'polyBERT.encoder.layer.6.attention.self.key_proj.bias', 'polyBERT.encoder.layer.6.attention.self.value_proj.weight', 'polyBERT.encoder.layer.6.attention.self.value_proj.bias', 'polyBERT.encoder.layer.6.attention.output.dense.weight', 'polyBERT.encoder.layer.6.attention.output.dense.bias', 'polyBERT.encoder.layer.6.attention.output.LayerNorm.weight', 'polyBERT.encoder.layer.6.attention.output.LayerNorm.bias', 'polyBERT.encoder.layer.6.intermediate.dense.weight', 'polyBERT.encoder.layer.6.intermediate.dense.bias', 'polyBERT.encoder.layer.6.output.dense.weight', 'polyBERT.encoder.layer.6.output.dense.bias', 'polyBERT.encoder.layer.6.output.LayerNorm.weight', 'polyBERT.encoder.layer.6.output.LayerNorm.bias', 'polyBERT.encoder.layer.7.attention.self.query_proj.weight', 'polyBERT.encoder.layer.7.attention.self.query_proj.bias', 'polyBERT.encoder.layer.7.attention.self.key_proj.weight', 'polyBERT.encoder.layer.7.attention.self.key_proj.bias', 'polyBERT.encoder.layer.7.attention.self.value_proj.weight', 'polyBERT.encoder.layer.7.attention.self.value_proj.bias', 'polyBERT.encoder.layer.7.attention.output.dense.weight', 'polyBERT.encoder.layer.7.attention.output.dense.bias', 'polyBERT.encoder.layer.7.attention.output.LayerNorm.weight', 'polyBERT.encoder.layer.7.attention.output.LayerNorm.bias', 'polyBERT.encoder.layer.7.intermediate.dense.weight', 'polyBERT.encoder.layer.7.intermediate.dense.bias', 'polyBERT.encoder.layer.7.output.dense.weight', 'polyBERT.encoder.layer.7.output.dense.bias', 'polyBERT.encoder.layer.7.output.LayerNorm.weight', 'polyBERT.encoder.layer.7.output.LayerNorm.bias', 'polyBERT.encoder.layer.8.attention.self.query_proj.weight', 'polyBERT.encoder.layer.8.attention.self.query_proj.bias', 'polyBERT.encoder.layer.8.attention.self.key_proj.weight', 'polyBERT.encoder.layer.8.attention.self.key_proj.bias', 'polyBERT.encoder.layer.8.attention.self.value_proj.weight', 'polyBERT.encoder.layer.8.attention.self.value_proj.bias', 'polyBERT.encoder.layer.8.attention.output.dense.weight', 'polyBERT.encoder.layer.8.attention.output.dense.bias', 'polyBERT.encoder.layer.8.attention.output.LayerNorm.weight', 'polyBERT.encoder.layer.8.attention.output.LayerNorm.bias', 'polyBERT.encoder.layer.8.intermediate.dense.weight', 'polyBERT.encoder.layer.8.intermediate.dense.bias', 'polyBERT.encoder.layer.8.output.dense.weight', 'polyBERT.encoder.layer.8.output.dense.bias', 'polyBERT.encoder.layer.8.output.LayerNorm.weight', 'polyBERT.encoder.layer.8.output.LayerNorm.bias', 'polyBERT.encoder.layer.9.attention.self.query_proj.weight', 'polyBERT.encoder.layer.9.attention.self.query_proj.bias', 'polyBERT.encoder.layer.9.attention.self.key_proj.weight', 'polyBERT.encoder.layer.9.attention.self.key_proj.bias', 'polyBERT.encoder.layer.9.attention.self.value_proj.weight', 'polyBERT.encoder.layer.9.attention.self.value_proj.bias', 'polyBERT.encoder.layer.9.attention.output.dense.weight', 'polyBERT.encoder.layer.9.attention.output.dense.bias', 'polyBERT.encoder.layer.9.attention.output.LayerNorm.weight', 'polyBERT.encoder.layer.9.attention.output.LayerNorm.bias', 'polyBERT.encoder.layer.9.intermediate.dense.weight', 'polyBERT.encoder.layer.9.intermediate.dense.bias', 'polyBERT.encoder.layer.9.output.dense.weight', 'polyBERT.encoder.layer.9.output.dense.bias', 'polyBERT.encoder.layer.9.output.LayerNorm.weight', 'polyBERT.encoder.layer.9.output.LayerNorm.bias', 'polyBERT.encoder.layer.10.attention.self.query_proj.weight', 'polyBERT.encoder.layer.10.attention.self.query_proj.bias', 'polyBERT.encoder.layer.10.attention.self.key_proj.weight', 'polyBERT.encoder.layer.10.attention.self.key_proj.bias', 'polyBERT.encoder.layer.10.attention.self.value_proj.weight', 'polyBERT.encoder.layer.10.attention.self.value_proj.bias', 'polyBERT.encoder.layer.10.attention.output.dense.weight', 'polyBERT.encoder.layer.10.attention.output.dense.bias', 'polyBERT.encoder.layer.10.attention.output.LayerNorm.weight', 'polyBERT.encoder.layer.10.attention.output.LayerNorm.bias', 'polyBERT.encoder.layer.10.intermediate.dense.weight', 'polyBERT.encoder.layer.10.intermediate.dense.bias', 'polyBERT.encoder.layer.10.output.dense.weight', 'polyBERT.encoder.layer.10.output.dense.bias', 'polyBERT.encoder.layer.10.output.LayerNorm.weight', 'polyBERT.encoder.layer.10.output.LayerNorm.bias', 'polyBERT.encoder.layer.11.attention.self.query_proj.weight', 'polyBERT.encoder.layer.11.attention.self.query_proj.bias', 'polyBERT.encoder.layer.11.attention.self.key_proj.weight', 'polyBERT.encoder.layer.11.attention.self.key_proj.bias', 'polyBERT.encoder.layer.11.attention.self.value_proj.weight', 'polyBERT.encoder.layer.11.attention.self.value_proj.bias', 'polyBERT.encoder.layer.11.attention.output.dense.weight', 'polyBERT.encoder.layer.11.attention.output.dense.bias', 'polyBERT.encoder.layer.11.attention.output.LayerNorm.weight', 'polyBERT.encoder.layer.11.attention.output.LayerNorm.bias', 'polyBERT.encoder.layer.11.intermediate.dense.weight', 'polyBERT.encoder.layer.11.intermediate.dense.bias', 'polyBERT.encoder.layer.11.output.dense.weight', 'polyBERT.encoder.layer.11.output.dense.bias', 'polyBERT.encoder.layer.11.output.LayerNorm.weight', 'polyBERT.encoder.layer.11.output.LayerNorm.bias', 'feature_net.0.weight', 'feature_net.0.bias', 'layers_stack_chem.0.weight', 'layers_stack_chem.0.bias', 'layers_stack_chem.3.weight', 'layers_stack_chem.3.bias', 'layers_stack_all.0.weight', 'layers_stack_all.0.bias', 'layers_stack_all.2.weight', 'layers_stack_all.2.bias'])\n"
          ]
        }
      ]
    },
    {
      "cell_type": "code",
      "source": [
        "state_dict = checkpoint[\"state_dict\"]\n",
        "model_dict = {key.removeprefix(\"model.\"):val for key, val in state_dict.items()}\n",
        "model.load_state_dict(model_dict)"
      ],
      "metadata": {
        "colab": {
          "base_uri": "https://localhost:8080/"
        },
        "outputId": "cee2c864-39c4-46c1-83fe-1c0d322ba152",
        "id": "tUlA1yp_Di3W"
      },
      "execution_count": 19,
      "outputs": [
        {
          "output_type": "execute_result",
          "data": {
            "text/plain": [
              "<All keys matched successfully>"
            ]
          },
          "metadata": {},
          "execution_count": 19
        }
      ]
    },
    {
      "cell_type": "code",
      "source": [
        "from lightning.pytorch.callbacks import ModelCheckpoint\n",
        "\n",
        "checkpoint_callback = ModelCheckpoint(\n",
        "    # dirpath=\"https://drive.google.com/file/d/1N0O02IHfHswIeqEbZIdLzj1EmPWXIMR-/view?usp=drive_link\",\n",
        "    save_last=True,\n",
        "    every_n_epochs=1,\n",
        "    save_top_k=1,\n",
        "    save_weights_only=False,\n",
        "    monitor=\"r2/val\",\n",
        "    mode=\"max\",\n",
        ")"
      ],
      "metadata": {
        "id": "FgsmeVCLDi3W"
      },
      "execution_count": 20,
      "outputs": []
    },
    {
      "cell_type": "code",
      "source": [
        "from IPEC.models.trainer import LitBasic_upd\n",
        "import torch.nn as nn\n",
        "\n",
        "\n",
        "lit_model = LitBasic_upd(model, only_head=True)\n",
        "\n",
        "trainer = L.Trainer(\n",
        "    max_epochs=300,\n",
        "    callbacks=[checkpoint_callback],\n",
        "    log_every_n_steps=2,\n",
        "    logger=L.pytorch.loggers.TensorBoardLogger(save_dir=\"/content/Logs\"),\n",
        ")\n"
      ],
      "metadata": {
        "colab": {
          "base_uri": "https://localhost:8080/"
        },
        "outputId": "bbf05597-67fe-460e-f9ce-7f223f7e3f98",
        "id": "gVYIYX-EDi3W"
      },
      "execution_count": 21,
      "outputs": [
        {
          "output_type": "stream",
          "name": "stderr",
          "text": [
            "/usr/local/lib/python3.10/dist-packages/lightning/pytorch/utilities/parsing.py:208: Attribute 'model' is an instance of `nn.Module` and is already saved during checkpointing. It is recommended to ignore them using `self.save_hyperparameters(ignore=['model'])`.\n",
            "INFO:pytorch_lightning.utilities.rank_zero:GPU available: False, used: False\n",
            "INFO:pytorch_lightning.utilities.rank_zero:TPU available: False, using: 0 TPU cores\n",
            "INFO:pytorch_lightning.utilities.rank_zero:HPU available: False, using: 0 HPUs\n"
          ]
        }
      ]
    },
    {
      "cell_type": "code",
      "source": [
        "trainer.test(lit_model, dataloaders=test_loader)"
      ],
      "metadata": {
        "colab": {
          "base_uri": "https://localhost:8080/",
          "height": 305,
          "referenced_widgets": [
            "060c3165c93a458898934d26f7d37141",
            "4734d785185845a3982100163c081c08",
            "ecfbceae47754d608c21a2ff55919910",
            "15c5d227b8024dc9a3b16fe7ab196f12",
            "5da66e1bb34c493bbc78d51e36618c94",
            "a05c4e0ed45e4bcd9337e765bc589578",
            "bbe07d3b61bf414bb618531fad9290e0",
            "3c1c40365ff74239b5cdaef7be48a24e",
            "10ba9c9619bd4a6880c8b037626b73fc",
            "3ef694e0f9c949bf8dd4fd1537da255e",
            "f6f057318c004f4889f20d8c14f65626"
          ]
        },
        "outputId": "d9ad8317-1ac6-413d-94a9-b21f446486e3",
        "id": "cBmucnTgDi3X"
      },
      "execution_count": 22,
      "outputs": [
        {
          "output_type": "stream",
          "name": "stderr",
          "text": [
            "WARNING: Missing logger folder: /content/Logs/lightning_logs\n",
            "WARNING:lightning.pytorch.loggers.tensorboard:Missing logger folder: /content/Logs/lightning_logs\n"
          ]
        },
        {
          "output_type": "display_data",
          "data": {
            "text/plain": [
              "Testing: |          | 0/? [00:00<?, ?it/s]"
            ],
            "application/vnd.jupyter.widget-view+json": {
              "version_major": 2,
              "version_minor": 0,
              "model_id": "060c3165c93a458898934d26f7d37141"
            }
          },
          "metadata": {}
        },
        {
          "output_type": "stream",
          "name": "stderr",
          "text": [
            "Asking to truncate to max_length but no maximum length is provided and the model has no predefined maximum length. Default to no truncation.\n"
          ]
        },
        {
          "output_type": "display_data",
          "data": {
            "text/plain": [
              "┏━━━━━━━━━━━━━━━━━━━━━━━━━━━┳━━━━━━━━━━━━━━━━━━━━━━━━━━━┓\n",
              "┃\u001b[1m \u001b[0m\u001b[1m       Test metric       \u001b[0m\u001b[1m \u001b[0m┃\u001b[1m \u001b[0m\u001b[1m      DataLoader 0       \u001b[0m\u001b[1m \u001b[0m┃\n",
              "┡━━━━━━━━━━━━━━━━━━━━━━━━━━━╇━━━━━━━━━━━━━━━━━━━━━━━━━━━┩\n",
              "│\u001b[36m \u001b[0m\u001b[36m        MAE/test:        \u001b[0m\u001b[36m \u001b[0m│\u001b[35m \u001b[0m\u001b[35m   0.3193517327308655    \u001b[0m\u001b[35m \u001b[0m│\n",
              "│\u001b[36m \u001b[0m\u001b[36m       MAPE/test:        \u001b[0m\u001b[36m \u001b[0m│\u001b[35m \u001b[0m\u001b[35m   0.7646147608757019    \u001b[0m\u001b[35m \u001b[0m│\n",
              "│\u001b[36m \u001b[0m\u001b[36m        MSE/test:        \u001b[0m\u001b[36m \u001b[0m│\u001b[35m \u001b[0m\u001b[35m   0.17082221806049347   \u001b[0m\u001b[35m \u001b[0m│\n",
              "│\u001b[36m \u001b[0m\u001b[36m        r2/test:         \u001b[0m\u001b[36m \u001b[0m│\u001b[35m \u001b[0m\u001b[35m   0.7074999809265137    \u001b[0m\u001b[35m \u001b[0m│\n",
              "└───────────────────────────┴───────────────────────────┘\n"
            ],
            "text/html": [
              "<pre style=\"white-space:pre;overflow-x:auto;line-height:normal;font-family:Menlo,'DejaVu Sans Mono',consolas,'Courier New',monospace\">┏━━━━━━━━━━━━━━━━━━━━━━━━━━━┳━━━━━━━━━━━━━━━━━━━━━━━━━━━┓\n",
              "┃<span style=\"font-weight: bold\">        Test metric        </span>┃<span style=\"font-weight: bold\">       DataLoader 0        </span>┃\n",
              "┡━━━━━━━━━━━━━━━━━━━━━━━━━━━╇━━━━━━━━━━━━━━━━━━━━━━━━━━━┩\n",
              "│<span style=\"color: #008080; text-decoration-color: #008080\">         MAE/test:         </span>│<span style=\"color: #800080; text-decoration-color: #800080\">    0.3193517327308655     </span>│\n",
              "│<span style=\"color: #008080; text-decoration-color: #008080\">        MAPE/test:         </span>│<span style=\"color: #800080; text-decoration-color: #800080\">    0.7646147608757019     </span>│\n",
              "│<span style=\"color: #008080; text-decoration-color: #008080\">         MSE/test:         </span>│<span style=\"color: #800080; text-decoration-color: #800080\">    0.17082221806049347    </span>│\n",
              "│<span style=\"color: #008080; text-decoration-color: #008080\">         r2/test:          </span>│<span style=\"color: #800080; text-decoration-color: #800080\">    0.7074999809265137     </span>│\n",
              "└───────────────────────────┴───────────────────────────┘\n",
              "</pre>\n"
            ]
          },
          "metadata": {}
        },
        {
          "output_type": "execute_result",
          "data": {
            "text/plain": [
              "[{'r2/test: ': 0.7074999809265137,\n",
              "  'MAPE/test: ': 0.7646147608757019,\n",
              "  'MSE/test: ': 0.17082221806049347,\n",
              "  'MAE/test: ': 0.3193517327308655}]"
            ]
          },
          "metadata": {},
          "execution_count": 22
        }
      ]
    },
    {
      "cell_type": "markdown",
      "metadata": {
        "id": "ngBto8EHgUws"
      },
      "source": [
        "# model_pairing.py"
      ]
    },
    {
      "cell_type": "code",
      "source": [
        "model_pairing = IPEC_net_pairing(len(pa_list), len(pc_list), len(other_list))\n",
        "# print(model_pairing)"
      ],
      "metadata": {
        "colab": {
          "base_uri": "https://localhost:8080/"
        },
        "id": "lUQhG6fpwMLu",
        "outputId": "ff93161e-0075-4f6d-d6bc-ac88f8093126"
      },
      "execution_count": 23,
      "outputs": [
        {
          "output_type": "stream",
          "name": "stderr",
          "text": [
            "Special tokens have been added in the vocabulary, make sure the associated word embeddings are fine-tuned or trained.\n"
          ]
        }
      ]
    },
    {
      "cell_type": "code",
      "source": [
        "# https://drive.google.com/file/d/1iyLjG8jAaY0cLUJ-qS_beVoBe5QBV07F/view?usp=drive_link"
      ],
      "metadata": {
        "id": "NvJWxVapC9Ux"
      },
      "execution_count": 24,
      "outputs": []
    },
    {
      "cell_type": "code",
      "execution_count": 25,
      "metadata": {
        "colab": {
          "base_uri": "https://localhost:8080/",
          "height": 127
        },
        "outputId": "e1195576-1873-47b5-aae4-83914890b53f",
        "id": "h7TRIhg6DGAm"
      },
      "outputs": [
        {
          "output_type": "stream",
          "name": "stderr",
          "text": [
            "Downloading...\n",
            "From (original): https://drive.google.com/uc?id=1iyLjG8jAaY0cLUJ-qS_beVoBe5QBV07F\n",
            "From (redirected): https://drive.google.com/uc?id=1iyLjG8jAaY0cLUJ-qS_beVoBe5QBV07F&confirm=t&uuid=7146553f-530e-4215-b7fd-40ced8c05d62\n",
            "To: /content/epoch=13-step=280.ckpt\n",
            "100%|██████████| 104M/104M [00:01<00:00, 69.8MB/s] \n"
          ]
        },
        {
          "output_type": "execute_result",
          "data": {
            "text/plain": [
              "'epoch=13-step=280.ckpt'"
            ],
            "application/vnd.google.colaboratory.intrinsic+json": {
              "type": "string"
            }
          },
          "metadata": {},
          "execution_count": 25
        }
      ],
      "source": [
        "file_id = \"1iyLjG8jAaY0cLUJ-qS_beVoBe5QBV07F\"\n",
        "output = 'epoch=13-step=280.ckpt'\n",
        "url = f'https://drive.google.com/uc?id={file_id}'\n",
        "gdown.download(url, output, quiet=False)"
      ]
    },
    {
      "cell_type": "code",
      "source": [
        "from glob import glob\n",
        "\n",
        "# Find last checkpoint\n",
        "ckpt_list = glob(\"/content/epoch=13-step=280.ckpt\")\n",
        "ckpt_list.sort()\n",
        "ckpt_path = ckpt_list[-1]\n",
        "print(ckpt_path)"
      ],
      "metadata": {
        "colab": {
          "base_uri": "https://localhost:8080/"
        },
        "outputId": "71b1c25b-0f49-4419-d27a-87ec7a460c99",
        "id": "3PNXTRQxDGAn"
      },
      "execution_count": 26,
      "outputs": [
        {
          "output_type": "stream",
          "name": "stdout",
          "text": [
            "/content/epoch=13-step=280.ckpt\n"
          ]
        }
      ]
    },
    {
      "cell_type": "code",
      "source": [
        "checkpoint = torch.load(ckpt_path)\n",
        "print(f\"checkpoint keys: {checkpoint.keys()}\")\n",
        "print(f\"checkpoint['epoch'] = {checkpoint['epoch']}\")\n",
        "print(f\"checkpoint['state_dict'] keys: {checkpoint['state_dict'].keys()}\")"
      ],
      "metadata": {
        "colab": {
          "base_uri": "https://localhost:8080/"
        },
        "outputId": "1b28c8a6-16bd-4a11-f5be-c4b379f79aa9",
        "id": "5AQkViKUDGAn"
      },
      "execution_count": 27,
      "outputs": [
        {
          "output_type": "stream",
          "name": "stdout",
          "text": [
            "checkpoint keys: dict_keys(['epoch', 'global_step', 'pytorch-lightning_version', 'state_dict', 'loops', 'callbacks', 'optimizer_states', 'lr_schedulers', 'hparams_name', 'hyper_parameters'])\n",
            "checkpoint['epoch'] = 13\n",
            "checkpoint['state_dict'] keys: odict_keys(['model.polyBERT.embeddings.word_embeddings.weight', 'model.polyBERT.embeddings.position_embeddings.weight', 'model.polyBERT.embeddings.LayerNorm.weight', 'model.polyBERT.embeddings.LayerNorm.bias', 'model.polyBERT.encoder.layer.0.attention.self.query_proj.weight', 'model.polyBERT.encoder.layer.0.attention.self.query_proj.bias', 'model.polyBERT.encoder.layer.0.attention.self.key_proj.weight', 'model.polyBERT.encoder.layer.0.attention.self.key_proj.bias', 'model.polyBERT.encoder.layer.0.attention.self.value_proj.weight', 'model.polyBERT.encoder.layer.0.attention.self.value_proj.bias', 'model.polyBERT.encoder.layer.0.attention.output.dense.weight', 'model.polyBERT.encoder.layer.0.attention.output.dense.bias', 'model.polyBERT.encoder.layer.0.attention.output.LayerNorm.weight', 'model.polyBERT.encoder.layer.0.attention.output.LayerNorm.bias', 'model.polyBERT.encoder.layer.0.intermediate.dense.weight', 'model.polyBERT.encoder.layer.0.intermediate.dense.bias', 'model.polyBERT.encoder.layer.0.output.dense.weight', 'model.polyBERT.encoder.layer.0.output.dense.bias', 'model.polyBERT.encoder.layer.0.output.LayerNorm.weight', 'model.polyBERT.encoder.layer.0.output.LayerNorm.bias', 'model.polyBERT.encoder.layer.1.attention.self.query_proj.weight', 'model.polyBERT.encoder.layer.1.attention.self.query_proj.bias', 'model.polyBERT.encoder.layer.1.attention.self.key_proj.weight', 'model.polyBERT.encoder.layer.1.attention.self.key_proj.bias', 'model.polyBERT.encoder.layer.1.attention.self.value_proj.weight', 'model.polyBERT.encoder.layer.1.attention.self.value_proj.bias', 'model.polyBERT.encoder.layer.1.attention.output.dense.weight', 'model.polyBERT.encoder.layer.1.attention.output.dense.bias', 'model.polyBERT.encoder.layer.1.attention.output.LayerNorm.weight', 'model.polyBERT.encoder.layer.1.attention.output.LayerNorm.bias', 'model.polyBERT.encoder.layer.1.intermediate.dense.weight', 'model.polyBERT.encoder.layer.1.intermediate.dense.bias', 'model.polyBERT.encoder.layer.1.output.dense.weight', 'model.polyBERT.encoder.layer.1.output.dense.bias', 'model.polyBERT.encoder.layer.1.output.LayerNorm.weight', 'model.polyBERT.encoder.layer.1.output.LayerNorm.bias', 'model.polyBERT.encoder.layer.2.attention.self.query_proj.weight', 'model.polyBERT.encoder.layer.2.attention.self.query_proj.bias', 'model.polyBERT.encoder.layer.2.attention.self.key_proj.weight', 'model.polyBERT.encoder.layer.2.attention.self.key_proj.bias', 'model.polyBERT.encoder.layer.2.attention.self.value_proj.weight', 'model.polyBERT.encoder.layer.2.attention.self.value_proj.bias', 'model.polyBERT.encoder.layer.2.attention.output.dense.weight', 'model.polyBERT.encoder.layer.2.attention.output.dense.bias', 'model.polyBERT.encoder.layer.2.attention.output.LayerNorm.weight', 'model.polyBERT.encoder.layer.2.attention.output.LayerNorm.bias', 'model.polyBERT.encoder.layer.2.intermediate.dense.weight', 'model.polyBERT.encoder.layer.2.intermediate.dense.bias', 'model.polyBERT.encoder.layer.2.output.dense.weight', 'model.polyBERT.encoder.layer.2.output.dense.bias', 'model.polyBERT.encoder.layer.2.output.LayerNorm.weight', 'model.polyBERT.encoder.layer.2.output.LayerNorm.bias', 'model.polyBERT.encoder.layer.3.attention.self.query_proj.weight', 'model.polyBERT.encoder.layer.3.attention.self.query_proj.bias', 'model.polyBERT.encoder.layer.3.attention.self.key_proj.weight', 'model.polyBERT.encoder.layer.3.attention.self.key_proj.bias', 'model.polyBERT.encoder.layer.3.attention.self.value_proj.weight', 'model.polyBERT.encoder.layer.3.attention.self.value_proj.bias', 'model.polyBERT.encoder.layer.3.attention.output.dense.weight', 'model.polyBERT.encoder.layer.3.attention.output.dense.bias', 'model.polyBERT.encoder.layer.3.attention.output.LayerNorm.weight', 'model.polyBERT.encoder.layer.3.attention.output.LayerNorm.bias', 'model.polyBERT.encoder.layer.3.intermediate.dense.weight', 'model.polyBERT.encoder.layer.3.intermediate.dense.bias', 'model.polyBERT.encoder.layer.3.output.dense.weight', 'model.polyBERT.encoder.layer.3.output.dense.bias', 'model.polyBERT.encoder.layer.3.output.LayerNorm.weight', 'model.polyBERT.encoder.layer.3.output.LayerNorm.bias', 'model.polyBERT.encoder.layer.4.attention.self.query_proj.weight', 'model.polyBERT.encoder.layer.4.attention.self.query_proj.bias', 'model.polyBERT.encoder.layer.4.attention.self.key_proj.weight', 'model.polyBERT.encoder.layer.4.attention.self.key_proj.bias', 'model.polyBERT.encoder.layer.4.attention.self.value_proj.weight', 'model.polyBERT.encoder.layer.4.attention.self.value_proj.bias', 'model.polyBERT.encoder.layer.4.attention.output.dense.weight', 'model.polyBERT.encoder.layer.4.attention.output.dense.bias', 'model.polyBERT.encoder.layer.4.attention.output.LayerNorm.weight', 'model.polyBERT.encoder.layer.4.attention.output.LayerNorm.bias', 'model.polyBERT.encoder.layer.4.intermediate.dense.weight', 'model.polyBERT.encoder.layer.4.intermediate.dense.bias', 'model.polyBERT.encoder.layer.4.output.dense.weight', 'model.polyBERT.encoder.layer.4.output.dense.bias', 'model.polyBERT.encoder.layer.4.output.LayerNorm.weight', 'model.polyBERT.encoder.layer.4.output.LayerNorm.bias', 'model.polyBERT.encoder.layer.5.attention.self.query_proj.weight', 'model.polyBERT.encoder.layer.5.attention.self.query_proj.bias', 'model.polyBERT.encoder.layer.5.attention.self.key_proj.weight', 'model.polyBERT.encoder.layer.5.attention.self.key_proj.bias', 'model.polyBERT.encoder.layer.5.attention.self.value_proj.weight', 'model.polyBERT.encoder.layer.5.attention.self.value_proj.bias', 'model.polyBERT.encoder.layer.5.attention.output.dense.weight', 'model.polyBERT.encoder.layer.5.attention.output.dense.bias', 'model.polyBERT.encoder.layer.5.attention.output.LayerNorm.weight', 'model.polyBERT.encoder.layer.5.attention.output.LayerNorm.bias', 'model.polyBERT.encoder.layer.5.intermediate.dense.weight', 'model.polyBERT.encoder.layer.5.intermediate.dense.bias', 'model.polyBERT.encoder.layer.5.output.dense.weight', 'model.polyBERT.encoder.layer.5.output.dense.bias', 'model.polyBERT.encoder.layer.5.output.LayerNorm.weight', 'model.polyBERT.encoder.layer.5.output.LayerNorm.bias', 'model.polyBERT.encoder.layer.6.attention.self.query_proj.weight', 'model.polyBERT.encoder.layer.6.attention.self.query_proj.bias', 'model.polyBERT.encoder.layer.6.attention.self.key_proj.weight', 'model.polyBERT.encoder.layer.6.attention.self.key_proj.bias', 'model.polyBERT.encoder.layer.6.attention.self.value_proj.weight', 'model.polyBERT.encoder.layer.6.attention.self.value_proj.bias', 'model.polyBERT.encoder.layer.6.attention.output.dense.weight', 'model.polyBERT.encoder.layer.6.attention.output.dense.bias', 'model.polyBERT.encoder.layer.6.attention.output.LayerNorm.weight', 'model.polyBERT.encoder.layer.6.attention.output.LayerNorm.bias', 'model.polyBERT.encoder.layer.6.intermediate.dense.weight', 'model.polyBERT.encoder.layer.6.intermediate.dense.bias', 'model.polyBERT.encoder.layer.6.output.dense.weight', 'model.polyBERT.encoder.layer.6.output.dense.bias', 'model.polyBERT.encoder.layer.6.output.LayerNorm.weight', 'model.polyBERT.encoder.layer.6.output.LayerNorm.bias', 'model.polyBERT.encoder.layer.7.attention.self.query_proj.weight', 'model.polyBERT.encoder.layer.7.attention.self.query_proj.bias', 'model.polyBERT.encoder.layer.7.attention.self.key_proj.weight', 'model.polyBERT.encoder.layer.7.attention.self.key_proj.bias', 'model.polyBERT.encoder.layer.7.attention.self.value_proj.weight', 'model.polyBERT.encoder.layer.7.attention.self.value_proj.bias', 'model.polyBERT.encoder.layer.7.attention.output.dense.weight', 'model.polyBERT.encoder.layer.7.attention.output.dense.bias', 'model.polyBERT.encoder.layer.7.attention.output.LayerNorm.weight', 'model.polyBERT.encoder.layer.7.attention.output.LayerNorm.bias', 'model.polyBERT.encoder.layer.7.intermediate.dense.weight', 'model.polyBERT.encoder.layer.7.intermediate.dense.bias', 'model.polyBERT.encoder.layer.7.output.dense.weight', 'model.polyBERT.encoder.layer.7.output.dense.bias', 'model.polyBERT.encoder.layer.7.output.LayerNorm.weight', 'model.polyBERT.encoder.layer.7.output.LayerNorm.bias', 'model.polyBERT.encoder.layer.8.attention.self.query_proj.weight', 'model.polyBERT.encoder.layer.8.attention.self.query_proj.bias', 'model.polyBERT.encoder.layer.8.attention.self.key_proj.weight', 'model.polyBERT.encoder.layer.8.attention.self.key_proj.bias', 'model.polyBERT.encoder.layer.8.attention.self.value_proj.weight', 'model.polyBERT.encoder.layer.8.attention.self.value_proj.bias', 'model.polyBERT.encoder.layer.8.attention.output.dense.weight', 'model.polyBERT.encoder.layer.8.attention.output.dense.bias', 'model.polyBERT.encoder.layer.8.attention.output.LayerNorm.weight', 'model.polyBERT.encoder.layer.8.attention.output.LayerNorm.bias', 'model.polyBERT.encoder.layer.8.intermediate.dense.weight', 'model.polyBERT.encoder.layer.8.intermediate.dense.bias', 'model.polyBERT.encoder.layer.8.output.dense.weight', 'model.polyBERT.encoder.layer.8.output.dense.bias', 'model.polyBERT.encoder.layer.8.output.LayerNorm.weight', 'model.polyBERT.encoder.layer.8.output.LayerNorm.bias', 'model.polyBERT.encoder.layer.9.attention.self.query_proj.weight', 'model.polyBERT.encoder.layer.9.attention.self.query_proj.bias', 'model.polyBERT.encoder.layer.9.attention.self.key_proj.weight', 'model.polyBERT.encoder.layer.9.attention.self.key_proj.bias', 'model.polyBERT.encoder.layer.9.attention.self.value_proj.weight', 'model.polyBERT.encoder.layer.9.attention.self.value_proj.bias', 'model.polyBERT.encoder.layer.9.attention.output.dense.weight', 'model.polyBERT.encoder.layer.9.attention.output.dense.bias', 'model.polyBERT.encoder.layer.9.attention.output.LayerNorm.weight', 'model.polyBERT.encoder.layer.9.attention.output.LayerNorm.bias', 'model.polyBERT.encoder.layer.9.intermediate.dense.weight', 'model.polyBERT.encoder.layer.9.intermediate.dense.bias', 'model.polyBERT.encoder.layer.9.output.dense.weight', 'model.polyBERT.encoder.layer.9.output.dense.bias', 'model.polyBERT.encoder.layer.9.output.LayerNorm.weight', 'model.polyBERT.encoder.layer.9.output.LayerNorm.bias', 'model.polyBERT.encoder.layer.10.attention.self.query_proj.weight', 'model.polyBERT.encoder.layer.10.attention.self.query_proj.bias', 'model.polyBERT.encoder.layer.10.attention.self.key_proj.weight', 'model.polyBERT.encoder.layer.10.attention.self.key_proj.bias', 'model.polyBERT.encoder.layer.10.attention.self.value_proj.weight', 'model.polyBERT.encoder.layer.10.attention.self.value_proj.bias', 'model.polyBERT.encoder.layer.10.attention.output.dense.weight', 'model.polyBERT.encoder.layer.10.attention.output.dense.bias', 'model.polyBERT.encoder.layer.10.attention.output.LayerNorm.weight', 'model.polyBERT.encoder.layer.10.attention.output.LayerNorm.bias', 'model.polyBERT.encoder.layer.10.intermediate.dense.weight', 'model.polyBERT.encoder.layer.10.intermediate.dense.bias', 'model.polyBERT.encoder.layer.10.output.dense.weight', 'model.polyBERT.encoder.layer.10.output.dense.bias', 'model.polyBERT.encoder.layer.10.output.LayerNorm.weight', 'model.polyBERT.encoder.layer.10.output.LayerNorm.bias', 'model.polyBERT.encoder.layer.11.attention.self.query_proj.weight', 'model.polyBERT.encoder.layer.11.attention.self.query_proj.bias', 'model.polyBERT.encoder.layer.11.attention.self.key_proj.weight', 'model.polyBERT.encoder.layer.11.attention.self.key_proj.bias', 'model.polyBERT.encoder.layer.11.attention.self.value_proj.weight', 'model.polyBERT.encoder.layer.11.attention.self.value_proj.bias', 'model.polyBERT.encoder.layer.11.attention.output.dense.weight', 'model.polyBERT.encoder.layer.11.attention.output.dense.bias', 'model.polyBERT.encoder.layer.11.attention.output.LayerNorm.weight', 'model.polyBERT.encoder.layer.11.attention.output.LayerNorm.bias', 'model.polyBERT.encoder.layer.11.intermediate.dense.weight', 'model.polyBERT.encoder.layer.11.intermediate.dense.bias', 'model.polyBERT.encoder.layer.11.output.dense.weight', 'model.polyBERT.encoder.layer.11.output.dense.bias', 'model.polyBERT.encoder.layer.11.output.LayerNorm.weight', 'model.polyBERT.encoder.layer.11.output.LayerNorm.bias', 'model.feature_PA.0.weight', 'model.feature_PA.0.bias', 'model.feature_PC.0.weight', 'model.feature_PC.0.bias', 'model.PA_chem.0.weight', 'model.PA_chem.0.bias', 'model.PA_chem.3.weight', 'model.PA_chem.3.bias', 'model.PC_chem.0.weight', 'model.PC_chem.0.bias', 'model.PC_chem.3.weight', 'model.PC_chem.3.bias', 'model.PA_all.0.weight', 'model.PA_all.0.bias', 'model.PC_all.0.weight', 'model.PC_all.0.bias', 'model.layers_stack_all.0.weight', 'model.layers_stack_all.0.bias', 'model.layers_stack_all.2.weight', 'model.layers_stack_all.2.bias'])\n"
          ]
        }
      ]
    },
    {
      "cell_type": "code",
      "source": [
        "print(f\"checkpoint['state_dict'] keys: {checkpoint['state_dict'].keys()}\")\n",
        "print(f\"model.state_dict keys: {model_pairing.state_dict().keys()}\")"
      ],
      "metadata": {
        "colab": {
          "base_uri": "https://localhost:8080/"
        },
        "outputId": "e2c2e7c0-fe6c-4b64-e176-4fcae7ae3c1e",
        "id": "wzr_9PF7DGAo"
      },
      "execution_count": 28,
      "outputs": [
        {
          "output_type": "stream",
          "name": "stdout",
          "text": [
            "checkpoint['state_dict'] keys: odict_keys(['model.polyBERT.embeddings.word_embeddings.weight', 'model.polyBERT.embeddings.position_embeddings.weight', 'model.polyBERT.embeddings.LayerNorm.weight', 'model.polyBERT.embeddings.LayerNorm.bias', 'model.polyBERT.encoder.layer.0.attention.self.query_proj.weight', 'model.polyBERT.encoder.layer.0.attention.self.query_proj.bias', 'model.polyBERT.encoder.layer.0.attention.self.key_proj.weight', 'model.polyBERT.encoder.layer.0.attention.self.key_proj.bias', 'model.polyBERT.encoder.layer.0.attention.self.value_proj.weight', 'model.polyBERT.encoder.layer.0.attention.self.value_proj.bias', 'model.polyBERT.encoder.layer.0.attention.output.dense.weight', 'model.polyBERT.encoder.layer.0.attention.output.dense.bias', 'model.polyBERT.encoder.layer.0.attention.output.LayerNorm.weight', 'model.polyBERT.encoder.layer.0.attention.output.LayerNorm.bias', 'model.polyBERT.encoder.layer.0.intermediate.dense.weight', 'model.polyBERT.encoder.layer.0.intermediate.dense.bias', 'model.polyBERT.encoder.layer.0.output.dense.weight', 'model.polyBERT.encoder.layer.0.output.dense.bias', 'model.polyBERT.encoder.layer.0.output.LayerNorm.weight', 'model.polyBERT.encoder.layer.0.output.LayerNorm.bias', 'model.polyBERT.encoder.layer.1.attention.self.query_proj.weight', 'model.polyBERT.encoder.layer.1.attention.self.query_proj.bias', 'model.polyBERT.encoder.layer.1.attention.self.key_proj.weight', 'model.polyBERT.encoder.layer.1.attention.self.key_proj.bias', 'model.polyBERT.encoder.layer.1.attention.self.value_proj.weight', 'model.polyBERT.encoder.layer.1.attention.self.value_proj.bias', 'model.polyBERT.encoder.layer.1.attention.output.dense.weight', 'model.polyBERT.encoder.layer.1.attention.output.dense.bias', 'model.polyBERT.encoder.layer.1.attention.output.LayerNorm.weight', 'model.polyBERT.encoder.layer.1.attention.output.LayerNorm.bias', 'model.polyBERT.encoder.layer.1.intermediate.dense.weight', 'model.polyBERT.encoder.layer.1.intermediate.dense.bias', 'model.polyBERT.encoder.layer.1.output.dense.weight', 'model.polyBERT.encoder.layer.1.output.dense.bias', 'model.polyBERT.encoder.layer.1.output.LayerNorm.weight', 'model.polyBERT.encoder.layer.1.output.LayerNorm.bias', 'model.polyBERT.encoder.layer.2.attention.self.query_proj.weight', 'model.polyBERT.encoder.layer.2.attention.self.query_proj.bias', 'model.polyBERT.encoder.layer.2.attention.self.key_proj.weight', 'model.polyBERT.encoder.layer.2.attention.self.key_proj.bias', 'model.polyBERT.encoder.layer.2.attention.self.value_proj.weight', 'model.polyBERT.encoder.layer.2.attention.self.value_proj.bias', 'model.polyBERT.encoder.layer.2.attention.output.dense.weight', 'model.polyBERT.encoder.layer.2.attention.output.dense.bias', 'model.polyBERT.encoder.layer.2.attention.output.LayerNorm.weight', 'model.polyBERT.encoder.layer.2.attention.output.LayerNorm.bias', 'model.polyBERT.encoder.layer.2.intermediate.dense.weight', 'model.polyBERT.encoder.layer.2.intermediate.dense.bias', 'model.polyBERT.encoder.layer.2.output.dense.weight', 'model.polyBERT.encoder.layer.2.output.dense.bias', 'model.polyBERT.encoder.layer.2.output.LayerNorm.weight', 'model.polyBERT.encoder.layer.2.output.LayerNorm.bias', 'model.polyBERT.encoder.layer.3.attention.self.query_proj.weight', 'model.polyBERT.encoder.layer.3.attention.self.query_proj.bias', 'model.polyBERT.encoder.layer.3.attention.self.key_proj.weight', 'model.polyBERT.encoder.layer.3.attention.self.key_proj.bias', 'model.polyBERT.encoder.layer.3.attention.self.value_proj.weight', 'model.polyBERT.encoder.layer.3.attention.self.value_proj.bias', 'model.polyBERT.encoder.layer.3.attention.output.dense.weight', 'model.polyBERT.encoder.layer.3.attention.output.dense.bias', 'model.polyBERT.encoder.layer.3.attention.output.LayerNorm.weight', 'model.polyBERT.encoder.layer.3.attention.output.LayerNorm.bias', 'model.polyBERT.encoder.layer.3.intermediate.dense.weight', 'model.polyBERT.encoder.layer.3.intermediate.dense.bias', 'model.polyBERT.encoder.layer.3.output.dense.weight', 'model.polyBERT.encoder.layer.3.output.dense.bias', 'model.polyBERT.encoder.layer.3.output.LayerNorm.weight', 'model.polyBERT.encoder.layer.3.output.LayerNorm.bias', 'model.polyBERT.encoder.layer.4.attention.self.query_proj.weight', 'model.polyBERT.encoder.layer.4.attention.self.query_proj.bias', 'model.polyBERT.encoder.layer.4.attention.self.key_proj.weight', 'model.polyBERT.encoder.layer.4.attention.self.key_proj.bias', 'model.polyBERT.encoder.layer.4.attention.self.value_proj.weight', 'model.polyBERT.encoder.layer.4.attention.self.value_proj.bias', 'model.polyBERT.encoder.layer.4.attention.output.dense.weight', 'model.polyBERT.encoder.layer.4.attention.output.dense.bias', 'model.polyBERT.encoder.layer.4.attention.output.LayerNorm.weight', 'model.polyBERT.encoder.layer.4.attention.output.LayerNorm.bias', 'model.polyBERT.encoder.layer.4.intermediate.dense.weight', 'model.polyBERT.encoder.layer.4.intermediate.dense.bias', 'model.polyBERT.encoder.layer.4.output.dense.weight', 'model.polyBERT.encoder.layer.4.output.dense.bias', 'model.polyBERT.encoder.layer.4.output.LayerNorm.weight', 'model.polyBERT.encoder.layer.4.output.LayerNorm.bias', 'model.polyBERT.encoder.layer.5.attention.self.query_proj.weight', 'model.polyBERT.encoder.layer.5.attention.self.query_proj.bias', 'model.polyBERT.encoder.layer.5.attention.self.key_proj.weight', 'model.polyBERT.encoder.layer.5.attention.self.key_proj.bias', 'model.polyBERT.encoder.layer.5.attention.self.value_proj.weight', 'model.polyBERT.encoder.layer.5.attention.self.value_proj.bias', 'model.polyBERT.encoder.layer.5.attention.output.dense.weight', 'model.polyBERT.encoder.layer.5.attention.output.dense.bias', 'model.polyBERT.encoder.layer.5.attention.output.LayerNorm.weight', 'model.polyBERT.encoder.layer.5.attention.output.LayerNorm.bias', 'model.polyBERT.encoder.layer.5.intermediate.dense.weight', 'model.polyBERT.encoder.layer.5.intermediate.dense.bias', 'model.polyBERT.encoder.layer.5.output.dense.weight', 'model.polyBERT.encoder.layer.5.output.dense.bias', 'model.polyBERT.encoder.layer.5.output.LayerNorm.weight', 'model.polyBERT.encoder.layer.5.output.LayerNorm.bias', 'model.polyBERT.encoder.layer.6.attention.self.query_proj.weight', 'model.polyBERT.encoder.layer.6.attention.self.query_proj.bias', 'model.polyBERT.encoder.layer.6.attention.self.key_proj.weight', 'model.polyBERT.encoder.layer.6.attention.self.key_proj.bias', 'model.polyBERT.encoder.layer.6.attention.self.value_proj.weight', 'model.polyBERT.encoder.layer.6.attention.self.value_proj.bias', 'model.polyBERT.encoder.layer.6.attention.output.dense.weight', 'model.polyBERT.encoder.layer.6.attention.output.dense.bias', 'model.polyBERT.encoder.layer.6.attention.output.LayerNorm.weight', 'model.polyBERT.encoder.layer.6.attention.output.LayerNorm.bias', 'model.polyBERT.encoder.layer.6.intermediate.dense.weight', 'model.polyBERT.encoder.layer.6.intermediate.dense.bias', 'model.polyBERT.encoder.layer.6.output.dense.weight', 'model.polyBERT.encoder.layer.6.output.dense.bias', 'model.polyBERT.encoder.layer.6.output.LayerNorm.weight', 'model.polyBERT.encoder.layer.6.output.LayerNorm.bias', 'model.polyBERT.encoder.layer.7.attention.self.query_proj.weight', 'model.polyBERT.encoder.layer.7.attention.self.query_proj.bias', 'model.polyBERT.encoder.layer.7.attention.self.key_proj.weight', 'model.polyBERT.encoder.layer.7.attention.self.key_proj.bias', 'model.polyBERT.encoder.layer.7.attention.self.value_proj.weight', 'model.polyBERT.encoder.layer.7.attention.self.value_proj.bias', 'model.polyBERT.encoder.layer.7.attention.output.dense.weight', 'model.polyBERT.encoder.layer.7.attention.output.dense.bias', 'model.polyBERT.encoder.layer.7.attention.output.LayerNorm.weight', 'model.polyBERT.encoder.layer.7.attention.output.LayerNorm.bias', 'model.polyBERT.encoder.layer.7.intermediate.dense.weight', 'model.polyBERT.encoder.layer.7.intermediate.dense.bias', 'model.polyBERT.encoder.layer.7.output.dense.weight', 'model.polyBERT.encoder.layer.7.output.dense.bias', 'model.polyBERT.encoder.layer.7.output.LayerNorm.weight', 'model.polyBERT.encoder.layer.7.output.LayerNorm.bias', 'model.polyBERT.encoder.layer.8.attention.self.query_proj.weight', 'model.polyBERT.encoder.layer.8.attention.self.query_proj.bias', 'model.polyBERT.encoder.layer.8.attention.self.key_proj.weight', 'model.polyBERT.encoder.layer.8.attention.self.key_proj.bias', 'model.polyBERT.encoder.layer.8.attention.self.value_proj.weight', 'model.polyBERT.encoder.layer.8.attention.self.value_proj.bias', 'model.polyBERT.encoder.layer.8.attention.output.dense.weight', 'model.polyBERT.encoder.layer.8.attention.output.dense.bias', 'model.polyBERT.encoder.layer.8.attention.output.LayerNorm.weight', 'model.polyBERT.encoder.layer.8.attention.output.LayerNorm.bias', 'model.polyBERT.encoder.layer.8.intermediate.dense.weight', 'model.polyBERT.encoder.layer.8.intermediate.dense.bias', 'model.polyBERT.encoder.layer.8.output.dense.weight', 'model.polyBERT.encoder.layer.8.output.dense.bias', 'model.polyBERT.encoder.layer.8.output.LayerNorm.weight', 'model.polyBERT.encoder.layer.8.output.LayerNorm.bias', 'model.polyBERT.encoder.layer.9.attention.self.query_proj.weight', 'model.polyBERT.encoder.layer.9.attention.self.query_proj.bias', 'model.polyBERT.encoder.layer.9.attention.self.key_proj.weight', 'model.polyBERT.encoder.layer.9.attention.self.key_proj.bias', 'model.polyBERT.encoder.layer.9.attention.self.value_proj.weight', 'model.polyBERT.encoder.layer.9.attention.self.value_proj.bias', 'model.polyBERT.encoder.layer.9.attention.output.dense.weight', 'model.polyBERT.encoder.layer.9.attention.output.dense.bias', 'model.polyBERT.encoder.layer.9.attention.output.LayerNorm.weight', 'model.polyBERT.encoder.layer.9.attention.output.LayerNorm.bias', 'model.polyBERT.encoder.layer.9.intermediate.dense.weight', 'model.polyBERT.encoder.layer.9.intermediate.dense.bias', 'model.polyBERT.encoder.layer.9.output.dense.weight', 'model.polyBERT.encoder.layer.9.output.dense.bias', 'model.polyBERT.encoder.layer.9.output.LayerNorm.weight', 'model.polyBERT.encoder.layer.9.output.LayerNorm.bias', 'model.polyBERT.encoder.layer.10.attention.self.query_proj.weight', 'model.polyBERT.encoder.layer.10.attention.self.query_proj.bias', 'model.polyBERT.encoder.layer.10.attention.self.key_proj.weight', 'model.polyBERT.encoder.layer.10.attention.self.key_proj.bias', 'model.polyBERT.encoder.layer.10.attention.self.value_proj.weight', 'model.polyBERT.encoder.layer.10.attention.self.value_proj.bias', 'model.polyBERT.encoder.layer.10.attention.output.dense.weight', 'model.polyBERT.encoder.layer.10.attention.output.dense.bias', 'model.polyBERT.encoder.layer.10.attention.output.LayerNorm.weight', 'model.polyBERT.encoder.layer.10.attention.output.LayerNorm.bias', 'model.polyBERT.encoder.layer.10.intermediate.dense.weight', 'model.polyBERT.encoder.layer.10.intermediate.dense.bias', 'model.polyBERT.encoder.layer.10.output.dense.weight', 'model.polyBERT.encoder.layer.10.output.dense.bias', 'model.polyBERT.encoder.layer.10.output.LayerNorm.weight', 'model.polyBERT.encoder.layer.10.output.LayerNorm.bias', 'model.polyBERT.encoder.layer.11.attention.self.query_proj.weight', 'model.polyBERT.encoder.layer.11.attention.self.query_proj.bias', 'model.polyBERT.encoder.layer.11.attention.self.key_proj.weight', 'model.polyBERT.encoder.layer.11.attention.self.key_proj.bias', 'model.polyBERT.encoder.layer.11.attention.self.value_proj.weight', 'model.polyBERT.encoder.layer.11.attention.self.value_proj.bias', 'model.polyBERT.encoder.layer.11.attention.output.dense.weight', 'model.polyBERT.encoder.layer.11.attention.output.dense.bias', 'model.polyBERT.encoder.layer.11.attention.output.LayerNorm.weight', 'model.polyBERT.encoder.layer.11.attention.output.LayerNorm.bias', 'model.polyBERT.encoder.layer.11.intermediate.dense.weight', 'model.polyBERT.encoder.layer.11.intermediate.dense.bias', 'model.polyBERT.encoder.layer.11.output.dense.weight', 'model.polyBERT.encoder.layer.11.output.dense.bias', 'model.polyBERT.encoder.layer.11.output.LayerNorm.weight', 'model.polyBERT.encoder.layer.11.output.LayerNorm.bias', 'model.feature_PA.0.weight', 'model.feature_PA.0.bias', 'model.feature_PC.0.weight', 'model.feature_PC.0.bias', 'model.PA_chem.0.weight', 'model.PA_chem.0.bias', 'model.PA_chem.3.weight', 'model.PA_chem.3.bias', 'model.PC_chem.0.weight', 'model.PC_chem.0.bias', 'model.PC_chem.3.weight', 'model.PC_chem.3.bias', 'model.PA_all.0.weight', 'model.PA_all.0.bias', 'model.PC_all.0.weight', 'model.PC_all.0.bias', 'model.layers_stack_all.0.weight', 'model.layers_stack_all.0.bias', 'model.layers_stack_all.2.weight', 'model.layers_stack_all.2.bias'])\n",
            "model.state_dict keys: odict_keys(['polyBERT.embeddings.word_embeddings.weight', 'polyBERT.embeddings.position_embeddings.weight', 'polyBERT.embeddings.LayerNorm.weight', 'polyBERT.embeddings.LayerNorm.bias', 'polyBERT.encoder.layer.0.attention.self.query_proj.weight', 'polyBERT.encoder.layer.0.attention.self.query_proj.bias', 'polyBERT.encoder.layer.0.attention.self.key_proj.weight', 'polyBERT.encoder.layer.0.attention.self.key_proj.bias', 'polyBERT.encoder.layer.0.attention.self.value_proj.weight', 'polyBERT.encoder.layer.0.attention.self.value_proj.bias', 'polyBERT.encoder.layer.0.attention.output.dense.weight', 'polyBERT.encoder.layer.0.attention.output.dense.bias', 'polyBERT.encoder.layer.0.attention.output.LayerNorm.weight', 'polyBERT.encoder.layer.0.attention.output.LayerNorm.bias', 'polyBERT.encoder.layer.0.intermediate.dense.weight', 'polyBERT.encoder.layer.0.intermediate.dense.bias', 'polyBERT.encoder.layer.0.output.dense.weight', 'polyBERT.encoder.layer.0.output.dense.bias', 'polyBERT.encoder.layer.0.output.LayerNorm.weight', 'polyBERT.encoder.layer.0.output.LayerNorm.bias', 'polyBERT.encoder.layer.1.attention.self.query_proj.weight', 'polyBERT.encoder.layer.1.attention.self.query_proj.bias', 'polyBERT.encoder.layer.1.attention.self.key_proj.weight', 'polyBERT.encoder.layer.1.attention.self.key_proj.bias', 'polyBERT.encoder.layer.1.attention.self.value_proj.weight', 'polyBERT.encoder.layer.1.attention.self.value_proj.bias', 'polyBERT.encoder.layer.1.attention.output.dense.weight', 'polyBERT.encoder.layer.1.attention.output.dense.bias', 'polyBERT.encoder.layer.1.attention.output.LayerNorm.weight', 'polyBERT.encoder.layer.1.attention.output.LayerNorm.bias', 'polyBERT.encoder.layer.1.intermediate.dense.weight', 'polyBERT.encoder.layer.1.intermediate.dense.bias', 'polyBERT.encoder.layer.1.output.dense.weight', 'polyBERT.encoder.layer.1.output.dense.bias', 'polyBERT.encoder.layer.1.output.LayerNorm.weight', 'polyBERT.encoder.layer.1.output.LayerNorm.bias', 'polyBERT.encoder.layer.2.attention.self.query_proj.weight', 'polyBERT.encoder.layer.2.attention.self.query_proj.bias', 'polyBERT.encoder.layer.2.attention.self.key_proj.weight', 'polyBERT.encoder.layer.2.attention.self.key_proj.bias', 'polyBERT.encoder.layer.2.attention.self.value_proj.weight', 'polyBERT.encoder.layer.2.attention.self.value_proj.bias', 'polyBERT.encoder.layer.2.attention.output.dense.weight', 'polyBERT.encoder.layer.2.attention.output.dense.bias', 'polyBERT.encoder.layer.2.attention.output.LayerNorm.weight', 'polyBERT.encoder.layer.2.attention.output.LayerNorm.bias', 'polyBERT.encoder.layer.2.intermediate.dense.weight', 'polyBERT.encoder.layer.2.intermediate.dense.bias', 'polyBERT.encoder.layer.2.output.dense.weight', 'polyBERT.encoder.layer.2.output.dense.bias', 'polyBERT.encoder.layer.2.output.LayerNorm.weight', 'polyBERT.encoder.layer.2.output.LayerNorm.bias', 'polyBERT.encoder.layer.3.attention.self.query_proj.weight', 'polyBERT.encoder.layer.3.attention.self.query_proj.bias', 'polyBERT.encoder.layer.3.attention.self.key_proj.weight', 'polyBERT.encoder.layer.3.attention.self.key_proj.bias', 'polyBERT.encoder.layer.3.attention.self.value_proj.weight', 'polyBERT.encoder.layer.3.attention.self.value_proj.bias', 'polyBERT.encoder.layer.3.attention.output.dense.weight', 'polyBERT.encoder.layer.3.attention.output.dense.bias', 'polyBERT.encoder.layer.3.attention.output.LayerNorm.weight', 'polyBERT.encoder.layer.3.attention.output.LayerNorm.bias', 'polyBERT.encoder.layer.3.intermediate.dense.weight', 'polyBERT.encoder.layer.3.intermediate.dense.bias', 'polyBERT.encoder.layer.3.output.dense.weight', 'polyBERT.encoder.layer.3.output.dense.bias', 'polyBERT.encoder.layer.3.output.LayerNorm.weight', 'polyBERT.encoder.layer.3.output.LayerNorm.bias', 'polyBERT.encoder.layer.4.attention.self.query_proj.weight', 'polyBERT.encoder.layer.4.attention.self.query_proj.bias', 'polyBERT.encoder.layer.4.attention.self.key_proj.weight', 'polyBERT.encoder.layer.4.attention.self.key_proj.bias', 'polyBERT.encoder.layer.4.attention.self.value_proj.weight', 'polyBERT.encoder.layer.4.attention.self.value_proj.bias', 'polyBERT.encoder.layer.4.attention.output.dense.weight', 'polyBERT.encoder.layer.4.attention.output.dense.bias', 'polyBERT.encoder.layer.4.attention.output.LayerNorm.weight', 'polyBERT.encoder.layer.4.attention.output.LayerNorm.bias', 'polyBERT.encoder.layer.4.intermediate.dense.weight', 'polyBERT.encoder.layer.4.intermediate.dense.bias', 'polyBERT.encoder.layer.4.output.dense.weight', 'polyBERT.encoder.layer.4.output.dense.bias', 'polyBERT.encoder.layer.4.output.LayerNorm.weight', 'polyBERT.encoder.layer.4.output.LayerNorm.bias', 'polyBERT.encoder.layer.5.attention.self.query_proj.weight', 'polyBERT.encoder.layer.5.attention.self.query_proj.bias', 'polyBERT.encoder.layer.5.attention.self.key_proj.weight', 'polyBERT.encoder.layer.5.attention.self.key_proj.bias', 'polyBERT.encoder.layer.5.attention.self.value_proj.weight', 'polyBERT.encoder.layer.5.attention.self.value_proj.bias', 'polyBERT.encoder.layer.5.attention.output.dense.weight', 'polyBERT.encoder.layer.5.attention.output.dense.bias', 'polyBERT.encoder.layer.5.attention.output.LayerNorm.weight', 'polyBERT.encoder.layer.5.attention.output.LayerNorm.bias', 'polyBERT.encoder.layer.5.intermediate.dense.weight', 'polyBERT.encoder.layer.5.intermediate.dense.bias', 'polyBERT.encoder.layer.5.output.dense.weight', 'polyBERT.encoder.layer.5.output.dense.bias', 'polyBERT.encoder.layer.5.output.LayerNorm.weight', 'polyBERT.encoder.layer.5.output.LayerNorm.bias', 'polyBERT.encoder.layer.6.attention.self.query_proj.weight', 'polyBERT.encoder.layer.6.attention.self.query_proj.bias', 'polyBERT.encoder.layer.6.attention.self.key_proj.weight', 'polyBERT.encoder.layer.6.attention.self.key_proj.bias', 'polyBERT.encoder.layer.6.attention.self.value_proj.weight', 'polyBERT.encoder.layer.6.attention.self.value_proj.bias', 'polyBERT.encoder.layer.6.attention.output.dense.weight', 'polyBERT.encoder.layer.6.attention.output.dense.bias', 'polyBERT.encoder.layer.6.attention.output.LayerNorm.weight', 'polyBERT.encoder.layer.6.attention.output.LayerNorm.bias', 'polyBERT.encoder.layer.6.intermediate.dense.weight', 'polyBERT.encoder.layer.6.intermediate.dense.bias', 'polyBERT.encoder.layer.6.output.dense.weight', 'polyBERT.encoder.layer.6.output.dense.bias', 'polyBERT.encoder.layer.6.output.LayerNorm.weight', 'polyBERT.encoder.layer.6.output.LayerNorm.bias', 'polyBERT.encoder.layer.7.attention.self.query_proj.weight', 'polyBERT.encoder.layer.7.attention.self.query_proj.bias', 'polyBERT.encoder.layer.7.attention.self.key_proj.weight', 'polyBERT.encoder.layer.7.attention.self.key_proj.bias', 'polyBERT.encoder.layer.7.attention.self.value_proj.weight', 'polyBERT.encoder.layer.7.attention.self.value_proj.bias', 'polyBERT.encoder.layer.7.attention.output.dense.weight', 'polyBERT.encoder.layer.7.attention.output.dense.bias', 'polyBERT.encoder.layer.7.attention.output.LayerNorm.weight', 'polyBERT.encoder.layer.7.attention.output.LayerNorm.bias', 'polyBERT.encoder.layer.7.intermediate.dense.weight', 'polyBERT.encoder.layer.7.intermediate.dense.bias', 'polyBERT.encoder.layer.7.output.dense.weight', 'polyBERT.encoder.layer.7.output.dense.bias', 'polyBERT.encoder.layer.7.output.LayerNorm.weight', 'polyBERT.encoder.layer.7.output.LayerNorm.bias', 'polyBERT.encoder.layer.8.attention.self.query_proj.weight', 'polyBERT.encoder.layer.8.attention.self.query_proj.bias', 'polyBERT.encoder.layer.8.attention.self.key_proj.weight', 'polyBERT.encoder.layer.8.attention.self.key_proj.bias', 'polyBERT.encoder.layer.8.attention.self.value_proj.weight', 'polyBERT.encoder.layer.8.attention.self.value_proj.bias', 'polyBERT.encoder.layer.8.attention.output.dense.weight', 'polyBERT.encoder.layer.8.attention.output.dense.bias', 'polyBERT.encoder.layer.8.attention.output.LayerNorm.weight', 'polyBERT.encoder.layer.8.attention.output.LayerNorm.bias', 'polyBERT.encoder.layer.8.intermediate.dense.weight', 'polyBERT.encoder.layer.8.intermediate.dense.bias', 'polyBERT.encoder.layer.8.output.dense.weight', 'polyBERT.encoder.layer.8.output.dense.bias', 'polyBERT.encoder.layer.8.output.LayerNorm.weight', 'polyBERT.encoder.layer.8.output.LayerNorm.bias', 'polyBERT.encoder.layer.9.attention.self.query_proj.weight', 'polyBERT.encoder.layer.9.attention.self.query_proj.bias', 'polyBERT.encoder.layer.9.attention.self.key_proj.weight', 'polyBERT.encoder.layer.9.attention.self.key_proj.bias', 'polyBERT.encoder.layer.9.attention.self.value_proj.weight', 'polyBERT.encoder.layer.9.attention.self.value_proj.bias', 'polyBERT.encoder.layer.9.attention.output.dense.weight', 'polyBERT.encoder.layer.9.attention.output.dense.bias', 'polyBERT.encoder.layer.9.attention.output.LayerNorm.weight', 'polyBERT.encoder.layer.9.attention.output.LayerNorm.bias', 'polyBERT.encoder.layer.9.intermediate.dense.weight', 'polyBERT.encoder.layer.9.intermediate.dense.bias', 'polyBERT.encoder.layer.9.output.dense.weight', 'polyBERT.encoder.layer.9.output.dense.bias', 'polyBERT.encoder.layer.9.output.LayerNorm.weight', 'polyBERT.encoder.layer.9.output.LayerNorm.bias', 'polyBERT.encoder.layer.10.attention.self.query_proj.weight', 'polyBERT.encoder.layer.10.attention.self.query_proj.bias', 'polyBERT.encoder.layer.10.attention.self.key_proj.weight', 'polyBERT.encoder.layer.10.attention.self.key_proj.bias', 'polyBERT.encoder.layer.10.attention.self.value_proj.weight', 'polyBERT.encoder.layer.10.attention.self.value_proj.bias', 'polyBERT.encoder.layer.10.attention.output.dense.weight', 'polyBERT.encoder.layer.10.attention.output.dense.bias', 'polyBERT.encoder.layer.10.attention.output.LayerNorm.weight', 'polyBERT.encoder.layer.10.attention.output.LayerNorm.bias', 'polyBERT.encoder.layer.10.intermediate.dense.weight', 'polyBERT.encoder.layer.10.intermediate.dense.bias', 'polyBERT.encoder.layer.10.output.dense.weight', 'polyBERT.encoder.layer.10.output.dense.bias', 'polyBERT.encoder.layer.10.output.LayerNorm.weight', 'polyBERT.encoder.layer.10.output.LayerNorm.bias', 'polyBERT.encoder.layer.11.attention.self.query_proj.weight', 'polyBERT.encoder.layer.11.attention.self.query_proj.bias', 'polyBERT.encoder.layer.11.attention.self.key_proj.weight', 'polyBERT.encoder.layer.11.attention.self.key_proj.bias', 'polyBERT.encoder.layer.11.attention.self.value_proj.weight', 'polyBERT.encoder.layer.11.attention.self.value_proj.bias', 'polyBERT.encoder.layer.11.attention.output.dense.weight', 'polyBERT.encoder.layer.11.attention.output.dense.bias', 'polyBERT.encoder.layer.11.attention.output.LayerNorm.weight', 'polyBERT.encoder.layer.11.attention.output.LayerNorm.bias', 'polyBERT.encoder.layer.11.intermediate.dense.weight', 'polyBERT.encoder.layer.11.intermediate.dense.bias', 'polyBERT.encoder.layer.11.output.dense.weight', 'polyBERT.encoder.layer.11.output.dense.bias', 'polyBERT.encoder.layer.11.output.LayerNorm.weight', 'polyBERT.encoder.layer.11.output.LayerNorm.bias', 'feature_PA.0.weight', 'feature_PA.0.bias', 'feature_PC.0.weight', 'feature_PC.0.bias', 'PA_chem.0.weight', 'PA_chem.0.bias', 'PA_chem.3.weight', 'PA_chem.3.bias', 'PC_chem.0.weight', 'PC_chem.0.bias', 'PC_chem.3.weight', 'PC_chem.3.bias', 'PA_all.0.weight', 'PA_all.0.bias', 'PC_all.0.weight', 'PC_all.0.bias', 'layers_stack_all.0.weight', 'layers_stack_all.0.bias', 'layers_stack_all.2.weight', 'layers_stack_all.2.bias'])\n"
          ]
        }
      ]
    },
    {
      "cell_type": "code",
      "source": [
        "state_dict = checkpoint[\"state_dict\"]\n",
        "model_dict = {key.removeprefix(\"model.\"):val for key, val in state_dict.items()}\n",
        "model_pairing.load_state_dict(model_dict)"
      ],
      "metadata": {
        "colab": {
          "base_uri": "https://localhost:8080/"
        },
        "outputId": "36db0f83-f75f-414b-b27e-89038cbf6bcd",
        "id": "qL3iHIh-DGAo"
      },
      "execution_count": 29,
      "outputs": [
        {
          "output_type": "execute_result",
          "data": {
            "text/plain": [
              "<All keys matched successfully>"
            ]
          },
          "metadata": {},
          "execution_count": 29
        }
      ]
    },
    {
      "cell_type": "code",
      "source": [
        "from lightning.pytorch.callbacks import ModelCheckpoint\n",
        "\n",
        "checkpoint_callback = ModelCheckpoint(\n",
        "    # dirpath=\"https://drive.google.com/file/d/1N0O02IHfHswIeqEbZIdLzj1EmPWXIMR-/view?usp=drive_link\",\n",
        "    save_last=True,\n",
        "    every_n_epochs=1,\n",
        "    save_top_k=1,\n",
        "    save_weights_only=False,\n",
        "    monitor=\"r2/val\",\n",
        "    mode=\"max\",\n",
        ")"
      ],
      "metadata": {
        "id": "RbzR8jw-DGAo"
      },
      "execution_count": 30,
      "outputs": []
    },
    {
      "cell_type": "code",
      "source": [
        "from IPEC.models.trainer_pairing import LitBasic_upd_pare\n",
        "import torch.nn as nn\n",
        "\n",
        "\n",
        "lit_model = LitBasic_upd_pare(model_pairing, only_head=True)\n",
        "\n",
        "trainer = L.Trainer(\n",
        "    max_epochs=300,\n",
        "    callbacks=[checkpoint_callback],\n",
        "    log_every_n_steps=2,\n",
        "    logger=L.pytorch.loggers.TensorBoardLogger(save_dir=\"/content/Logs\"),\n",
        ")\n"
      ],
      "metadata": {
        "colab": {
          "base_uri": "https://localhost:8080/"
        },
        "outputId": "3ef60088-78c5-4f56-d7a4-a4692545e6a4",
        "id": "5gDFcKY9DGAo"
      },
      "execution_count": 31,
      "outputs": [
        {
          "output_type": "stream",
          "name": "stderr",
          "text": [
            "/usr/local/lib/python3.10/dist-packages/lightning/pytorch/utilities/parsing.py:208: Attribute 'model' is an instance of `nn.Module` and is already saved during checkpointing. It is recommended to ignore them using `self.save_hyperparameters(ignore=['model'])`.\n",
            "INFO:pytorch_lightning.utilities.rank_zero:GPU available: False, used: False\n",
            "INFO:pytorch_lightning.utilities.rank_zero:TPU available: False, using: 0 TPU cores\n",
            "INFO:pytorch_lightning.utilities.rank_zero:HPU available: False, using: 0 HPUs\n"
          ]
        }
      ]
    },
    {
      "cell_type": "code",
      "source": [
        "trainer.test(lit_model, dataloaders=test_loader_pair)"
      ],
      "metadata": {
        "colab": {
          "base_uri": "https://localhost:8080/",
          "height": 268,
          "referenced_widgets": [
            "12d436259dc94fcb99f53873460b4c8c",
            "cd625cc03b3e4aecb8a0f7f0949a07ca",
            "a52274df743a4963a1fb1024f41d884e",
            "f63f7dc1106b4ad18062fef5f82957a5",
            "4fca935f8ee646c18d150b0260110db8",
            "ab0eca8af88e4c1396b8c7b1cc6794d2",
            "216164e85cdf4483b5939c06092c71ba",
            "1555114674a44340be969eb4cc0c298c",
            "4cb734f81bb945b2b1a9beea4b0d2ce1",
            "a9fc7ec8e6e3401fa2f7fc1c360afb4d",
            "0e43df3bb33a41168aa9b81890d19c61"
          ]
        },
        "outputId": "cc9be3db-630a-4b05-a66d-20278f492299",
        "id": "rHGkQ1BSDGAp"
      },
      "execution_count": 32,
      "outputs": [
        {
          "output_type": "display_data",
          "data": {
            "text/plain": [
              "Testing: |          | 0/? [00:00<?, ?it/s]"
            ],
            "application/vnd.jupyter.widget-view+json": {
              "version_major": 2,
              "version_minor": 0,
              "model_id": "12d436259dc94fcb99f53873460b4c8c"
            }
          },
          "metadata": {}
        },
        {
          "output_type": "stream",
          "name": "stderr",
          "text": [
            "Asking to truncate to max_length but no maximum length is provided and the model has no predefined maximum length. Default to no truncation.\n"
          ]
        },
        {
          "output_type": "display_data",
          "data": {
            "text/plain": [
              "┏━━━━━━━━━━━━━━━━━━━━━━━━━━━┳━━━━━━━━━━━━━━━━━━━━━━━━━━━┓\n",
              "┃\u001b[1m \u001b[0m\u001b[1m       Test metric       \u001b[0m\u001b[1m \u001b[0m┃\u001b[1m \u001b[0m\u001b[1m      DataLoader 0       \u001b[0m\u001b[1m \u001b[0m┃\n",
              "┡━━━━━━━━━━━━━━━━━━━━━━━━━━━╇━━━━━━━━━━━━━━━━━━━━━━━━━━━┩\n",
              "│\u001b[36m \u001b[0m\u001b[36m        MAE/test:        \u001b[0m\u001b[36m \u001b[0m│\u001b[35m \u001b[0m\u001b[35m   0.21098683774471283   \u001b[0m\u001b[35m \u001b[0m│\n",
              "│\u001b[36m \u001b[0m\u001b[36m       MAPE/test:        \u001b[0m\u001b[36m \u001b[0m│\u001b[35m \u001b[0m\u001b[35m   0.48214709758758545   \u001b[0m\u001b[35m \u001b[0m│\n",
              "│\u001b[36m \u001b[0m\u001b[36m        MSE/test:        \u001b[0m\u001b[36m \u001b[0m│\u001b[35m \u001b[0m\u001b[35m   0.09638373553752899   \u001b[0m\u001b[35m \u001b[0m│\n",
              "│\u001b[36m \u001b[0m\u001b[36m        r2/test:         \u001b[0m\u001b[36m \u001b[0m│\u001b[35m \u001b[0m\u001b[35m   0.8349615335464478    \u001b[0m\u001b[35m \u001b[0m│\n",
              "└───────────────────────────┴───────────────────────────┘\n"
            ],
            "text/html": [
              "<pre style=\"white-space:pre;overflow-x:auto;line-height:normal;font-family:Menlo,'DejaVu Sans Mono',consolas,'Courier New',monospace\">┏━━━━━━━━━━━━━━━━━━━━━━━━━━━┳━━━━━━━━━━━━━━━━━━━━━━━━━━━┓\n",
              "┃<span style=\"font-weight: bold\">        Test metric        </span>┃<span style=\"font-weight: bold\">       DataLoader 0        </span>┃\n",
              "┡━━━━━━━━━━━━━━━━━━━━━━━━━━━╇━━━━━━━━━━━━━━━━━━━━━━━━━━━┩\n",
              "│<span style=\"color: #008080; text-decoration-color: #008080\">         MAE/test:         </span>│<span style=\"color: #800080; text-decoration-color: #800080\">    0.21098683774471283    </span>│\n",
              "│<span style=\"color: #008080; text-decoration-color: #008080\">        MAPE/test:         </span>│<span style=\"color: #800080; text-decoration-color: #800080\">    0.48214709758758545    </span>│\n",
              "│<span style=\"color: #008080; text-decoration-color: #008080\">         MSE/test:         </span>│<span style=\"color: #800080; text-decoration-color: #800080\">    0.09638373553752899    </span>│\n",
              "│<span style=\"color: #008080; text-decoration-color: #008080\">         r2/test:          </span>│<span style=\"color: #800080; text-decoration-color: #800080\">    0.8349615335464478     </span>│\n",
              "└───────────────────────────┴───────────────────────────┘\n",
              "</pre>\n"
            ]
          },
          "metadata": {}
        },
        {
          "output_type": "execute_result",
          "data": {
            "text/plain": [
              "[{'r2/test: ': 0.8349615335464478,\n",
              "  'MAPE/test: ': 0.48214709758758545,\n",
              "  'MSE/test: ': 0.09638373553752899,\n",
              "  'MAE/test: ': 0.21098683774471283}]"
            ]
          },
          "metadata": {},
          "execution_count": 32
        }
      ]
    },
    {
      "cell_type": "markdown",
      "metadata": {
        "id": "gEJQx5_3gaJe"
      },
      "source": [
        "# model_pairing_common.py"
      ]
    },
    {
      "cell_type": "code",
      "execution_count": 33,
      "metadata": {
        "colab": {
          "base_uri": "https://localhost:8080/"
        },
        "id": "glqfL_k-XzyQ",
        "outputId": "033d78eb-86c1-41d2-e3a3-f467d0301101"
      },
      "outputs": [
        {
          "output_type": "stream",
          "name": "stderr",
          "text": [
            "Special tokens have been added in the vocabulary, make sure the associated word embeddings are fine-tuned or trained.\n"
          ]
        }
      ],
      "source": [
        "model_pairing_common = IPEC_net_upd_pare(len(pa_list), len(pc_list), len(other_list))\n",
        "# print(model_pairing_common)"
      ]
    },
    {
      "cell_type": "code",
      "source": [
        "# https://drive.google.com/file/d/1lYON41BQqIGjjgyixKK0PUTHlNyxgO1E/view?usp=sharing"
      ],
      "metadata": {
        "id": "8WEau2Dj_boj"
      },
      "execution_count": 34,
      "outputs": []
    },
    {
      "cell_type": "code",
      "execution_count": 35,
      "metadata": {
        "colab": {
          "base_uri": "https://localhost:8080/",
          "height": 127
        },
        "id": "wxG5WGH9T1oR",
        "outputId": "d95d1d5c-af8e-4544-e98a-0e085626c1f5"
      },
      "outputs": [
        {
          "output_type": "stream",
          "name": "stderr",
          "text": [
            "Downloading...\n",
            "From (original): https://drive.google.com/uc?id=1lYON41BQqIGjjgyixKK0PUTHlNyxgO1E\n",
            "From (redirected): https://drive.google.com/uc?id=1lYON41BQqIGjjgyixKK0PUTHlNyxgO1E&confirm=t&uuid=ce2713bb-eaae-499f-8e5d-da0b17ea61a3\n",
            "To: /content/epoch=77-step=1560.ckpt\n",
            "100%|██████████| 104M/104M [00:01<00:00, 70.6MB/s] \n"
          ]
        },
        {
          "output_type": "execute_result",
          "data": {
            "text/plain": [
              "'epoch=77-step=1560.ckpt'"
            ],
            "application/vnd.google.colaboratory.intrinsic+json": {
              "type": "string"
            }
          },
          "metadata": {},
          "execution_count": 35
        }
      ],
      "source": [
        "file_id = \"1lYON41BQqIGjjgyixKK0PUTHlNyxgO1E\"\n",
        "output = 'epoch=77-step=1560.ckpt'\n",
        "url = f'https://drive.google.com/uc?id={file_id}'\n",
        "gdown.download(url, output, quiet=False)"
      ]
    },
    {
      "cell_type": "code",
      "source": [
        "from glob import glob\n",
        "\n",
        "# Find last checkpoint\n",
        "ckpt_list = glob(\"/content/epoch=77-step=1560.ckpt\")\n",
        "ckpt_list.sort()\n",
        "ckpt_path = ckpt_list[-1]\n",
        "print(ckpt_path)"
      ],
      "metadata": {
        "colab": {
          "base_uri": "https://localhost:8080/"
        },
        "id": "m2OV0FbzuRCY",
        "outputId": "f5a33cc9-31c8-4081-f041-3959fcadf42f"
      },
      "execution_count": 36,
      "outputs": [
        {
          "output_type": "stream",
          "name": "stdout",
          "text": [
            "/content/epoch=77-step=1560.ckpt\n"
          ]
        }
      ]
    },
    {
      "cell_type": "code",
      "source": [
        "checkpoint = torch.load(ckpt_path)\n",
        "print(f\"checkpoint keys: {checkpoint.keys()}\")\n",
        "print(f\"checkpoint['epoch'] = {checkpoint['epoch']}\")\n",
        "print(f\"checkpoint['state_dict'] keys: {checkpoint['state_dict'].keys()}\")"
      ],
      "metadata": {
        "colab": {
          "base_uri": "https://localhost:8080/"
        },
        "id": "DnI483uOunBL",
        "outputId": "86301270-ca69-448c-82ac-e33dcd09ecf2"
      },
      "execution_count": 37,
      "outputs": [
        {
          "output_type": "stream",
          "name": "stdout",
          "text": [
            "checkpoint keys: dict_keys(['epoch', 'global_step', 'pytorch-lightning_version', 'state_dict', 'loops', 'callbacks', 'optimizer_states', 'lr_schedulers', 'hparams_name', 'hyper_parameters'])\n",
            "checkpoint['epoch'] = 77\n",
            "checkpoint['state_dict'] keys: odict_keys(['model.polyBERT.embeddings.word_embeddings.weight', 'model.polyBERT.embeddings.position_embeddings.weight', 'model.polyBERT.embeddings.LayerNorm.weight', 'model.polyBERT.embeddings.LayerNorm.bias', 'model.polyBERT.encoder.layer.0.attention.self.query_proj.weight', 'model.polyBERT.encoder.layer.0.attention.self.query_proj.bias', 'model.polyBERT.encoder.layer.0.attention.self.key_proj.weight', 'model.polyBERT.encoder.layer.0.attention.self.key_proj.bias', 'model.polyBERT.encoder.layer.0.attention.self.value_proj.weight', 'model.polyBERT.encoder.layer.0.attention.self.value_proj.bias', 'model.polyBERT.encoder.layer.0.attention.output.dense.weight', 'model.polyBERT.encoder.layer.0.attention.output.dense.bias', 'model.polyBERT.encoder.layer.0.attention.output.LayerNorm.weight', 'model.polyBERT.encoder.layer.0.attention.output.LayerNorm.bias', 'model.polyBERT.encoder.layer.0.intermediate.dense.weight', 'model.polyBERT.encoder.layer.0.intermediate.dense.bias', 'model.polyBERT.encoder.layer.0.output.dense.weight', 'model.polyBERT.encoder.layer.0.output.dense.bias', 'model.polyBERT.encoder.layer.0.output.LayerNorm.weight', 'model.polyBERT.encoder.layer.0.output.LayerNorm.bias', 'model.polyBERT.encoder.layer.1.attention.self.query_proj.weight', 'model.polyBERT.encoder.layer.1.attention.self.query_proj.bias', 'model.polyBERT.encoder.layer.1.attention.self.key_proj.weight', 'model.polyBERT.encoder.layer.1.attention.self.key_proj.bias', 'model.polyBERT.encoder.layer.1.attention.self.value_proj.weight', 'model.polyBERT.encoder.layer.1.attention.self.value_proj.bias', 'model.polyBERT.encoder.layer.1.attention.output.dense.weight', 'model.polyBERT.encoder.layer.1.attention.output.dense.bias', 'model.polyBERT.encoder.layer.1.attention.output.LayerNorm.weight', 'model.polyBERT.encoder.layer.1.attention.output.LayerNorm.bias', 'model.polyBERT.encoder.layer.1.intermediate.dense.weight', 'model.polyBERT.encoder.layer.1.intermediate.dense.bias', 'model.polyBERT.encoder.layer.1.output.dense.weight', 'model.polyBERT.encoder.layer.1.output.dense.bias', 'model.polyBERT.encoder.layer.1.output.LayerNorm.weight', 'model.polyBERT.encoder.layer.1.output.LayerNorm.bias', 'model.polyBERT.encoder.layer.2.attention.self.query_proj.weight', 'model.polyBERT.encoder.layer.2.attention.self.query_proj.bias', 'model.polyBERT.encoder.layer.2.attention.self.key_proj.weight', 'model.polyBERT.encoder.layer.2.attention.self.key_proj.bias', 'model.polyBERT.encoder.layer.2.attention.self.value_proj.weight', 'model.polyBERT.encoder.layer.2.attention.self.value_proj.bias', 'model.polyBERT.encoder.layer.2.attention.output.dense.weight', 'model.polyBERT.encoder.layer.2.attention.output.dense.bias', 'model.polyBERT.encoder.layer.2.attention.output.LayerNorm.weight', 'model.polyBERT.encoder.layer.2.attention.output.LayerNorm.bias', 'model.polyBERT.encoder.layer.2.intermediate.dense.weight', 'model.polyBERT.encoder.layer.2.intermediate.dense.bias', 'model.polyBERT.encoder.layer.2.output.dense.weight', 'model.polyBERT.encoder.layer.2.output.dense.bias', 'model.polyBERT.encoder.layer.2.output.LayerNorm.weight', 'model.polyBERT.encoder.layer.2.output.LayerNorm.bias', 'model.polyBERT.encoder.layer.3.attention.self.query_proj.weight', 'model.polyBERT.encoder.layer.3.attention.self.query_proj.bias', 'model.polyBERT.encoder.layer.3.attention.self.key_proj.weight', 'model.polyBERT.encoder.layer.3.attention.self.key_proj.bias', 'model.polyBERT.encoder.layer.3.attention.self.value_proj.weight', 'model.polyBERT.encoder.layer.3.attention.self.value_proj.bias', 'model.polyBERT.encoder.layer.3.attention.output.dense.weight', 'model.polyBERT.encoder.layer.3.attention.output.dense.bias', 'model.polyBERT.encoder.layer.3.attention.output.LayerNorm.weight', 'model.polyBERT.encoder.layer.3.attention.output.LayerNorm.bias', 'model.polyBERT.encoder.layer.3.intermediate.dense.weight', 'model.polyBERT.encoder.layer.3.intermediate.dense.bias', 'model.polyBERT.encoder.layer.3.output.dense.weight', 'model.polyBERT.encoder.layer.3.output.dense.bias', 'model.polyBERT.encoder.layer.3.output.LayerNorm.weight', 'model.polyBERT.encoder.layer.3.output.LayerNorm.bias', 'model.polyBERT.encoder.layer.4.attention.self.query_proj.weight', 'model.polyBERT.encoder.layer.4.attention.self.query_proj.bias', 'model.polyBERT.encoder.layer.4.attention.self.key_proj.weight', 'model.polyBERT.encoder.layer.4.attention.self.key_proj.bias', 'model.polyBERT.encoder.layer.4.attention.self.value_proj.weight', 'model.polyBERT.encoder.layer.4.attention.self.value_proj.bias', 'model.polyBERT.encoder.layer.4.attention.output.dense.weight', 'model.polyBERT.encoder.layer.4.attention.output.dense.bias', 'model.polyBERT.encoder.layer.4.attention.output.LayerNorm.weight', 'model.polyBERT.encoder.layer.4.attention.output.LayerNorm.bias', 'model.polyBERT.encoder.layer.4.intermediate.dense.weight', 'model.polyBERT.encoder.layer.4.intermediate.dense.bias', 'model.polyBERT.encoder.layer.4.output.dense.weight', 'model.polyBERT.encoder.layer.4.output.dense.bias', 'model.polyBERT.encoder.layer.4.output.LayerNorm.weight', 'model.polyBERT.encoder.layer.4.output.LayerNorm.bias', 'model.polyBERT.encoder.layer.5.attention.self.query_proj.weight', 'model.polyBERT.encoder.layer.5.attention.self.query_proj.bias', 'model.polyBERT.encoder.layer.5.attention.self.key_proj.weight', 'model.polyBERT.encoder.layer.5.attention.self.key_proj.bias', 'model.polyBERT.encoder.layer.5.attention.self.value_proj.weight', 'model.polyBERT.encoder.layer.5.attention.self.value_proj.bias', 'model.polyBERT.encoder.layer.5.attention.output.dense.weight', 'model.polyBERT.encoder.layer.5.attention.output.dense.bias', 'model.polyBERT.encoder.layer.5.attention.output.LayerNorm.weight', 'model.polyBERT.encoder.layer.5.attention.output.LayerNorm.bias', 'model.polyBERT.encoder.layer.5.intermediate.dense.weight', 'model.polyBERT.encoder.layer.5.intermediate.dense.bias', 'model.polyBERT.encoder.layer.5.output.dense.weight', 'model.polyBERT.encoder.layer.5.output.dense.bias', 'model.polyBERT.encoder.layer.5.output.LayerNorm.weight', 'model.polyBERT.encoder.layer.5.output.LayerNorm.bias', 'model.polyBERT.encoder.layer.6.attention.self.query_proj.weight', 'model.polyBERT.encoder.layer.6.attention.self.query_proj.bias', 'model.polyBERT.encoder.layer.6.attention.self.key_proj.weight', 'model.polyBERT.encoder.layer.6.attention.self.key_proj.bias', 'model.polyBERT.encoder.layer.6.attention.self.value_proj.weight', 'model.polyBERT.encoder.layer.6.attention.self.value_proj.bias', 'model.polyBERT.encoder.layer.6.attention.output.dense.weight', 'model.polyBERT.encoder.layer.6.attention.output.dense.bias', 'model.polyBERT.encoder.layer.6.attention.output.LayerNorm.weight', 'model.polyBERT.encoder.layer.6.attention.output.LayerNorm.bias', 'model.polyBERT.encoder.layer.6.intermediate.dense.weight', 'model.polyBERT.encoder.layer.6.intermediate.dense.bias', 'model.polyBERT.encoder.layer.6.output.dense.weight', 'model.polyBERT.encoder.layer.6.output.dense.bias', 'model.polyBERT.encoder.layer.6.output.LayerNorm.weight', 'model.polyBERT.encoder.layer.6.output.LayerNorm.bias', 'model.polyBERT.encoder.layer.7.attention.self.query_proj.weight', 'model.polyBERT.encoder.layer.7.attention.self.query_proj.bias', 'model.polyBERT.encoder.layer.7.attention.self.key_proj.weight', 'model.polyBERT.encoder.layer.7.attention.self.key_proj.bias', 'model.polyBERT.encoder.layer.7.attention.self.value_proj.weight', 'model.polyBERT.encoder.layer.7.attention.self.value_proj.bias', 'model.polyBERT.encoder.layer.7.attention.output.dense.weight', 'model.polyBERT.encoder.layer.7.attention.output.dense.bias', 'model.polyBERT.encoder.layer.7.attention.output.LayerNorm.weight', 'model.polyBERT.encoder.layer.7.attention.output.LayerNorm.bias', 'model.polyBERT.encoder.layer.7.intermediate.dense.weight', 'model.polyBERT.encoder.layer.7.intermediate.dense.bias', 'model.polyBERT.encoder.layer.7.output.dense.weight', 'model.polyBERT.encoder.layer.7.output.dense.bias', 'model.polyBERT.encoder.layer.7.output.LayerNorm.weight', 'model.polyBERT.encoder.layer.7.output.LayerNorm.bias', 'model.polyBERT.encoder.layer.8.attention.self.query_proj.weight', 'model.polyBERT.encoder.layer.8.attention.self.query_proj.bias', 'model.polyBERT.encoder.layer.8.attention.self.key_proj.weight', 'model.polyBERT.encoder.layer.8.attention.self.key_proj.bias', 'model.polyBERT.encoder.layer.8.attention.self.value_proj.weight', 'model.polyBERT.encoder.layer.8.attention.self.value_proj.bias', 'model.polyBERT.encoder.layer.8.attention.output.dense.weight', 'model.polyBERT.encoder.layer.8.attention.output.dense.bias', 'model.polyBERT.encoder.layer.8.attention.output.LayerNorm.weight', 'model.polyBERT.encoder.layer.8.attention.output.LayerNorm.bias', 'model.polyBERT.encoder.layer.8.intermediate.dense.weight', 'model.polyBERT.encoder.layer.8.intermediate.dense.bias', 'model.polyBERT.encoder.layer.8.output.dense.weight', 'model.polyBERT.encoder.layer.8.output.dense.bias', 'model.polyBERT.encoder.layer.8.output.LayerNorm.weight', 'model.polyBERT.encoder.layer.8.output.LayerNorm.bias', 'model.polyBERT.encoder.layer.9.attention.self.query_proj.weight', 'model.polyBERT.encoder.layer.9.attention.self.query_proj.bias', 'model.polyBERT.encoder.layer.9.attention.self.key_proj.weight', 'model.polyBERT.encoder.layer.9.attention.self.key_proj.bias', 'model.polyBERT.encoder.layer.9.attention.self.value_proj.weight', 'model.polyBERT.encoder.layer.9.attention.self.value_proj.bias', 'model.polyBERT.encoder.layer.9.attention.output.dense.weight', 'model.polyBERT.encoder.layer.9.attention.output.dense.bias', 'model.polyBERT.encoder.layer.9.attention.output.LayerNorm.weight', 'model.polyBERT.encoder.layer.9.attention.output.LayerNorm.bias', 'model.polyBERT.encoder.layer.9.intermediate.dense.weight', 'model.polyBERT.encoder.layer.9.intermediate.dense.bias', 'model.polyBERT.encoder.layer.9.output.dense.weight', 'model.polyBERT.encoder.layer.9.output.dense.bias', 'model.polyBERT.encoder.layer.9.output.LayerNorm.weight', 'model.polyBERT.encoder.layer.9.output.LayerNorm.bias', 'model.polyBERT.encoder.layer.10.attention.self.query_proj.weight', 'model.polyBERT.encoder.layer.10.attention.self.query_proj.bias', 'model.polyBERT.encoder.layer.10.attention.self.key_proj.weight', 'model.polyBERT.encoder.layer.10.attention.self.key_proj.bias', 'model.polyBERT.encoder.layer.10.attention.self.value_proj.weight', 'model.polyBERT.encoder.layer.10.attention.self.value_proj.bias', 'model.polyBERT.encoder.layer.10.attention.output.dense.weight', 'model.polyBERT.encoder.layer.10.attention.output.dense.bias', 'model.polyBERT.encoder.layer.10.attention.output.LayerNorm.weight', 'model.polyBERT.encoder.layer.10.attention.output.LayerNorm.bias', 'model.polyBERT.encoder.layer.10.intermediate.dense.weight', 'model.polyBERT.encoder.layer.10.intermediate.dense.bias', 'model.polyBERT.encoder.layer.10.output.dense.weight', 'model.polyBERT.encoder.layer.10.output.dense.bias', 'model.polyBERT.encoder.layer.10.output.LayerNorm.weight', 'model.polyBERT.encoder.layer.10.output.LayerNorm.bias', 'model.polyBERT.encoder.layer.11.attention.self.query_proj.weight', 'model.polyBERT.encoder.layer.11.attention.self.query_proj.bias', 'model.polyBERT.encoder.layer.11.attention.self.key_proj.weight', 'model.polyBERT.encoder.layer.11.attention.self.key_proj.bias', 'model.polyBERT.encoder.layer.11.attention.self.value_proj.weight', 'model.polyBERT.encoder.layer.11.attention.self.value_proj.bias', 'model.polyBERT.encoder.layer.11.attention.output.dense.weight', 'model.polyBERT.encoder.layer.11.attention.output.dense.bias', 'model.polyBERT.encoder.layer.11.attention.output.LayerNorm.weight', 'model.polyBERT.encoder.layer.11.attention.output.LayerNorm.bias', 'model.polyBERT.encoder.layer.11.intermediate.dense.weight', 'model.polyBERT.encoder.layer.11.intermediate.dense.bias', 'model.polyBERT.encoder.layer.11.output.dense.weight', 'model.polyBERT.encoder.layer.11.output.dense.bias', 'model.polyBERT.encoder.layer.11.output.LayerNorm.weight', 'model.polyBERT.encoder.layer.11.output.LayerNorm.bias', 'model.feature_PA.0.weight', 'model.feature_PA.0.bias', 'model.feature_PC.0.weight', 'model.feature_PC.0.bias', 'model.PA_chem.0.weight', 'model.PA_chem.0.bias', 'model.PA_chem.3.weight', 'model.PA_chem.3.bias', 'model.PC_chem.0.weight', 'model.PC_chem.0.bias', 'model.PC_chem.3.weight', 'model.PC_chem.3.bias', 'model.PA_all.0.weight', 'model.PA_all.0.bias', 'model.PC_all.0.weight', 'model.PC_all.0.bias', 'model.layers_stack_all.0.weight', 'model.layers_stack_all.0.bias', 'model.layers_stack_all.2.weight', 'model.layers_stack_all.2.bias'])\n"
          ]
        }
      ]
    },
    {
      "cell_type": "code",
      "source": [
        "print(f\"checkpoint['state_dict'] keys: {checkpoint['state_dict'].keys()}\")\n",
        "print(f\"model.state_dict keys: {model_pairing_common.state_dict().keys()}\")"
      ],
      "metadata": {
        "colab": {
          "base_uri": "https://localhost:8080/"
        },
        "id": "ZP1A_ORHuqV-",
        "outputId": "2429ced1-23ce-41fa-b5a7-55c6d06da30a"
      },
      "execution_count": 38,
      "outputs": [
        {
          "output_type": "stream",
          "name": "stdout",
          "text": [
            "checkpoint['state_dict'] keys: odict_keys(['model.polyBERT.embeddings.word_embeddings.weight', 'model.polyBERT.embeddings.position_embeddings.weight', 'model.polyBERT.embeddings.LayerNorm.weight', 'model.polyBERT.embeddings.LayerNorm.bias', 'model.polyBERT.encoder.layer.0.attention.self.query_proj.weight', 'model.polyBERT.encoder.layer.0.attention.self.query_proj.bias', 'model.polyBERT.encoder.layer.0.attention.self.key_proj.weight', 'model.polyBERT.encoder.layer.0.attention.self.key_proj.bias', 'model.polyBERT.encoder.layer.0.attention.self.value_proj.weight', 'model.polyBERT.encoder.layer.0.attention.self.value_proj.bias', 'model.polyBERT.encoder.layer.0.attention.output.dense.weight', 'model.polyBERT.encoder.layer.0.attention.output.dense.bias', 'model.polyBERT.encoder.layer.0.attention.output.LayerNorm.weight', 'model.polyBERT.encoder.layer.0.attention.output.LayerNorm.bias', 'model.polyBERT.encoder.layer.0.intermediate.dense.weight', 'model.polyBERT.encoder.layer.0.intermediate.dense.bias', 'model.polyBERT.encoder.layer.0.output.dense.weight', 'model.polyBERT.encoder.layer.0.output.dense.bias', 'model.polyBERT.encoder.layer.0.output.LayerNorm.weight', 'model.polyBERT.encoder.layer.0.output.LayerNorm.bias', 'model.polyBERT.encoder.layer.1.attention.self.query_proj.weight', 'model.polyBERT.encoder.layer.1.attention.self.query_proj.bias', 'model.polyBERT.encoder.layer.1.attention.self.key_proj.weight', 'model.polyBERT.encoder.layer.1.attention.self.key_proj.bias', 'model.polyBERT.encoder.layer.1.attention.self.value_proj.weight', 'model.polyBERT.encoder.layer.1.attention.self.value_proj.bias', 'model.polyBERT.encoder.layer.1.attention.output.dense.weight', 'model.polyBERT.encoder.layer.1.attention.output.dense.bias', 'model.polyBERT.encoder.layer.1.attention.output.LayerNorm.weight', 'model.polyBERT.encoder.layer.1.attention.output.LayerNorm.bias', 'model.polyBERT.encoder.layer.1.intermediate.dense.weight', 'model.polyBERT.encoder.layer.1.intermediate.dense.bias', 'model.polyBERT.encoder.layer.1.output.dense.weight', 'model.polyBERT.encoder.layer.1.output.dense.bias', 'model.polyBERT.encoder.layer.1.output.LayerNorm.weight', 'model.polyBERT.encoder.layer.1.output.LayerNorm.bias', 'model.polyBERT.encoder.layer.2.attention.self.query_proj.weight', 'model.polyBERT.encoder.layer.2.attention.self.query_proj.bias', 'model.polyBERT.encoder.layer.2.attention.self.key_proj.weight', 'model.polyBERT.encoder.layer.2.attention.self.key_proj.bias', 'model.polyBERT.encoder.layer.2.attention.self.value_proj.weight', 'model.polyBERT.encoder.layer.2.attention.self.value_proj.bias', 'model.polyBERT.encoder.layer.2.attention.output.dense.weight', 'model.polyBERT.encoder.layer.2.attention.output.dense.bias', 'model.polyBERT.encoder.layer.2.attention.output.LayerNorm.weight', 'model.polyBERT.encoder.layer.2.attention.output.LayerNorm.bias', 'model.polyBERT.encoder.layer.2.intermediate.dense.weight', 'model.polyBERT.encoder.layer.2.intermediate.dense.bias', 'model.polyBERT.encoder.layer.2.output.dense.weight', 'model.polyBERT.encoder.layer.2.output.dense.bias', 'model.polyBERT.encoder.layer.2.output.LayerNorm.weight', 'model.polyBERT.encoder.layer.2.output.LayerNorm.bias', 'model.polyBERT.encoder.layer.3.attention.self.query_proj.weight', 'model.polyBERT.encoder.layer.3.attention.self.query_proj.bias', 'model.polyBERT.encoder.layer.3.attention.self.key_proj.weight', 'model.polyBERT.encoder.layer.3.attention.self.key_proj.bias', 'model.polyBERT.encoder.layer.3.attention.self.value_proj.weight', 'model.polyBERT.encoder.layer.3.attention.self.value_proj.bias', 'model.polyBERT.encoder.layer.3.attention.output.dense.weight', 'model.polyBERT.encoder.layer.3.attention.output.dense.bias', 'model.polyBERT.encoder.layer.3.attention.output.LayerNorm.weight', 'model.polyBERT.encoder.layer.3.attention.output.LayerNorm.bias', 'model.polyBERT.encoder.layer.3.intermediate.dense.weight', 'model.polyBERT.encoder.layer.3.intermediate.dense.bias', 'model.polyBERT.encoder.layer.3.output.dense.weight', 'model.polyBERT.encoder.layer.3.output.dense.bias', 'model.polyBERT.encoder.layer.3.output.LayerNorm.weight', 'model.polyBERT.encoder.layer.3.output.LayerNorm.bias', 'model.polyBERT.encoder.layer.4.attention.self.query_proj.weight', 'model.polyBERT.encoder.layer.4.attention.self.query_proj.bias', 'model.polyBERT.encoder.layer.4.attention.self.key_proj.weight', 'model.polyBERT.encoder.layer.4.attention.self.key_proj.bias', 'model.polyBERT.encoder.layer.4.attention.self.value_proj.weight', 'model.polyBERT.encoder.layer.4.attention.self.value_proj.bias', 'model.polyBERT.encoder.layer.4.attention.output.dense.weight', 'model.polyBERT.encoder.layer.4.attention.output.dense.bias', 'model.polyBERT.encoder.layer.4.attention.output.LayerNorm.weight', 'model.polyBERT.encoder.layer.4.attention.output.LayerNorm.bias', 'model.polyBERT.encoder.layer.4.intermediate.dense.weight', 'model.polyBERT.encoder.layer.4.intermediate.dense.bias', 'model.polyBERT.encoder.layer.4.output.dense.weight', 'model.polyBERT.encoder.layer.4.output.dense.bias', 'model.polyBERT.encoder.layer.4.output.LayerNorm.weight', 'model.polyBERT.encoder.layer.4.output.LayerNorm.bias', 'model.polyBERT.encoder.layer.5.attention.self.query_proj.weight', 'model.polyBERT.encoder.layer.5.attention.self.query_proj.bias', 'model.polyBERT.encoder.layer.5.attention.self.key_proj.weight', 'model.polyBERT.encoder.layer.5.attention.self.key_proj.bias', 'model.polyBERT.encoder.layer.5.attention.self.value_proj.weight', 'model.polyBERT.encoder.layer.5.attention.self.value_proj.bias', 'model.polyBERT.encoder.layer.5.attention.output.dense.weight', 'model.polyBERT.encoder.layer.5.attention.output.dense.bias', 'model.polyBERT.encoder.layer.5.attention.output.LayerNorm.weight', 'model.polyBERT.encoder.layer.5.attention.output.LayerNorm.bias', 'model.polyBERT.encoder.layer.5.intermediate.dense.weight', 'model.polyBERT.encoder.layer.5.intermediate.dense.bias', 'model.polyBERT.encoder.layer.5.output.dense.weight', 'model.polyBERT.encoder.layer.5.output.dense.bias', 'model.polyBERT.encoder.layer.5.output.LayerNorm.weight', 'model.polyBERT.encoder.layer.5.output.LayerNorm.bias', 'model.polyBERT.encoder.layer.6.attention.self.query_proj.weight', 'model.polyBERT.encoder.layer.6.attention.self.query_proj.bias', 'model.polyBERT.encoder.layer.6.attention.self.key_proj.weight', 'model.polyBERT.encoder.layer.6.attention.self.key_proj.bias', 'model.polyBERT.encoder.layer.6.attention.self.value_proj.weight', 'model.polyBERT.encoder.layer.6.attention.self.value_proj.bias', 'model.polyBERT.encoder.layer.6.attention.output.dense.weight', 'model.polyBERT.encoder.layer.6.attention.output.dense.bias', 'model.polyBERT.encoder.layer.6.attention.output.LayerNorm.weight', 'model.polyBERT.encoder.layer.6.attention.output.LayerNorm.bias', 'model.polyBERT.encoder.layer.6.intermediate.dense.weight', 'model.polyBERT.encoder.layer.6.intermediate.dense.bias', 'model.polyBERT.encoder.layer.6.output.dense.weight', 'model.polyBERT.encoder.layer.6.output.dense.bias', 'model.polyBERT.encoder.layer.6.output.LayerNorm.weight', 'model.polyBERT.encoder.layer.6.output.LayerNorm.bias', 'model.polyBERT.encoder.layer.7.attention.self.query_proj.weight', 'model.polyBERT.encoder.layer.7.attention.self.query_proj.bias', 'model.polyBERT.encoder.layer.7.attention.self.key_proj.weight', 'model.polyBERT.encoder.layer.7.attention.self.key_proj.bias', 'model.polyBERT.encoder.layer.7.attention.self.value_proj.weight', 'model.polyBERT.encoder.layer.7.attention.self.value_proj.bias', 'model.polyBERT.encoder.layer.7.attention.output.dense.weight', 'model.polyBERT.encoder.layer.7.attention.output.dense.bias', 'model.polyBERT.encoder.layer.7.attention.output.LayerNorm.weight', 'model.polyBERT.encoder.layer.7.attention.output.LayerNorm.bias', 'model.polyBERT.encoder.layer.7.intermediate.dense.weight', 'model.polyBERT.encoder.layer.7.intermediate.dense.bias', 'model.polyBERT.encoder.layer.7.output.dense.weight', 'model.polyBERT.encoder.layer.7.output.dense.bias', 'model.polyBERT.encoder.layer.7.output.LayerNorm.weight', 'model.polyBERT.encoder.layer.7.output.LayerNorm.bias', 'model.polyBERT.encoder.layer.8.attention.self.query_proj.weight', 'model.polyBERT.encoder.layer.8.attention.self.query_proj.bias', 'model.polyBERT.encoder.layer.8.attention.self.key_proj.weight', 'model.polyBERT.encoder.layer.8.attention.self.key_proj.bias', 'model.polyBERT.encoder.layer.8.attention.self.value_proj.weight', 'model.polyBERT.encoder.layer.8.attention.self.value_proj.bias', 'model.polyBERT.encoder.layer.8.attention.output.dense.weight', 'model.polyBERT.encoder.layer.8.attention.output.dense.bias', 'model.polyBERT.encoder.layer.8.attention.output.LayerNorm.weight', 'model.polyBERT.encoder.layer.8.attention.output.LayerNorm.bias', 'model.polyBERT.encoder.layer.8.intermediate.dense.weight', 'model.polyBERT.encoder.layer.8.intermediate.dense.bias', 'model.polyBERT.encoder.layer.8.output.dense.weight', 'model.polyBERT.encoder.layer.8.output.dense.bias', 'model.polyBERT.encoder.layer.8.output.LayerNorm.weight', 'model.polyBERT.encoder.layer.8.output.LayerNorm.bias', 'model.polyBERT.encoder.layer.9.attention.self.query_proj.weight', 'model.polyBERT.encoder.layer.9.attention.self.query_proj.bias', 'model.polyBERT.encoder.layer.9.attention.self.key_proj.weight', 'model.polyBERT.encoder.layer.9.attention.self.key_proj.bias', 'model.polyBERT.encoder.layer.9.attention.self.value_proj.weight', 'model.polyBERT.encoder.layer.9.attention.self.value_proj.bias', 'model.polyBERT.encoder.layer.9.attention.output.dense.weight', 'model.polyBERT.encoder.layer.9.attention.output.dense.bias', 'model.polyBERT.encoder.layer.9.attention.output.LayerNorm.weight', 'model.polyBERT.encoder.layer.9.attention.output.LayerNorm.bias', 'model.polyBERT.encoder.layer.9.intermediate.dense.weight', 'model.polyBERT.encoder.layer.9.intermediate.dense.bias', 'model.polyBERT.encoder.layer.9.output.dense.weight', 'model.polyBERT.encoder.layer.9.output.dense.bias', 'model.polyBERT.encoder.layer.9.output.LayerNorm.weight', 'model.polyBERT.encoder.layer.9.output.LayerNorm.bias', 'model.polyBERT.encoder.layer.10.attention.self.query_proj.weight', 'model.polyBERT.encoder.layer.10.attention.self.query_proj.bias', 'model.polyBERT.encoder.layer.10.attention.self.key_proj.weight', 'model.polyBERT.encoder.layer.10.attention.self.key_proj.bias', 'model.polyBERT.encoder.layer.10.attention.self.value_proj.weight', 'model.polyBERT.encoder.layer.10.attention.self.value_proj.bias', 'model.polyBERT.encoder.layer.10.attention.output.dense.weight', 'model.polyBERT.encoder.layer.10.attention.output.dense.bias', 'model.polyBERT.encoder.layer.10.attention.output.LayerNorm.weight', 'model.polyBERT.encoder.layer.10.attention.output.LayerNorm.bias', 'model.polyBERT.encoder.layer.10.intermediate.dense.weight', 'model.polyBERT.encoder.layer.10.intermediate.dense.bias', 'model.polyBERT.encoder.layer.10.output.dense.weight', 'model.polyBERT.encoder.layer.10.output.dense.bias', 'model.polyBERT.encoder.layer.10.output.LayerNorm.weight', 'model.polyBERT.encoder.layer.10.output.LayerNorm.bias', 'model.polyBERT.encoder.layer.11.attention.self.query_proj.weight', 'model.polyBERT.encoder.layer.11.attention.self.query_proj.bias', 'model.polyBERT.encoder.layer.11.attention.self.key_proj.weight', 'model.polyBERT.encoder.layer.11.attention.self.key_proj.bias', 'model.polyBERT.encoder.layer.11.attention.self.value_proj.weight', 'model.polyBERT.encoder.layer.11.attention.self.value_proj.bias', 'model.polyBERT.encoder.layer.11.attention.output.dense.weight', 'model.polyBERT.encoder.layer.11.attention.output.dense.bias', 'model.polyBERT.encoder.layer.11.attention.output.LayerNorm.weight', 'model.polyBERT.encoder.layer.11.attention.output.LayerNorm.bias', 'model.polyBERT.encoder.layer.11.intermediate.dense.weight', 'model.polyBERT.encoder.layer.11.intermediate.dense.bias', 'model.polyBERT.encoder.layer.11.output.dense.weight', 'model.polyBERT.encoder.layer.11.output.dense.bias', 'model.polyBERT.encoder.layer.11.output.LayerNorm.weight', 'model.polyBERT.encoder.layer.11.output.LayerNorm.bias', 'model.feature_PA.0.weight', 'model.feature_PA.0.bias', 'model.feature_PC.0.weight', 'model.feature_PC.0.bias', 'model.PA_chem.0.weight', 'model.PA_chem.0.bias', 'model.PA_chem.3.weight', 'model.PA_chem.3.bias', 'model.PC_chem.0.weight', 'model.PC_chem.0.bias', 'model.PC_chem.3.weight', 'model.PC_chem.3.bias', 'model.PA_all.0.weight', 'model.PA_all.0.bias', 'model.PC_all.0.weight', 'model.PC_all.0.bias', 'model.layers_stack_all.0.weight', 'model.layers_stack_all.0.bias', 'model.layers_stack_all.2.weight', 'model.layers_stack_all.2.bias'])\n",
            "model.state_dict keys: odict_keys(['polyBERT.embeddings.word_embeddings.weight', 'polyBERT.embeddings.position_embeddings.weight', 'polyBERT.embeddings.LayerNorm.weight', 'polyBERT.embeddings.LayerNorm.bias', 'polyBERT.encoder.layer.0.attention.self.query_proj.weight', 'polyBERT.encoder.layer.0.attention.self.query_proj.bias', 'polyBERT.encoder.layer.0.attention.self.key_proj.weight', 'polyBERT.encoder.layer.0.attention.self.key_proj.bias', 'polyBERT.encoder.layer.0.attention.self.value_proj.weight', 'polyBERT.encoder.layer.0.attention.self.value_proj.bias', 'polyBERT.encoder.layer.0.attention.output.dense.weight', 'polyBERT.encoder.layer.0.attention.output.dense.bias', 'polyBERT.encoder.layer.0.attention.output.LayerNorm.weight', 'polyBERT.encoder.layer.0.attention.output.LayerNorm.bias', 'polyBERT.encoder.layer.0.intermediate.dense.weight', 'polyBERT.encoder.layer.0.intermediate.dense.bias', 'polyBERT.encoder.layer.0.output.dense.weight', 'polyBERT.encoder.layer.0.output.dense.bias', 'polyBERT.encoder.layer.0.output.LayerNorm.weight', 'polyBERT.encoder.layer.0.output.LayerNorm.bias', 'polyBERT.encoder.layer.1.attention.self.query_proj.weight', 'polyBERT.encoder.layer.1.attention.self.query_proj.bias', 'polyBERT.encoder.layer.1.attention.self.key_proj.weight', 'polyBERT.encoder.layer.1.attention.self.key_proj.bias', 'polyBERT.encoder.layer.1.attention.self.value_proj.weight', 'polyBERT.encoder.layer.1.attention.self.value_proj.bias', 'polyBERT.encoder.layer.1.attention.output.dense.weight', 'polyBERT.encoder.layer.1.attention.output.dense.bias', 'polyBERT.encoder.layer.1.attention.output.LayerNorm.weight', 'polyBERT.encoder.layer.1.attention.output.LayerNorm.bias', 'polyBERT.encoder.layer.1.intermediate.dense.weight', 'polyBERT.encoder.layer.1.intermediate.dense.bias', 'polyBERT.encoder.layer.1.output.dense.weight', 'polyBERT.encoder.layer.1.output.dense.bias', 'polyBERT.encoder.layer.1.output.LayerNorm.weight', 'polyBERT.encoder.layer.1.output.LayerNorm.bias', 'polyBERT.encoder.layer.2.attention.self.query_proj.weight', 'polyBERT.encoder.layer.2.attention.self.query_proj.bias', 'polyBERT.encoder.layer.2.attention.self.key_proj.weight', 'polyBERT.encoder.layer.2.attention.self.key_proj.bias', 'polyBERT.encoder.layer.2.attention.self.value_proj.weight', 'polyBERT.encoder.layer.2.attention.self.value_proj.bias', 'polyBERT.encoder.layer.2.attention.output.dense.weight', 'polyBERT.encoder.layer.2.attention.output.dense.bias', 'polyBERT.encoder.layer.2.attention.output.LayerNorm.weight', 'polyBERT.encoder.layer.2.attention.output.LayerNorm.bias', 'polyBERT.encoder.layer.2.intermediate.dense.weight', 'polyBERT.encoder.layer.2.intermediate.dense.bias', 'polyBERT.encoder.layer.2.output.dense.weight', 'polyBERT.encoder.layer.2.output.dense.bias', 'polyBERT.encoder.layer.2.output.LayerNorm.weight', 'polyBERT.encoder.layer.2.output.LayerNorm.bias', 'polyBERT.encoder.layer.3.attention.self.query_proj.weight', 'polyBERT.encoder.layer.3.attention.self.query_proj.bias', 'polyBERT.encoder.layer.3.attention.self.key_proj.weight', 'polyBERT.encoder.layer.3.attention.self.key_proj.bias', 'polyBERT.encoder.layer.3.attention.self.value_proj.weight', 'polyBERT.encoder.layer.3.attention.self.value_proj.bias', 'polyBERT.encoder.layer.3.attention.output.dense.weight', 'polyBERT.encoder.layer.3.attention.output.dense.bias', 'polyBERT.encoder.layer.3.attention.output.LayerNorm.weight', 'polyBERT.encoder.layer.3.attention.output.LayerNorm.bias', 'polyBERT.encoder.layer.3.intermediate.dense.weight', 'polyBERT.encoder.layer.3.intermediate.dense.bias', 'polyBERT.encoder.layer.3.output.dense.weight', 'polyBERT.encoder.layer.3.output.dense.bias', 'polyBERT.encoder.layer.3.output.LayerNorm.weight', 'polyBERT.encoder.layer.3.output.LayerNorm.bias', 'polyBERT.encoder.layer.4.attention.self.query_proj.weight', 'polyBERT.encoder.layer.4.attention.self.query_proj.bias', 'polyBERT.encoder.layer.4.attention.self.key_proj.weight', 'polyBERT.encoder.layer.4.attention.self.key_proj.bias', 'polyBERT.encoder.layer.4.attention.self.value_proj.weight', 'polyBERT.encoder.layer.4.attention.self.value_proj.bias', 'polyBERT.encoder.layer.4.attention.output.dense.weight', 'polyBERT.encoder.layer.4.attention.output.dense.bias', 'polyBERT.encoder.layer.4.attention.output.LayerNorm.weight', 'polyBERT.encoder.layer.4.attention.output.LayerNorm.bias', 'polyBERT.encoder.layer.4.intermediate.dense.weight', 'polyBERT.encoder.layer.4.intermediate.dense.bias', 'polyBERT.encoder.layer.4.output.dense.weight', 'polyBERT.encoder.layer.4.output.dense.bias', 'polyBERT.encoder.layer.4.output.LayerNorm.weight', 'polyBERT.encoder.layer.4.output.LayerNorm.bias', 'polyBERT.encoder.layer.5.attention.self.query_proj.weight', 'polyBERT.encoder.layer.5.attention.self.query_proj.bias', 'polyBERT.encoder.layer.5.attention.self.key_proj.weight', 'polyBERT.encoder.layer.5.attention.self.key_proj.bias', 'polyBERT.encoder.layer.5.attention.self.value_proj.weight', 'polyBERT.encoder.layer.5.attention.self.value_proj.bias', 'polyBERT.encoder.layer.5.attention.output.dense.weight', 'polyBERT.encoder.layer.5.attention.output.dense.bias', 'polyBERT.encoder.layer.5.attention.output.LayerNorm.weight', 'polyBERT.encoder.layer.5.attention.output.LayerNorm.bias', 'polyBERT.encoder.layer.5.intermediate.dense.weight', 'polyBERT.encoder.layer.5.intermediate.dense.bias', 'polyBERT.encoder.layer.5.output.dense.weight', 'polyBERT.encoder.layer.5.output.dense.bias', 'polyBERT.encoder.layer.5.output.LayerNorm.weight', 'polyBERT.encoder.layer.5.output.LayerNorm.bias', 'polyBERT.encoder.layer.6.attention.self.query_proj.weight', 'polyBERT.encoder.layer.6.attention.self.query_proj.bias', 'polyBERT.encoder.layer.6.attention.self.key_proj.weight', 'polyBERT.encoder.layer.6.attention.self.key_proj.bias', 'polyBERT.encoder.layer.6.attention.self.value_proj.weight', 'polyBERT.encoder.layer.6.attention.self.value_proj.bias', 'polyBERT.encoder.layer.6.attention.output.dense.weight', 'polyBERT.encoder.layer.6.attention.output.dense.bias', 'polyBERT.encoder.layer.6.attention.output.LayerNorm.weight', 'polyBERT.encoder.layer.6.attention.output.LayerNorm.bias', 'polyBERT.encoder.layer.6.intermediate.dense.weight', 'polyBERT.encoder.layer.6.intermediate.dense.bias', 'polyBERT.encoder.layer.6.output.dense.weight', 'polyBERT.encoder.layer.6.output.dense.bias', 'polyBERT.encoder.layer.6.output.LayerNorm.weight', 'polyBERT.encoder.layer.6.output.LayerNorm.bias', 'polyBERT.encoder.layer.7.attention.self.query_proj.weight', 'polyBERT.encoder.layer.7.attention.self.query_proj.bias', 'polyBERT.encoder.layer.7.attention.self.key_proj.weight', 'polyBERT.encoder.layer.7.attention.self.key_proj.bias', 'polyBERT.encoder.layer.7.attention.self.value_proj.weight', 'polyBERT.encoder.layer.7.attention.self.value_proj.bias', 'polyBERT.encoder.layer.7.attention.output.dense.weight', 'polyBERT.encoder.layer.7.attention.output.dense.bias', 'polyBERT.encoder.layer.7.attention.output.LayerNorm.weight', 'polyBERT.encoder.layer.7.attention.output.LayerNorm.bias', 'polyBERT.encoder.layer.7.intermediate.dense.weight', 'polyBERT.encoder.layer.7.intermediate.dense.bias', 'polyBERT.encoder.layer.7.output.dense.weight', 'polyBERT.encoder.layer.7.output.dense.bias', 'polyBERT.encoder.layer.7.output.LayerNorm.weight', 'polyBERT.encoder.layer.7.output.LayerNorm.bias', 'polyBERT.encoder.layer.8.attention.self.query_proj.weight', 'polyBERT.encoder.layer.8.attention.self.query_proj.bias', 'polyBERT.encoder.layer.8.attention.self.key_proj.weight', 'polyBERT.encoder.layer.8.attention.self.key_proj.bias', 'polyBERT.encoder.layer.8.attention.self.value_proj.weight', 'polyBERT.encoder.layer.8.attention.self.value_proj.bias', 'polyBERT.encoder.layer.8.attention.output.dense.weight', 'polyBERT.encoder.layer.8.attention.output.dense.bias', 'polyBERT.encoder.layer.8.attention.output.LayerNorm.weight', 'polyBERT.encoder.layer.8.attention.output.LayerNorm.bias', 'polyBERT.encoder.layer.8.intermediate.dense.weight', 'polyBERT.encoder.layer.8.intermediate.dense.bias', 'polyBERT.encoder.layer.8.output.dense.weight', 'polyBERT.encoder.layer.8.output.dense.bias', 'polyBERT.encoder.layer.8.output.LayerNorm.weight', 'polyBERT.encoder.layer.8.output.LayerNorm.bias', 'polyBERT.encoder.layer.9.attention.self.query_proj.weight', 'polyBERT.encoder.layer.9.attention.self.query_proj.bias', 'polyBERT.encoder.layer.9.attention.self.key_proj.weight', 'polyBERT.encoder.layer.9.attention.self.key_proj.bias', 'polyBERT.encoder.layer.9.attention.self.value_proj.weight', 'polyBERT.encoder.layer.9.attention.self.value_proj.bias', 'polyBERT.encoder.layer.9.attention.output.dense.weight', 'polyBERT.encoder.layer.9.attention.output.dense.bias', 'polyBERT.encoder.layer.9.attention.output.LayerNorm.weight', 'polyBERT.encoder.layer.9.attention.output.LayerNorm.bias', 'polyBERT.encoder.layer.9.intermediate.dense.weight', 'polyBERT.encoder.layer.9.intermediate.dense.bias', 'polyBERT.encoder.layer.9.output.dense.weight', 'polyBERT.encoder.layer.9.output.dense.bias', 'polyBERT.encoder.layer.9.output.LayerNorm.weight', 'polyBERT.encoder.layer.9.output.LayerNorm.bias', 'polyBERT.encoder.layer.10.attention.self.query_proj.weight', 'polyBERT.encoder.layer.10.attention.self.query_proj.bias', 'polyBERT.encoder.layer.10.attention.self.key_proj.weight', 'polyBERT.encoder.layer.10.attention.self.key_proj.bias', 'polyBERT.encoder.layer.10.attention.self.value_proj.weight', 'polyBERT.encoder.layer.10.attention.self.value_proj.bias', 'polyBERT.encoder.layer.10.attention.output.dense.weight', 'polyBERT.encoder.layer.10.attention.output.dense.bias', 'polyBERT.encoder.layer.10.attention.output.LayerNorm.weight', 'polyBERT.encoder.layer.10.attention.output.LayerNorm.bias', 'polyBERT.encoder.layer.10.intermediate.dense.weight', 'polyBERT.encoder.layer.10.intermediate.dense.bias', 'polyBERT.encoder.layer.10.output.dense.weight', 'polyBERT.encoder.layer.10.output.dense.bias', 'polyBERT.encoder.layer.10.output.LayerNorm.weight', 'polyBERT.encoder.layer.10.output.LayerNorm.bias', 'polyBERT.encoder.layer.11.attention.self.query_proj.weight', 'polyBERT.encoder.layer.11.attention.self.query_proj.bias', 'polyBERT.encoder.layer.11.attention.self.key_proj.weight', 'polyBERT.encoder.layer.11.attention.self.key_proj.bias', 'polyBERT.encoder.layer.11.attention.self.value_proj.weight', 'polyBERT.encoder.layer.11.attention.self.value_proj.bias', 'polyBERT.encoder.layer.11.attention.output.dense.weight', 'polyBERT.encoder.layer.11.attention.output.dense.bias', 'polyBERT.encoder.layer.11.attention.output.LayerNorm.weight', 'polyBERT.encoder.layer.11.attention.output.LayerNorm.bias', 'polyBERT.encoder.layer.11.intermediate.dense.weight', 'polyBERT.encoder.layer.11.intermediate.dense.bias', 'polyBERT.encoder.layer.11.output.dense.weight', 'polyBERT.encoder.layer.11.output.dense.bias', 'polyBERT.encoder.layer.11.output.LayerNorm.weight', 'polyBERT.encoder.layer.11.output.LayerNorm.bias', 'feature_PA.0.weight', 'feature_PA.0.bias', 'feature_PC.0.weight', 'feature_PC.0.bias', 'PA_chem.0.weight', 'PA_chem.0.bias', 'PA_chem.3.weight', 'PA_chem.3.bias', 'PC_chem.0.weight', 'PC_chem.0.bias', 'PC_chem.3.weight', 'PC_chem.3.bias', 'PA_all.0.weight', 'PA_all.0.bias', 'PC_all.0.weight', 'PC_all.0.bias', 'layers_stack_all.0.weight', 'layers_stack_all.0.bias', 'layers_stack_all.2.weight', 'layers_stack_all.2.bias'])\n"
          ]
        }
      ]
    },
    {
      "cell_type": "code",
      "source": [
        "state_dict = checkpoint[\"state_dict\"]\n",
        "model_dict = {key.removeprefix(\"model.\"):val for key, val in state_dict.items()}\n",
        "model_pairing_common.load_state_dict(model_dict)"
      ],
      "metadata": {
        "colab": {
          "base_uri": "https://localhost:8080/"
        },
        "id": "coY45-nrzjpB",
        "outputId": "f7d0cf72-8476-4648-af9d-37901f92562b"
      },
      "execution_count": 39,
      "outputs": [
        {
          "output_type": "execute_result",
          "data": {
            "text/plain": [
              "<All keys matched successfully>"
            ]
          },
          "metadata": {},
          "execution_count": 39
        }
      ]
    },
    {
      "cell_type": "code",
      "source": [
        "from lightning.pytorch.callbacks import ModelCheckpoint\n",
        "\n",
        "checkpoint_callback = ModelCheckpoint(\n",
        "    # dirpath=\"https://drive.google.com/file/d/1N0O02IHfHswIeqEbZIdLzj1EmPWXIMR-/view?usp=drive_link\",\n",
        "    save_last=True,\n",
        "    every_n_epochs=1,\n",
        "    save_top_k=1,\n",
        "    save_weights_only=False,\n",
        "    monitor=\"r2/val\",\n",
        "    mode=\"max\",\n",
        ")"
      ],
      "metadata": {
        "id": "kHPqStpt0bfx"
      },
      "execution_count": 40,
      "outputs": []
    },
    {
      "cell_type": "code",
      "source": [
        "from IPEC.models.trainer_pairing import LitBasic_upd_pare\n",
        "import torch.nn as nn\n",
        "\n",
        "\n",
        "lit_model = LitBasic_upd_pare(model_pairing_common, only_head=True)\n",
        "\n",
        "trainer = L.Trainer(\n",
        "    max_epochs=300,\n",
        "    callbacks=[checkpoint_callback],\n",
        "    log_every_n_steps=2,\n",
        "    logger=L.pytorch.loggers.TensorBoardLogger(save_dir=\"/content/Logs\"),\n",
        ")\n"
      ],
      "metadata": {
        "colab": {
          "base_uri": "https://localhost:8080/"
        },
        "id": "jCtgZOjbz_oH",
        "outputId": "7cf95e35-c29b-49d7-e59d-3c83a13138d6"
      },
      "execution_count": 41,
      "outputs": [
        {
          "output_type": "stream",
          "name": "stderr",
          "text": [
            "/usr/local/lib/python3.10/dist-packages/lightning/pytorch/utilities/parsing.py:208: Attribute 'model' is an instance of `nn.Module` and is already saved during checkpointing. It is recommended to ignore them using `self.save_hyperparameters(ignore=['model'])`.\n",
            "INFO:pytorch_lightning.utilities.rank_zero:GPU available: False, used: False\n",
            "INFO:pytorch_lightning.utilities.rank_zero:TPU available: False, using: 0 TPU cores\n",
            "INFO:pytorch_lightning.utilities.rank_zero:HPU available: False, using: 0 HPUs\n"
          ]
        }
      ]
    },
    {
      "cell_type": "code",
      "source": [
        "trainer.test(lit_model, dataloaders=test_loader_pair)"
      ],
      "metadata": {
        "colab": {
          "base_uri": "https://localhost:8080/",
          "height": 268,
          "referenced_widgets": [
            "75b7d7e5f05342c38bb041d970c9a127",
            "80c4592b49204c1eaaa67eac495bc54d",
            "ca658510b507462c9d052b988897de8c",
            "05c377b6dafc4961acd2508f04f3de3f",
            "89ff6d0f456b40c3996d4abf8d7e16c3",
            "43dd2e3da3204afb923f306da6744695",
            "76f771b230f048ac91874c900c549221",
            "30ee9d7b0b914befb140271fbc727699",
            "0d343771541a47338ae4bc3af6b5360a",
            "9c5b21ccd1cd42baaa701fa088068696",
            "ecd781ef90ea4957914977da2a11175a"
          ]
        },
        "id": "PeklrGfI0DSV",
        "outputId": "bb4db2da-c05c-440e-bee8-fcc15da5c567"
      },
      "execution_count": 42,
      "outputs": [
        {
          "output_type": "display_data",
          "data": {
            "text/plain": [
              "Testing: |          | 0/? [00:00<?, ?it/s]"
            ],
            "application/vnd.jupyter.widget-view+json": {
              "version_major": 2,
              "version_minor": 0,
              "model_id": "75b7d7e5f05342c38bb041d970c9a127"
            }
          },
          "metadata": {}
        },
        {
          "output_type": "stream",
          "name": "stderr",
          "text": [
            "Asking to truncate to max_length but no maximum length is provided and the model has no predefined maximum length. Default to no truncation.\n"
          ]
        },
        {
          "output_type": "display_data",
          "data": {
            "text/plain": [
              "┏━━━━━━━━━━━━━━━━━━━━━━━━━━━┳━━━━━━━━━━━━━━━━━━━━━━━━━━━┓\n",
              "┃\u001b[1m \u001b[0m\u001b[1m       Test metric       \u001b[0m\u001b[1m \u001b[0m┃\u001b[1m \u001b[0m\u001b[1m      DataLoader 0       \u001b[0m\u001b[1m \u001b[0m┃\n",
              "┡━━━━━━━━━━━━━━━━━━━━━━━━━━━╇━━━━━━━━━━━━━━━━━━━━━━━━━━━┩\n",
              "│\u001b[36m \u001b[0m\u001b[36m        MAE/test:        \u001b[0m\u001b[36m \u001b[0m│\u001b[35m \u001b[0m\u001b[35m   0.20283064246177673   \u001b[0m\u001b[35m \u001b[0m│\n",
              "│\u001b[36m \u001b[0m\u001b[36m       MAPE/test:        \u001b[0m\u001b[36m \u001b[0m│\u001b[35m \u001b[0m\u001b[35m   0.5556904673576355    \u001b[0m\u001b[35m \u001b[0m│\n",
              "│\u001b[36m \u001b[0m\u001b[36m        MSE/test:        \u001b[0m\u001b[36m \u001b[0m│\u001b[35m \u001b[0m\u001b[35m   0.07400474697351456   \u001b[0m\u001b[35m \u001b[0m│\n",
              "│\u001b[36m \u001b[0m\u001b[36m        r2/test:         \u001b[0m\u001b[36m \u001b[0m│\u001b[35m \u001b[0m\u001b[35m   0.8732811808586121    \u001b[0m\u001b[35m \u001b[0m│\n",
              "└───────────────────────────┴───────────────────────────┘\n"
            ],
            "text/html": [
              "<pre style=\"white-space:pre;overflow-x:auto;line-height:normal;font-family:Menlo,'DejaVu Sans Mono',consolas,'Courier New',monospace\">┏━━━━━━━━━━━━━━━━━━━━━━━━━━━┳━━━━━━━━━━━━━━━━━━━━━━━━━━━┓\n",
              "┃<span style=\"font-weight: bold\">        Test metric        </span>┃<span style=\"font-weight: bold\">       DataLoader 0        </span>┃\n",
              "┡━━━━━━━━━━━━━━━━━━━━━━━━━━━╇━━━━━━━━━━━━━━━━━━━━━━━━━━━┩\n",
              "│<span style=\"color: #008080; text-decoration-color: #008080\">         MAE/test:         </span>│<span style=\"color: #800080; text-decoration-color: #800080\">    0.20283064246177673    </span>│\n",
              "│<span style=\"color: #008080; text-decoration-color: #008080\">        MAPE/test:         </span>│<span style=\"color: #800080; text-decoration-color: #800080\">    0.5556904673576355     </span>│\n",
              "│<span style=\"color: #008080; text-decoration-color: #008080\">         MSE/test:         </span>│<span style=\"color: #800080; text-decoration-color: #800080\">    0.07400474697351456    </span>│\n",
              "│<span style=\"color: #008080; text-decoration-color: #008080\">         r2/test:          </span>│<span style=\"color: #800080; text-decoration-color: #800080\">    0.8732811808586121     </span>│\n",
              "└───────────────────────────┴───────────────────────────┘\n",
              "</pre>\n"
            ]
          },
          "metadata": {}
        },
        {
          "output_type": "execute_result",
          "data": {
            "text/plain": [
              "[{'r2/test: ': 0.8732811808586121,\n",
              "  'MAPE/test: ': 0.5556904673576355,\n",
              "  'MSE/test: ': 0.07400474697351456,\n",
              "  'MAE/test: ': 0.20283064246177673}]"
            ]
          },
          "metadata": {},
          "execution_count": 42
        }
      ]
    }
  ],
  "metadata": {
    "colab": {
      "provenance": [],
      "include_colab_link": true
    },
    "kernelspec": {
      "display_name": "Python 3",
      "name": "python3"
    },
    "language_info": {
      "name": "python"
    },
    "widgets": {
      "application/vnd.jupyter.widget-state+json": {
        "9c2a3ebb4a1c447aa4774e3d3acecff9": {
          "model_module": "@jupyter-widgets/controls",
          "model_name": "HBoxModel",
          "model_module_version": "1.5.0",
          "state": {
            "_dom_classes": [],
            "_model_module": "@jupyter-widgets/controls",
            "_model_module_version": "1.5.0",
            "_model_name": "HBoxModel",
            "_view_count": null,
            "_view_module": "@jupyter-widgets/controls",
            "_view_module_version": "1.5.0",
            "_view_name": "HBoxView",
            "box_style": "",
            "children": [
              "IPY_MODEL_95ad29b74b7a420989378f6a2678d095",
              "IPY_MODEL_c8422f40cdcb4286a4b52bf7681548fd",
              "IPY_MODEL_46216ee9a3894c28ab2932ac273371ec"
            ],
            "layout": "IPY_MODEL_39a44b72995e4a7d8249beae071845e6"
          }
        },
        "95ad29b74b7a420989378f6a2678d095": {
          "model_module": "@jupyter-widgets/controls",
          "model_name": "HTMLModel",
          "model_module_version": "1.5.0",
          "state": {
            "_dom_classes": [],
            "_model_module": "@jupyter-widgets/controls",
            "_model_module_version": "1.5.0",
            "_model_name": "HTMLModel",
            "_view_count": null,
            "_view_module": "@jupyter-widgets/controls",
            "_view_module_version": "1.5.0",
            "_view_name": "HTMLView",
            "description": "",
            "description_tooltip": null,
            "layout": "IPY_MODEL_28eb948d2b2e42608aefce14aae7353c",
            "placeholder": "​",
            "style": "IPY_MODEL_7093270673da4bce8392261fcc9ae485",
            "value": "tokenizer_config.json: 100%"
          }
        },
        "c8422f40cdcb4286a4b52bf7681548fd": {
          "model_module": "@jupyter-widgets/controls",
          "model_name": "FloatProgressModel",
          "model_module_version": "1.5.0",
          "state": {
            "_dom_classes": [],
            "_model_module": "@jupyter-widgets/controls",
            "_model_module_version": "1.5.0",
            "_model_name": "FloatProgressModel",
            "_view_count": null,
            "_view_module": "@jupyter-widgets/controls",
            "_view_module_version": "1.5.0",
            "_view_name": "ProgressView",
            "bar_style": "success",
            "description": "",
            "description_tooltip": null,
            "layout": "IPY_MODEL_1d22669247a0464fbf24c8e76a6aa7dc",
            "max": 382,
            "min": 0,
            "orientation": "horizontal",
            "style": "IPY_MODEL_723632267592470185884dcfd91334e9",
            "value": 382
          }
        },
        "46216ee9a3894c28ab2932ac273371ec": {
          "model_module": "@jupyter-widgets/controls",
          "model_name": "HTMLModel",
          "model_module_version": "1.5.0",
          "state": {
            "_dom_classes": [],
            "_model_module": "@jupyter-widgets/controls",
            "_model_module_version": "1.5.0",
            "_model_name": "HTMLModel",
            "_view_count": null,
            "_view_module": "@jupyter-widgets/controls",
            "_view_module_version": "1.5.0",
            "_view_name": "HTMLView",
            "description": "",
            "description_tooltip": null,
            "layout": "IPY_MODEL_0325e18cadce49c4b773ac9d1e8ceac9",
            "placeholder": "​",
            "style": "IPY_MODEL_055cd63f5cb244569357e18a229301b6",
            "value": " 382/382 [00:00&lt;00:00, 21.5kB/s]"
          }
        },
        "39a44b72995e4a7d8249beae071845e6": {
          "model_module": "@jupyter-widgets/base",
          "model_name": "LayoutModel",
          "model_module_version": "1.2.0",
          "state": {
            "_model_module": "@jupyter-widgets/base",
            "_model_module_version": "1.2.0",
            "_model_name": "LayoutModel",
            "_view_count": null,
            "_view_module": "@jupyter-widgets/base",
            "_view_module_version": "1.2.0",
            "_view_name": "LayoutView",
            "align_content": null,
            "align_items": null,
            "align_self": null,
            "border": null,
            "bottom": null,
            "display": null,
            "flex": null,
            "flex_flow": null,
            "grid_area": null,
            "grid_auto_columns": null,
            "grid_auto_flow": null,
            "grid_auto_rows": null,
            "grid_column": null,
            "grid_gap": null,
            "grid_row": null,
            "grid_template_areas": null,
            "grid_template_columns": null,
            "grid_template_rows": null,
            "height": null,
            "justify_content": null,
            "justify_items": null,
            "left": null,
            "margin": null,
            "max_height": null,
            "max_width": null,
            "min_height": null,
            "min_width": null,
            "object_fit": null,
            "object_position": null,
            "order": null,
            "overflow": null,
            "overflow_x": null,
            "overflow_y": null,
            "padding": null,
            "right": null,
            "top": null,
            "visibility": null,
            "width": null
          }
        },
        "28eb948d2b2e42608aefce14aae7353c": {
          "model_module": "@jupyter-widgets/base",
          "model_name": "LayoutModel",
          "model_module_version": "1.2.0",
          "state": {
            "_model_module": "@jupyter-widgets/base",
            "_model_module_version": "1.2.0",
            "_model_name": "LayoutModel",
            "_view_count": null,
            "_view_module": "@jupyter-widgets/base",
            "_view_module_version": "1.2.0",
            "_view_name": "LayoutView",
            "align_content": null,
            "align_items": null,
            "align_self": null,
            "border": null,
            "bottom": null,
            "display": null,
            "flex": null,
            "flex_flow": null,
            "grid_area": null,
            "grid_auto_columns": null,
            "grid_auto_flow": null,
            "grid_auto_rows": null,
            "grid_column": null,
            "grid_gap": null,
            "grid_row": null,
            "grid_template_areas": null,
            "grid_template_columns": null,
            "grid_template_rows": null,
            "height": null,
            "justify_content": null,
            "justify_items": null,
            "left": null,
            "margin": null,
            "max_height": null,
            "max_width": null,
            "min_height": null,
            "min_width": null,
            "object_fit": null,
            "object_position": null,
            "order": null,
            "overflow": null,
            "overflow_x": null,
            "overflow_y": null,
            "padding": null,
            "right": null,
            "top": null,
            "visibility": null,
            "width": null
          }
        },
        "7093270673da4bce8392261fcc9ae485": {
          "model_module": "@jupyter-widgets/controls",
          "model_name": "DescriptionStyleModel",
          "model_module_version": "1.5.0",
          "state": {
            "_model_module": "@jupyter-widgets/controls",
            "_model_module_version": "1.5.0",
            "_model_name": "DescriptionStyleModel",
            "_view_count": null,
            "_view_module": "@jupyter-widgets/base",
            "_view_module_version": "1.2.0",
            "_view_name": "StyleView",
            "description_width": ""
          }
        },
        "1d22669247a0464fbf24c8e76a6aa7dc": {
          "model_module": "@jupyter-widgets/base",
          "model_name": "LayoutModel",
          "model_module_version": "1.2.0",
          "state": {
            "_model_module": "@jupyter-widgets/base",
            "_model_module_version": "1.2.0",
            "_model_name": "LayoutModel",
            "_view_count": null,
            "_view_module": "@jupyter-widgets/base",
            "_view_module_version": "1.2.0",
            "_view_name": "LayoutView",
            "align_content": null,
            "align_items": null,
            "align_self": null,
            "border": null,
            "bottom": null,
            "display": null,
            "flex": null,
            "flex_flow": null,
            "grid_area": null,
            "grid_auto_columns": null,
            "grid_auto_flow": null,
            "grid_auto_rows": null,
            "grid_column": null,
            "grid_gap": null,
            "grid_row": null,
            "grid_template_areas": null,
            "grid_template_columns": null,
            "grid_template_rows": null,
            "height": null,
            "justify_content": null,
            "justify_items": null,
            "left": null,
            "margin": null,
            "max_height": null,
            "max_width": null,
            "min_height": null,
            "min_width": null,
            "object_fit": null,
            "object_position": null,
            "order": null,
            "overflow": null,
            "overflow_x": null,
            "overflow_y": null,
            "padding": null,
            "right": null,
            "top": null,
            "visibility": null,
            "width": null
          }
        },
        "723632267592470185884dcfd91334e9": {
          "model_module": "@jupyter-widgets/controls",
          "model_name": "ProgressStyleModel",
          "model_module_version": "1.5.0",
          "state": {
            "_model_module": "@jupyter-widgets/controls",
            "_model_module_version": "1.5.0",
            "_model_name": "ProgressStyleModel",
            "_view_count": null,
            "_view_module": "@jupyter-widgets/base",
            "_view_module_version": "1.2.0",
            "_view_name": "StyleView",
            "bar_color": null,
            "description_width": ""
          }
        },
        "0325e18cadce49c4b773ac9d1e8ceac9": {
          "model_module": "@jupyter-widgets/base",
          "model_name": "LayoutModel",
          "model_module_version": "1.2.0",
          "state": {
            "_model_module": "@jupyter-widgets/base",
            "_model_module_version": "1.2.0",
            "_model_name": "LayoutModel",
            "_view_count": null,
            "_view_module": "@jupyter-widgets/base",
            "_view_module_version": "1.2.0",
            "_view_name": "LayoutView",
            "align_content": null,
            "align_items": null,
            "align_self": null,
            "border": null,
            "bottom": null,
            "display": null,
            "flex": null,
            "flex_flow": null,
            "grid_area": null,
            "grid_auto_columns": null,
            "grid_auto_flow": null,
            "grid_auto_rows": null,
            "grid_column": null,
            "grid_gap": null,
            "grid_row": null,
            "grid_template_areas": null,
            "grid_template_columns": null,
            "grid_template_rows": null,
            "height": null,
            "justify_content": null,
            "justify_items": null,
            "left": null,
            "margin": null,
            "max_height": null,
            "max_width": null,
            "min_height": null,
            "min_width": null,
            "object_fit": null,
            "object_position": null,
            "order": null,
            "overflow": null,
            "overflow_x": null,
            "overflow_y": null,
            "padding": null,
            "right": null,
            "top": null,
            "visibility": null,
            "width": null
          }
        },
        "055cd63f5cb244569357e18a229301b6": {
          "model_module": "@jupyter-widgets/controls",
          "model_name": "DescriptionStyleModel",
          "model_module_version": "1.5.0",
          "state": {
            "_model_module": "@jupyter-widgets/controls",
            "_model_module_version": "1.5.0",
            "_model_name": "DescriptionStyleModel",
            "_view_count": null,
            "_view_module": "@jupyter-widgets/base",
            "_view_module_version": "1.2.0",
            "_view_name": "StyleView",
            "description_width": ""
          }
        },
        "47597a820417476bb9dc33ba7b8e2d54": {
          "model_module": "@jupyter-widgets/controls",
          "model_name": "HBoxModel",
          "model_module_version": "1.5.0",
          "state": {
            "_dom_classes": [],
            "_model_module": "@jupyter-widgets/controls",
            "_model_module_version": "1.5.0",
            "_model_name": "HBoxModel",
            "_view_count": null,
            "_view_module": "@jupyter-widgets/controls",
            "_view_module_version": "1.5.0",
            "_view_name": "HBoxView",
            "box_style": "",
            "children": [
              "IPY_MODEL_070cb1f3c8eb44429217fc1e5d1a3fb3",
              "IPY_MODEL_78155094192b47cb899e19250e0d4179",
              "IPY_MODEL_72e80a0266254bc1805a60e185a5b5a6"
            ],
            "layout": "IPY_MODEL_286a062bf0fc4e23ad5ab388d0d09e30"
          }
        },
        "070cb1f3c8eb44429217fc1e5d1a3fb3": {
          "model_module": "@jupyter-widgets/controls",
          "model_name": "HTMLModel",
          "model_module_version": "1.5.0",
          "state": {
            "_dom_classes": [],
            "_model_module": "@jupyter-widgets/controls",
            "_model_module_version": "1.5.0",
            "_model_name": "HTMLModel",
            "_view_count": null,
            "_view_module": "@jupyter-widgets/controls",
            "_view_module_version": "1.5.0",
            "_view_name": "HTMLView",
            "description": "",
            "description_tooltip": null,
            "layout": "IPY_MODEL_deb810ff77374e8d9b5c66ceb02de558",
            "placeholder": "​",
            "style": "IPY_MODEL_ec75a9715a4a4ef1be29c4600c5eaa7d",
            "value": "spm.model: 100%"
          }
        },
        "78155094192b47cb899e19250e0d4179": {
          "model_module": "@jupyter-widgets/controls",
          "model_name": "FloatProgressModel",
          "model_module_version": "1.5.0",
          "state": {
            "_dom_classes": [],
            "_model_module": "@jupyter-widgets/controls",
            "_model_module_version": "1.5.0",
            "_model_name": "FloatProgressModel",
            "_view_count": null,
            "_view_module": "@jupyter-widgets/controls",
            "_view_module_version": "1.5.0",
            "_view_name": "ProgressView",
            "bar_style": "success",
            "description": "",
            "description_tooltip": null,
            "layout": "IPY_MODEL_6e7ce4597bf84507a46eed098b9ac046",
            "max": 242316,
            "min": 0,
            "orientation": "horizontal",
            "style": "IPY_MODEL_a13f3f50739547c18ba91dc2ce600bd7",
            "value": 242316
          }
        },
        "72e80a0266254bc1805a60e185a5b5a6": {
          "model_module": "@jupyter-widgets/controls",
          "model_name": "HTMLModel",
          "model_module_version": "1.5.0",
          "state": {
            "_dom_classes": [],
            "_model_module": "@jupyter-widgets/controls",
            "_model_module_version": "1.5.0",
            "_model_name": "HTMLModel",
            "_view_count": null,
            "_view_module": "@jupyter-widgets/controls",
            "_view_module_version": "1.5.0",
            "_view_name": "HTMLView",
            "description": "",
            "description_tooltip": null,
            "layout": "IPY_MODEL_3de12660cde24ee2943a6bb39ac18b23",
            "placeholder": "​",
            "style": "IPY_MODEL_a9bf46b7037347629967e52996229c18",
            "value": " 242k/242k [00:00&lt;00:00, 3.03MB/s]"
          }
        },
        "286a062bf0fc4e23ad5ab388d0d09e30": {
          "model_module": "@jupyter-widgets/base",
          "model_name": "LayoutModel",
          "model_module_version": "1.2.0",
          "state": {
            "_model_module": "@jupyter-widgets/base",
            "_model_module_version": "1.2.0",
            "_model_name": "LayoutModel",
            "_view_count": null,
            "_view_module": "@jupyter-widgets/base",
            "_view_module_version": "1.2.0",
            "_view_name": "LayoutView",
            "align_content": null,
            "align_items": null,
            "align_self": null,
            "border": null,
            "bottom": null,
            "display": null,
            "flex": null,
            "flex_flow": null,
            "grid_area": null,
            "grid_auto_columns": null,
            "grid_auto_flow": null,
            "grid_auto_rows": null,
            "grid_column": null,
            "grid_gap": null,
            "grid_row": null,
            "grid_template_areas": null,
            "grid_template_columns": null,
            "grid_template_rows": null,
            "height": null,
            "justify_content": null,
            "justify_items": null,
            "left": null,
            "margin": null,
            "max_height": null,
            "max_width": null,
            "min_height": null,
            "min_width": null,
            "object_fit": null,
            "object_position": null,
            "order": null,
            "overflow": null,
            "overflow_x": null,
            "overflow_y": null,
            "padding": null,
            "right": null,
            "top": null,
            "visibility": null,
            "width": null
          }
        },
        "deb810ff77374e8d9b5c66ceb02de558": {
          "model_module": "@jupyter-widgets/base",
          "model_name": "LayoutModel",
          "model_module_version": "1.2.0",
          "state": {
            "_model_module": "@jupyter-widgets/base",
            "_model_module_version": "1.2.0",
            "_model_name": "LayoutModel",
            "_view_count": null,
            "_view_module": "@jupyter-widgets/base",
            "_view_module_version": "1.2.0",
            "_view_name": "LayoutView",
            "align_content": null,
            "align_items": null,
            "align_self": null,
            "border": null,
            "bottom": null,
            "display": null,
            "flex": null,
            "flex_flow": null,
            "grid_area": null,
            "grid_auto_columns": null,
            "grid_auto_flow": null,
            "grid_auto_rows": null,
            "grid_column": null,
            "grid_gap": null,
            "grid_row": null,
            "grid_template_areas": null,
            "grid_template_columns": null,
            "grid_template_rows": null,
            "height": null,
            "justify_content": null,
            "justify_items": null,
            "left": null,
            "margin": null,
            "max_height": null,
            "max_width": null,
            "min_height": null,
            "min_width": null,
            "object_fit": null,
            "object_position": null,
            "order": null,
            "overflow": null,
            "overflow_x": null,
            "overflow_y": null,
            "padding": null,
            "right": null,
            "top": null,
            "visibility": null,
            "width": null
          }
        },
        "ec75a9715a4a4ef1be29c4600c5eaa7d": {
          "model_module": "@jupyter-widgets/controls",
          "model_name": "DescriptionStyleModel",
          "model_module_version": "1.5.0",
          "state": {
            "_model_module": "@jupyter-widgets/controls",
            "_model_module_version": "1.5.0",
            "_model_name": "DescriptionStyleModel",
            "_view_count": null,
            "_view_module": "@jupyter-widgets/base",
            "_view_module_version": "1.2.0",
            "_view_name": "StyleView",
            "description_width": ""
          }
        },
        "6e7ce4597bf84507a46eed098b9ac046": {
          "model_module": "@jupyter-widgets/base",
          "model_name": "LayoutModel",
          "model_module_version": "1.2.0",
          "state": {
            "_model_module": "@jupyter-widgets/base",
            "_model_module_version": "1.2.0",
            "_model_name": "LayoutModel",
            "_view_count": null,
            "_view_module": "@jupyter-widgets/base",
            "_view_module_version": "1.2.0",
            "_view_name": "LayoutView",
            "align_content": null,
            "align_items": null,
            "align_self": null,
            "border": null,
            "bottom": null,
            "display": null,
            "flex": null,
            "flex_flow": null,
            "grid_area": null,
            "grid_auto_columns": null,
            "grid_auto_flow": null,
            "grid_auto_rows": null,
            "grid_column": null,
            "grid_gap": null,
            "grid_row": null,
            "grid_template_areas": null,
            "grid_template_columns": null,
            "grid_template_rows": null,
            "height": null,
            "justify_content": null,
            "justify_items": null,
            "left": null,
            "margin": null,
            "max_height": null,
            "max_width": null,
            "min_height": null,
            "min_width": null,
            "object_fit": null,
            "object_position": null,
            "order": null,
            "overflow": null,
            "overflow_x": null,
            "overflow_y": null,
            "padding": null,
            "right": null,
            "top": null,
            "visibility": null,
            "width": null
          }
        },
        "a13f3f50739547c18ba91dc2ce600bd7": {
          "model_module": "@jupyter-widgets/controls",
          "model_name": "ProgressStyleModel",
          "model_module_version": "1.5.0",
          "state": {
            "_model_module": "@jupyter-widgets/controls",
            "_model_module_version": "1.5.0",
            "_model_name": "ProgressStyleModel",
            "_view_count": null,
            "_view_module": "@jupyter-widgets/base",
            "_view_module_version": "1.2.0",
            "_view_name": "StyleView",
            "bar_color": null,
            "description_width": ""
          }
        },
        "3de12660cde24ee2943a6bb39ac18b23": {
          "model_module": "@jupyter-widgets/base",
          "model_name": "LayoutModel",
          "model_module_version": "1.2.0",
          "state": {
            "_model_module": "@jupyter-widgets/base",
            "_model_module_version": "1.2.0",
            "_model_name": "LayoutModel",
            "_view_count": null,
            "_view_module": "@jupyter-widgets/base",
            "_view_module_version": "1.2.0",
            "_view_name": "LayoutView",
            "align_content": null,
            "align_items": null,
            "align_self": null,
            "border": null,
            "bottom": null,
            "display": null,
            "flex": null,
            "flex_flow": null,
            "grid_area": null,
            "grid_auto_columns": null,
            "grid_auto_flow": null,
            "grid_auto_rows": null,
            "grid_column": null,
            "grid_gap": null,
            "grid_row": null,
            "grid_template_areas": null,
            "grid_template_columns": null,
            "grid_template_rows": null,
            "height": null,
            "justify_content": null,
            "justify_items": null,
            "left": null,
            "margin": null,
            "max_height": null,
            "max_width": null,
            "min_height": null,
            "min_width": null,
            "object_fit": null,
            "object_position": null,
            "order": null,
            "overflow": null,
            "overflow_x": null,
            "overflow_y": null,
            "padding": null,
            "right": null,
            "top": null,
            "visibility": null,
            "width": null
          }
        },
        "a9bf46b7037347629967e52996229c18": {
          "model_module": "@jupyter-widgets/controls",
          "model_name": "DescriptionStyleModel",
          "model_module_version": "1.5.0",
          "state": {
            "_model_module": "@jupyter-widgets/controls",
            "_model_module_version": "1.5.0",
            "_model_name": "DescriptionStyleModel",
            "_view_count": null,
            "_view_module": "@jupyter-widgets/base",
            "_view_module_version": "1.2.0",
            "_view_name": "StyleView",
            "description_width": ""
          }
        },
        "863f6e3e1b6341c29e679d3d188068e8": {
          "model_module": "@jupyter-widgets/controls",
          "model_name": "HBoxModel",
          "model_module_version": "1.5.0",
          "state": {
            "_dom_classes": [],
            "_model_module": "@jupyter-widgets/controls",
            "_model_module_version": "1.5.0",
            "_model_name": "HBoxModel",
            "_view_count": null,
            "_view_module": "@jupyter-widgets/controls",
            "_view_module_version": "1.5.0",
            "_view_name": "HBoxView",
            "box_style": "",
            "children": [
              "IPY_MODEL_f0287edeec674e3795b3c193a20c5f7b",
              "IPY_MODEL_0cc8d2816c6f4898a579c591cfac76e8",
              "IPY_MODEL_1dd87fd1dda544c8afd30ed887024e8e"
            ],
            "layout": "IPY_MODEL_8ba136b233c64b168f13be02db235861"
          }
        },
        "f0287edeec674e3795b3c193a20c5f7b": {
          "model_module": "@jupyter-widgets/controls",
          "model_name": "HTMLModel",
          "model_module_version": "1.5.0",
          "state": {
            "_dom_classes": [],
            "_model_module": "@jupyter-widgets/controls",
            "_model_module_version": "1.5.0",
            "_model_name": "HTMLModel",
            "_view_count": null,
            "_view_module": "@jupyter-widgets/controls",
            "_view_module_version": "1.5.0",
            "_view_name": "HTMLView",
            "description": "",
            "description_tooltip": null,
            "layout": "IPY_MODEL_f91839e0e2f4426c8569356a81c8bfb8",
            "placeholder": "​",
            "style": "IPY_MODEL_992411d3a7ea4ad1abb62a18073c5a70",
            "value": "tokenizer.json: 100%"
          }
        },
        "0cc8d2816c6f4898a579c591cfac76e8": {
          "model_module": "@jupyter-widgets/controls",
          "model_name": "FloatProgressModel",
          "model_module_version": "1.5.0",
          "state": {
            "_dom_classes": [],
            "_model_module": "@jupyter-widgets/controls",
            "_model_module_version": "1.5.0",
            "_model_name": "FloatProgressModel",
            "_view_count": null,
            "_view_module": "@jupyter-widgets/controls",
            "_view_module_version": "1.5.0",
            "_view_name": "ProgressView",
            "bar_style": "success",
            "description": "",
            "description_tooltip": null,
            "layout": "IPY_MODEL_344d1508f2fe49d194032f11954bbb00",
            "max": 331303,
            "min": 0,
            "orientation": "horizontal",
            "style": "IPY_MODEL_182bc3b7668849f3aeb167cfc75a072f",
            "value": 331303
          }
        },
        "1dd87fd1dda544c8afd30ed887024e8e": {
          "model_module": "@jupyter-widgets/controls",
          "model_name": "HTMLModel",
          "model_module_version": "1.5.0",
          "state": {
            "_dom_classes": [],
            "_model_module": "@jupyter-widgets/controls",
            "_model_module_version": "1.5.0",
            "_model_name": "HTMLModel",
            "_view_count": null,
            "_view_module": "@jupyter-widgets/controls",
            "_view_module_version": "1.5.0",
            "_view_name": "HTMLView",
            "description": "",
            "description_tooltip": null,
            "layout": "IPY_MODEL_16f76f38292b4183838988c1b4089f68",
            "placeholder": "​",
            "style": "IPY_MODEL_f0df07e65e914307b1dc74360142aaad",
            "value": " 331k/331k [00:00&lt;00:00, 3.60MB/s]"
          }
        },
        "8ba136b233c64b168f13be02db235861": {
          "model_module": "@jupyter-widgets/base",
          "model_name": "LayoutModel",
          "model_module_version": "1.2.0",
          "state": {
            "_model_module": "@jupyter-widgets/base",
            "_model_module_version": "1.2.0",
            "_model_name": "LayoutModel",
            "_view_count": null,
            "_view_module": "@jupyter-widgets/base",
            "_view_module_version": "1.2.0",
            "_view_name": "LayoutView",
            "align_content": null,
            "align_items": null,
            "align_self": null,
            "border": null,
            "bottom": null,
            "display": null,
            "flex": null,
            "flex_flow": null,
            "grid_area": null,
            "grid_auto_columns": null,
            "grid_auto_flow": null,
            "grid_auto_rows": null,
            "grid_column": null,
            "grid_gap": null,
            "grid_row": null,
            "grid_template_areas": null,
            "grid_template_columns": null,
            "grid_template_rows": null,
            "height": null,
            "justify_content": null,
            "justify_items": null,
            "left": null,
            "margin": null,
            "max_height": null,
            "max_width": null,
            "min_height": null,
            "min_width": null,
            "object_fit": null,
            "object_position": null,
            "order": null,
            "overflow": null,
            "overflow_x": null,
            "overflow_y": null,
            "padding": null,
            "right": null,
            "top": null,
            "visibility": null,
            "width": null
          }
        },
        "f91839e0e2f4426c8569356a81c8bfb8": {
          "model_module": "@jupyter-widgets/base",
          "model_name": "LayoutModel",
          "model_module_version": "1.2.0",
          "state": {
            "_model_module": "@jupyter-widgets/base",
            "_model_module_version": "1.2.0",
            "_model_name": "LayoutModel",
            "_view_count": null,
            "_view_module": "@jupyter-widgets/base",
            "_view_module_version": "1.2.0",
            "_view_name": "LayoutView",
            "align_content": null,
            "align_items": null,
            "align_self": null,
            "border": null,
            "bottom": null,
            "display": null,
            "flex": null,
            "flex_flow": null,
            "grid_area": null,
            "grid_auto_columns": null,
            "grid_auto_flow": null,
            "grid_auto_rows": null,
            "grid_column": null,
            "grid_gap": null,
            "grid_row": null,
            "grid_template_areas": null,
            "grid_template_columns": null,
            "grid_template_rows": null,
            "height": null,
            "justify_content": null,
            "justify_items": null,
            "left": null,
            "margin": null,
            "max_height": null,
            "max_width": null,
            "min_height": null,
            "min_width": null,
            "object_fit": null,
            "object_position": null,
            "order": null,
            "overflow": null,
            "overflow_x": null,
            "overflow_y": null,
            "padding": null,
            "right": null,
            "top": null,
            "visibility": null,
            "width": null
          }
        },
        "992411d3a7ea4ad1abb62a18073c5a70": {
          "model_module": "@jupyter-widgets/controls",
          "model_name": "DescriptionStyleModel",
          "model_module_version": "1.5.0",
          "state": {
            "_model_module": "@jupyter-widgets/controls",
            "_model_module_version": "1.5.0",
            "_model_name": "DescriptionStyleModel",
            "_view_count": null,
            "_view_module": "@jupyter-widgets/base",
            "_view_module_version": "1.2.0",
            "_view_name": "StyleView",
            "description_width": ""
          }
        },
        "344d1508f2fe49d194032f11954bbb00": {
          "model_module": "@jupyter-widgets/base",
          "model_name": "LayoutModel",
          "model_module_version": "1.2.0",
          "state": {
            "_model_module": "@jupyter-widgets/base",
            "_model_module_version": "1.2.0",
            "_model_name": "LayoutModel",
            "_view_count": null,
            "_view_module": "@jupyter-widgets/base",
            "_view_module_version": "1.2.0",
            "_view_name": "LayoutView",
            "align_content": null,
            "align_items": null,
            "align_self": null,
            "border": null,
            "bottom": null,
            "display": null,
            "flex": null,
            "flex_flow": null,
            "grid_area": null,
            "grid_auto_columns": null,
            "grid_auto_flow": null,
            "grid_auto_rows": null,
            "grid_column": null,
            "grid_gap": null,
            "grid_row": null,
            "grid_template_areas": null,
            "grid_template_columns": null,
            "grid_template_rows": null,
            "height": null,
            "justify_content": null,
            "justify_items": null,
            "left": null,
            "margin": null,
            "max_height": null,
            "max_width": null,
            "min_height": null,
            "min_width": null,
            "object_fit": null,
            "object_position": null,
            "order": null,
            "overflow": null,
            "overflow_x": null,
            "overflow_y": null,
            "padding": null,
            "right": null,
            "top": null,
            "visibility": null,
            "width": null
          }
        },
        "182bc3b7668849f3aeb167cfc75a072f": {
          "model_module": "@jupyter-widgets/controls",
          "model_name": "ProgressStyleModel",
          "model_module_version": "1.5.0",
          "state": {
            "_model_module": "@jupyter-widgets/controls",
            "_model_module_version": "1.5.0",
            "_model_name": "ProgressStyleModel",
            "_view_count": null,
            "_view_module": "@jupyter-widgets/base",
            "_view_module_version": "1.2.0",
            "_view_name": "StyleView",
            "bar_color": null,
            "description_width": ""
          }
        },
        "16f76f38292b4183838988c1b4089f68": {
          "model_module": "@jupyter-widgets/base",
          "model_name": "LayoutModel",
          "model_module_version": "1.2.0",
          "state": {
            "_model_module": "@jupyter-widgets/base",
            "_model_module_version": "1.2.0",
            "_model_name": "LayoutModel",
            "_view_count": null,
            "_view_module": "@jupyter-widgets/base",
            "_view_module_version": "1.2.0",
            "_view_name": "LayoutView",
            "align_content": null,
            "align_items": null,
            "align_self": null,
            "border": null,
            "bottom": null,
            "display": null,
            "flex": null,
            "flex_flow": null,
            "grid_area": null,
            "grid_auto_columns": null,
            "grid_auto_flow": null,
            "grid_auto_rows": null,
            "grid_column": null,
            "grid_gap": null,
            "grid_row": null,
            "grid_template_areas": null,
            "grid_template_columns": null,
            "grid_template_rows": null,
            "height": null,
            "justify_content": null,
            "justify_items": null,
            "left": null,
            "margin": null,
            "max_height": null,
            "max_width": null,
            "min_height": null,
            "min_width": null,
            "object_fit": null,
            "object_position": null,
            "order": null,
            "overflow": null,
            "overflow_x": null,
            "overflow_y": null,
            "padding": null,
            "right": null,
            "top": null,
            "visibility": null,
            "width": null
          }
        },
        "f0df07e65e914307b1dc74360142aaad": {
          "model_module": "@jupyter-widgets/controls",
          "model_name": "DescriptionStyleModel",
          "model_module_version": "1.5.0",
          "state": {
            "_model_module": "@jupyter-widgets/controls",
            "_model_module_version": "1.5.0",
            "_model_name": "DescriptionStyleModel",
            "_view_count": null,
            "_view_module": "@jupyter-widgets/base",
            "_view_module_version": "1.2.0",
            "_view_name": "StyleView",
            "description_width": ""
          }
        },
        "ebdee37126b74748b2d77d1881600368": {
          "model_module": "@jupyter-widgets/controls",
          "model_name": "HBoxModel",
          "model_module_version": "1.5.0",
          "state": {
            "_dom_classes": [],
            "_model_module": "@jupyter-widgets/controls",
            "_model_module_version": "1.5.0",
            "_model_name": "HBoxModel",
            "_view_count": null,
            "_view_module": "@jupyter-widgets/controls",
            "_view_module_version": "1.5.0",
            "_view_name": "HBoxView",
            "box_style": "",
            "children": [
              "IPY_MODEL_2b7b913a22d64a4ab691c25958b16f6e",
              "IPY_MODEL_32afec1c49434c0faf8be2fb91805ce3",
              "IPY_MODEL_399a0ba359c348aaa175a620f8198384"
            ],
            "layout": "IPY_MODEL_da39ca009dbf4f38a202a44043eeac4d"
          }
        },
        "2b7b913a22d64a4ab691c25958b16f6e": {
          "model_module": "@jupyter-widgets/controls",
          "model_name": "HTMLModel",
          "model_module_version": "1.5.0",
          "state": {
            "_dom_classes": [],
            "_model_module": "@jupyter-widgets/controls",
            "_model_module_version": "1.5.0",
            "_model_name": "HTMLModel",
            "_view_count": null,
            "_view_module": "@jupyter-widgets/controls",
            "_view_module_version": "1.5.0",
            "_view_name": "HTMLView",
            "description": "",
            "description_tooltip": null,
            "layout": "IPY_MODEL_62e18376f08a4c719e05c59b1b3cb684",
            "placeholder": "​",
            "style": "IPY_MODEL_336dd3e2fa974b1e84bd130b608bf9d0",
            "value": "added_tokens.json: 100%"
          }
        },
        "32afec1c49434c0faf8be2fb91805ce3": {
          "model_module": "@jupyter-widgets/controls",
          "model_name": "FloatProgressModel",
          "model_module_version": "1.5.0",
          "state": {
            "_dom_classes": [],
            "_model_module": "@jupyter-widgets/controls",
            "_model_module_version": "1.5.0",
            "_model_name": "FloatProgressModel",
            "_view_count": null,
            "_view_module": "@jupyter-widgets/controls",
            "_view_module_version": "1.5.0",
            "_view_name": "ProgressView",
            "bar_style": "success",
            "description": "",
            "description_tooltip": null,
            "layout": "IPY_MODEL_19b7731fb3d4490f8bed31befb084c66",
            "max": 84,
            "min": 0,
            "orientation": "horizontal",
            "style": "IPY_MODEL_e615ad2689af4b9296ff6b66898342c9",
            "value": 84
          }
        },
        "399a0ba359c348aaa175a620f8198384": {
          "model_module": "@jupyter-widgets/controls",
          "model_name": "HTMLModel",
          "model_module_version": "1.5.0",
          "state": {
            "_dom_classes": [],
            "_model_module": "@jupyter-widgets/controls",
            "_model_module_version": "1.5.0",
            "_model_name": "HTMLModel",
            "_view_count": null,
            "_view_module": "@jupyter-widgets/controls",
            "_view_module_version": "1.5.0",
            "_view_name": "HTMLView",
            "description": "",
            "description_tooltip": null,
            "layout": "IPY_MODEL_7bcf16f1352d44ebb35370914036da6a",
            "placeholder": "​",
            "style": "IPY_MODEL_01908406774e4e31ada5fdf0084febe4",
            "value": " 84.0/84.0 [00:00&lt;00:00, 2.11kB/s]"
          }
        },
        "da39ca009dbf4f38a202a44043eeac4d": {
          "model_module": "@jupyter-widgets/base",
          "model_name": "LayoutModel",
          "model_module_version": "1.2.0",
          "state": {
            "_model_module": "@jupyter-widgets/base",
            "_model_module_version": "1.2.0",
            "_model_name": "LayoutModel",
            "_view_count": null,
            "_view_module": "@jupyter-widgets/base",
            "_view_module_version": "1.2.0",
            "_view_name": "LayoutView",
            "align_content": null,
            "align_items": null,
            "align_self": null,
            "border": null,
            "bottom": null,
            "display": null,
            "flex": null,
            "flex_flow": null,
            "grid_area": null,
            "grid_auto_columns": null,
            "grid_auto_flow": null,
            "grid_auto_rows": null,
            "grid_column": null,
            "grid_gap": null,
            "grid_row": null,
            "grid_template_areas": null,
            "grid_template_columns": null,
            "grid_template_rows": null,
            "height": null,
            "justify_content": null,
            "justify_items": null,
            "left": null,
            "margin": null,
            "max_height": null,
            "max_width": null,
            "min_height": null,
            "min_width": null,
            "object_fit": null,
            "object_position": null,
            "order": null,
            "overflow": null,
            "overflow_x": null,
            "overflow_y": null,
            "padding": null,
            "right": null,
            "top": null,
            "visibility": null,
            "width": null
          }
        },
        "62e18376f08a4c719e05c59b1b3cb684": {
          "model_module": "@jupyter-widgets/base",
          "model_name": "LayoutModel",
          "model_module_version": "1.2.0",
          "state": {
            "_model_module": "@jupyter-widgets/base",
            "_model_module_version": "1.2.0",
            "_model_name": "LayoutModel",
            "_view_count": null,
            "_view_module": "@jupyter-widgets/base",
            "_view_module_version": "1.2.0",
            "_view_name": "LayoutView",
            "align_content": null,
            "align_items": null,
            "align_self": null,
            "border": null,
            "bottom": null,
            "display": null,
            "flex": null,
            "flex_flow": null,
            "grid_area": null,
            "grid_auto_columns": null,
            "grid_auto_flow": null,
            "grid_auto_rows": null,
            "grid_column": null,
            "grid_gap": null,
            "grid_row": null,
            "grid_template_areas": null,
            "grid_template_columns": null,
            "grid_template_rows": null,
            "height": null,
            "justify_content": null,
            "justify_items": null,
            "left": null,
            "margin": null,
            "max_height": null,
            "max_width": null,
            "min_height": null,
            "min_width": null,
            "object_fit": null,
            "object_position": null,
            "order": null,
            "overflow": null,
            "overflow_x": null,
            "overflow_y": null,
            "padding": null,
            "right": null,
            "top": null,
            "visibility": null,
            "width": null
          }
        },
        "336dd3e2fa974b1e84bd130b608bf9d0": {
          "model_module": "@jupyter-widgets/controls",
          "model_name": "DescriptionStyleModel",
          "model_module_version": "1.5.0",
          "state": {
            "_model_module": "@jupyter-widgets/controls",
            "_model_module_version": "1.5.0",
            "_model_name": "DescriptionStyleModel",
            "_view_count": null,
            "_view_module": "@jupyter-widgets/base",
            "_view_module_version": "1.2.0",
            "_view_name": "StyleView",
            "description_width": ""
          }
        },
        "19b7731fb3d4490f8bed31befb084c66": {
          "model_module": "@jupyter-widgets/base",
          "model_name": "LayoutModel",
          "model_module_version": "1.2.0",
          "state": {
            "_model_module": "@jupyter-widgets/base",
            "_model_module_version": "1.2.0",
            "_model_name": "LayoutModel",
            "_view_count": null,
            "_view_module": "@jupyter-widgets/base",
            "_view_module_version": "1.2.0",
            "_view_name": "LayoutView",
            "align_content": null,
            "align_items": null,
            "align_self": null,
            "border": null,
            "bottom": null,
            "display": null,
            "flex": null,
            "flex_flow": null,
            "grid_area": null,
            "grid_auto_columns": null,
            "grid_auto_flow": null,
            "grid_auto_rows": null,
            "grid_column": null,
            "grid_gap": null,
            "grid_row": null,
            "grid_template_areas": null,
            "grid_template_columns": null,
            "grid_template_rows": null,
            "height": null,
            "justify_content": null,
            "justify_items": null,
            "left": null,
            "margin": null,
            "max_height": null,
            "max_width": null,
            "min_height": null,
            "min_width": null,
            "object_fit": null,
            "object_position": null,
            "order": null,
            "overflow": null,
            "overflow_x": null,
            "overflow_y": null,
            "padding": null,
            "right": null,
            "top": null,
            "visibility": null,
            "width": null
          }
        },
        "e615ad2689af4b9296ff6b66898342c9": {
          "model_module": "@jupyter-widgets/controls",
          "model_name": "ProgressStyleModel",
          "model_module_version": "1.5.0",
          "state": {
            "_model_module": "@jupyter-widgets/controls",
            "_model_module_version": "1.5.0",
            "_model_name": "ProgressStyleModel",
            "_view_count": null,
            "_view_module": "@jupyter-widgets/base",
            "_view_module_version": "1.2.0",
            "_view_name": "StyleView",
            "bar_color": null,
            "description_width": ""
          }
        },
        "7bcf16f1352d44ebb35370914036da6a": {
          "model_module": "@jupyter-widgets/base",
          "model_name": "LayoutModel",
          "model_module_version": "1.2.0",
          "state": {
            "_model_module": "@jupyter-widgets/base",
            "_model_module_version": "1.2.0",
            "_model_name": "LayoutModel",
            "_view_count": null,
            "_view_module": "@jupyter-widgets/base",
            "_view_module_version": "1.2.0",
            "_view_name": "LayoutView",
            "align_content": null,
            "align_items": null,
            "align_self": null,
            "border": null,
            "bottom": null,
            "display": null,
            "flex": null,
            "flex_flow": null,
            "grid_area": null,
            "grid_auto_columns": null,
            "grid_auto_flow": null,
            "grid_auto_rows": null,
            "grid_column": null,
            "grid_gap": null,
            "grid_row": null,
            "grid_template_areas": null,
            "grid_template_columns": null,
            "grid_template_rows": null,
            "height": null,
            "justify_content": null,
            "justify_items": null,
            "left": null,
            "margin": null,
            "max_height": null,
            "max_width": null,
            "min_height": null,
            "min_width": null,
            "object_fit": null,
            "object_position": null,
            "order": null,
            "overflow": null,
            "overflow_x": null,
            "overflow_y": null,
            "padding": null,
            "right": null,
            "top": null,
            "visibility": null,
            "width": null
          }
        },
        "01908406774e4e31ada5fdf0084febe4": {
          "model_module": "@jupyter-widgets/controls",
          "model_name": "DescriptionStyleModel",
          "model_module_version": "1.5.0",
          "state": {
            "_model_module": "@jupyter-widgets/controls",
            "_model_module_version": "1.5.0",
            "_model_name": "DescriptionStyleModel",
            "_view_count": null,
            "_view_module": "@jupyter-widgets/base",
            "_view_module_version": "1.2.0",
            "_view_name": "StyleView",
            "description_width": ""
          }
        },
        "314e67380a7d492aa1d19a19d273ca1e": {
          "model_module": "@jupyter-widgets/controls",
          "model_name": "HBoxModel",
          "model_module_version": "1.5.0",
          "state": {
            "_dom_classes": [],
            "_model_module": "@jupyter-widgets/controls",
            "_model_module_version": "1.5.0",
            "_model_name": "HBoxModel",
            "_view_count": null,
            "_view_module": "@jupyter-widgets/controls",
            "_view_module_version": "1.5.0",
            "_view_name": "HBoxView",
            "box_style": "",
            "children": [
              "IPY_MODEL_2b28aaf3785d4052bdc072d870f25cc2",
              "IPY_MODEL_c8995fabc77a412da39e21c4cf1c1c76",
              "IPY_MODEL_4b7424889aae416b804ac2847cac51bf"
            ],
            "layout": "IPY_MODEL_95bac6fb2dfe4fecac2f69e7709c445e"
          }
        },
        "2b28aaf3785d4052bdc072d870f25cc2": {
          "model_module": "@jupyter-widgets/controls",
          "model_name": "HTMLModel",
          "model_module_version": "1.5.0",
          "state": {
            "_dom_classes": [],
            "_model_module": "@jupyter-widgets/controls",
            "_model_module_version": "1.5.0",
            "_model_name": "HTMLModel",
            "_view_count": null,
            "_view_module": "@jupyter-widgets/controls",
            "_view_module_version": "1.5.0",
            "_view_name": "HTMLView",
            "description": "",
            "description_tooltip": null,
            "layout": "IPY_MODEL_21091eeb42d8418eb77cc7a4d9cb2d0b",
            "placeholder": "​",
            "style": "IPY_MODEL_5bdaafbc175c46fda7bbbdfef2fc9be5",
            "value": "special_tokens_map.json: 100%"
          }
        },
        "c8995fabc77a412da39e21c4cf1c1c76": {
          "model_module": "@jupyter-widgets/controls",
          "model_name": "FloatProgressModel",
          "model_module_version": "1.5.0",
          "state": {
            "_dom_classes": [],
            "_model_module": "@jupyter-widgets/controls",
            "_model_module_version": "1.5.0",
            "_model_name": "FloatProgressModel",
            "_view_count": null,
            "_view_module": "@jupyter-widgets/controls",
            "_view_module_version": "1.5.0",
            "_view_name": "ProgressView",
            "bar_style": "success",
            "description": "",
            "description_tooltip": null,
            "layout": "IPY_MODEL_01aa9747fcb94ec8b9916366bc0a6274",
            "max": 173,
            "min": 0,
            "orientation": "horizontal",
            "style": "IPY_MODEL_fbd789426a394b4c92ad52dd8fd066f3",
            "value": 173
          }
        },
        "4b7424889aae416b804ac2847cac51bf": {
          "model_module": "@jupyter-widgets/controls",
          "model_name": "HTMLModel",
          "model_module_version": "1.5.0",
          "state": {
            "_dom_classes": [],
            "_model_module": "@jupyter-widgets/controls",
            "_model_module_version": "1.5.0",
            "_model_name": "HTMLModel",
            "_view_count": null,
            "_view_module": "@jupyter-widgets/controls",
            "_view_module_version": "1.5.0",
            "_view_name": "HTMLView",
            "description": "",
            "description_tooltip": null,
            "layout": "IPY_MODEL_431c2039288945a382bbdd932e5461b3",
            "placeholder": "​",
            "style": "IPY_MODEL_5d26d9c173d347c09c9ba73bc41a1290",
            "value": " 173/173 [00:00&lt;00:00, 6.60kB/s]"
          }
        },
        "95bac6fb2dfe4fecac2f69e7709c445e": {
          "model_module": "@jupyter-widgets/base",
          "model_name": "LayoutModel",
          "model_module_version": "1.2.0",
          "state": {
            "_model_module": "@jupyter-widgets/base",
            "_model_module_version": "1.2.0",
            "_model_name": "LayoutModel",
            "_view_count": null,
            "_view_module": "@jupyter-widgets/base",
            "_view_module_version": "1.2.0",
            "_view_name": "LayoutView",
            "align_content": null,
            "align_items": null,
            "align_self": null,
            "border": null,
            "bottom": null,
            "display": null,
            "flex": null,
            "flex_flow": null,
            "grid_area": null,
            "grid_auto_columns": null,
            "grid_auto_flow": null,
            "grid_auto_rows": null,
            "grid_column": null,
            "grid_gap": null,
            "grid_row": null,
            "grid_template_areas": null,
            "grid_template_columns": null,
            "grid_template_rows": null,
            "height": null,
            "justify_content": null,
            "justify_items": null,
            "left": null,
            "margin": null,
            "max_height": null,
            "max_width": null,
            "min_height": null,
            "min_width": null,
            "object_fit": null,
            "object_position": null,
            "order": null,
            "overflow": null,
            "overflow_x": null,
            "overflow_y": null,
            "padding": null,
            "right": null,
            "top": null,
            "visibility": null,
            "width": null
          }
        },
        "21091eeb42d8418eb77cc7a4d9cb2d0b": {
          "model_module": "@jupyter-widgets/base",
          "model_name": "LayoutModel",
          "model_module_version": "1.2.0",
          "state": {
            "_model_module": "@jupyter-widgets/base",
            "_model_module_version": "1.2.0",
            "_model_name": "LayoutModel",
            "_view_count": null,
            "_view_module": "@jupyter-widgets/base",
            "_view_module_version": "1.2.0",
            "_view_name": "LayoutView",
            "align_content": null,
            "align_items": null,
            "align_self": null,
            "border": null,
            "bottom": null,
            "display": null,
            "flex": null,
            "flex_flow": null,
            "grid_area": null,
            "grid_auto_columns": null,
            "grid_auto_flow": null,
            "grid_auto_rows": null,
            "grid_column": null,
            "grid_gap": null,
            "grid_row": null,
            "grid_template_areas": null,
            "grid_template_columns": null,
            "grid_template_rows": null,
            "height": null,
            "justify_content": null,
            "justify_items": null,
            "left": null,
            "margin": null,
            "max_height": null,
            "max_width": null,
            "min_height": null,
            "min_width": null,
            "object_fit": null,
            "object_position": null,
            "order": null,
            "overflow": null,
            "overflow_x": null,
            "overflow_y": null,
            "padding": null,
            "right": null,
            "top": null,
            "visibility": null,
            "width": null
          }
        },
        "5bdaafbc175c46fda7bbbdfef2fc9be5": {
          "model_module": "@jupyter-widgets/controls",
          "model_name": "DescriptionStyleModel",
          "model_module_version": "1.5.0",
          "state": {
            "_model_module": "@jupyter-widgets/controls",
            "_model_module_version": "1.5.0",
            "_model_name": "DescriptionStyleModel",
            "_view_count": null,
            "_view_module": "@jupyter-widgets/base",
            "_view_module_version": "1.2.0",
            "_view_name": "StyleView",
            "description_width": ""
          }
        },
        "01aa9747fcb94ec8b9916366bc0a6274": {
          "model_module": "@jupyter-widgets/base",
          "model_name": "LayoutModel",
          "model_module_version": "1.2.0",
          "state": {
            "_model_module": "@jupyter-widgets/base",
            "_model_module_version": "1.2.0",
            "_model_name": "LayoutModel",
            "_view_count": null,
            "_view_module": "@jupyter-widgets/base",
            "_view_module_version": "1.2.0",
            "_view_name": "LayoutView",
            "align_content": null,
            "align_items": null,
            "align_self": null,
            "border": null,
            "bottom": null,
            "display": null,
            "flex": null,
            "flex_flow": null,
            "grid_area": null,
            "grid_auto_columns": null,
            "grid_auto_flow": null,
            "grid_auto_rows": null,
            "grid_column": null,
            "grid_gap": null,
            "grid_row": null,
            "grid_template_areas": null,
            "grid_template_columns": null,
            "grid_template_rows": null,
            "height": null,
            "justify_content": null,
            "justify_items": null,
            "left": null,
            "margin": null,
            "max_height": null,
            "max_width": null,
            "min_height": null,
            "min_width": null,
            "object_fit": null,
            "object_position": null,
            "order": null,
            "overflow": null,
            "overflow_x": null,
            "overflow_y": null,
            "padding": null,
            "right": null,
            "top": null,
            "visibility": null,
            "width": null
          }
        },
        "fbd789426a394b4c92ad52dd8fd066f3": {
          "model_module": "@jupyter-widgets/controls",
          "model_name": "ProgressStyleModel",
          "model_module_version": "1.5.0",
          "state": {
            "_model_module": "@jupyter-widgets/controls",
            "_model_module_version": "1.5.0",
            "_model_name": "ProgressStyleModel",
            "_view_count": null,
            "_view_module": "@jupyter-widgets/base",
            "_view_module_version": "1.2.0",
            "_view_name": "StyleView",
            "bar_color": null,
            "description_width": ""
          }
        },
        "431c2039288945a382bbdd932e5461b3": {
          "model_module": "@jupyter-widgets/base",
          "model_name": "LayoutModel",
          "model_module_version": "1.2.0",
          "state": {
            "_model_module": "@jupyter-widgets/base",
            "_model_module_version": "1.2.0",
            "_model_name": "LayoutModel",
            "_view_count": null,
            "_view_module": "@jupyter-widgets/base",
            "_view_module_version": "1.2.0",
            "_view_name": "LayoutView",
            "align_content": null,
            "align_items": null,
            "align_self": null,
            "border": null,
            "bottom": null,
            "display": null,
            "flex": null,
            "flex_flow": null,
            "grid_area": null,
            "grid_auto_columns": null,
            "grid_auto_flow": null,
            "grid_auto_rows": null,
            "grid_column": null,
            "grid_gap": null,
            "grid_row": null,
            "grid_template_areas": null,
            "grid_template_columns": null,
            "grid_template_rows": null,
            "height": null,
            "justify_content": null,
            "justify_items": null,
            "left": null,
            "margin": null,
            "max_height": null,
            "max_width": null,
            "min_height": null,
            "min_width": null,
            "object_fit": null,
            "object_position": null,
            "order": null,
            "overflow": null,
            "overflow_x": null,
            "overflow_y": null,
            "padding": null,
            "right": null,
            "top": null,
            "visibility": null,
            "width": null
          }
        },
        "5d26d9c173d347c09c9ba73bc41a1290": {
          "model_module": "@jupyter-widgets/controls",
          "model_name": "DescriptionStyleModel",
          "model_module_version": "1.5.0",
          "state": {
            "_model_module": "@jupyter-widgets/controls",
            "_model_module_version": "1.5.0",
            "_model_name": "DescriptionStyleModel",
            "_view_count": null,
            "_view_module": "@jupyter-widgets/base",
            "_view_module_version": "1.2.0",
            "_view_name": "StyleView",
            "description_width": ""
          }
        },
        "381e865dc10c4fefbdb95a9f11c1189e": {
          "model_module": "@jupyter-widgets/controls",
          "model_name": "HBoxModel",
          "model_module_version": "1.5.0",
          "state": {
            "_dom_classes": [],
            "_model_module": "@jupyter-widgets/controls",
            "_model_module_version": "1.5.0",
            "_model_name": "HBoxModel",
            "_view_count": null,
            "_view_module": "@jupyter-widgets/controls",
            "_view_module_version": "1.5.0",
            "_view_name": "HBoxView",
            "box_style": "",
            "children": [
              "IPY_MODEL_a584ccde96de4407a1e53724fe763ddd",
              "IPY_MODEL_861eff0ab9ff40a385050ffaa97d75fa",
              "IPY_MODEL_eabfd083890d4a9d8c4246dce6b39a8b"
            ],
            "layout": "IPY_MODEL_57921156a18d411ca488fe083926d2f0"
          }
        },
        "a584ccde96de4407a1e53724fe763ddd": {
          "model_module": "@jupyter-widgets/controls",
          "model_name": "HTMLModel",
          "model_module_version": "1.5.0",
          "state": {
            "_dom_classes": [],
            "_model_module": "@jupyter-widgets/controls",
            "_model_module_version": "1.5.0",
            "_model_name": "HTMLModel",
            "_view_count": null,
            "_view_module": "@jupyter-widgets/controls",
            "_view_module_version": "1.5.0",
            "_view_name": "HTMLView",
            "description": "",
            "description_tooltip": null,
            "layout": "IPY_MODEL_3ae5d4b3d91b4e409ac3352927512b84",
            "placeholder": "​",
            "style": "IPY_MODEL_41074232a7c442ec87d6cd8bdf1bd931",
            "value": "config.json: 100%"
          }
        },
        "861eff0ab9ff40a385050ffaa97d75fa": {
          "model_module": "@jupyter-widgets/controls",
          "model_name": "FloatProgressModel",
          "model_module_version": "1.5.0",
          "state": {
            "_dom_classes": [],
            "_model_module": "@jupyter-widgets/controls",
            "_model_module_version": "1.5.0",
            "_model_name": "FloatProgressModel",
            "_view_count": null,
            "_view_module": "@jupyter-widgets/controls",
            "_view_module_version": "1.5.0",
            "_view_name": "ProgressView",
            "bar_style": "success",
            "description": "",
            "description_tooltip": null,
            "layout": "IPY_MODEL_a6c26f2928c24bae84eda78a73194ed9",
            "max": 756,
            "min": 0,
            "orientation": "horizontal",
            "style": "IPY_MODEL_6205f686e8434192a9a017c808b3c8b7",
            "value": 756
          }
        },
        "eabfd083890d4a9d8c4246dce6b39a8b": {
          "model_module": "@jupyter-widgets/controls",
          "model_name": "HTMLModel",
          "model_module_version": "1.5.0",
          "state": {
            "_dom_classes": [],
            "_model_module": "@jupyter-widgets/controls",
            "_model_module_version": "1.5.0",
            "_model_name": "HTMLModel",
            "_view_count": null,
            "_view_module": "@jupyter-widgets/controls",
            "_view_module_version": "1.5.0",
            "_view_name": "HTMLView",
            "description": "",
            "description_tooltip": null,
            "layout": "IPY_MODEL_e8127cffdc6b47ba891042ce10489333",
            "placeholder": "​",
            "style": "IPY_MODEL_7e056b9cc5a444f5a3de6b22446e2d1d",
            "value": " 756/756 [00:00&lt;00:00, 23.2kB/s]"
          }
        },
        "57921156a18d411ca488fe083926d2f0": {
          "model_module": "@jupyter-widgets/base",
          "model_name": "LayoutModel",
          "model_module_version": "1.2.0",
          "state": {
            "_model_module": "@jupyter-widgets/base",
            "_model_module_version": "1.2.0",
            "_model_name": "LayoutModel",
            "_view_count": null,
            "_view_module": "@jupyter-widgets/base",
            "_view_module_version": "1.2.0",
            "_view_name": "LayoutView",
            "align_content": null,
            "align_items": null,
            "align_self": null,
            "border": null,
            "bottom": null,
            "display": null,
            "flex": null,
            "flex_flow": null,
            "grid_area": null,
            "grid_auto_columns": null,
            "grid_auto_flow": null,
            "grid_auto_rows": null,
            "grid_column": null,
            "grid_gap": null,
            "grid_row": null,
            "grid_template_areas": null,
            "grid_template_columns": null,
            "grid_template_rows": null,
            "height": null,
            "justify_content": null,
            "justify_items": null,
            "left": null,
            "margin": null,
            "max_height": null,
            "max_width": null,
            "min_height": null,
            "min_width": null,
            "object_fit": null,
            "object_position": null,
            "order": null,
            "overflow": null,
            "overflow_x": null,
            "overflow_y": null,
            "padding": null,
            "right": null,
            "top": null,
            "visibility": null,
            "width": null
          }
        },
        "3ae5d4b3d91b4e409ac3352927512b84": {
          "model_module": "@jupyter-widgets/base",
          "model_name": "LayoutModel",
          "model_module_version": "1.2.0",
          "state": {
            "_model_module": "@jupyter-widgets/base",
            "_model_module_version": "1.2.0",
            "_model_name": "LayoutModel",
            "_view_count": null,
            "_view_module": "@jupyter-widgets/base",
            "_view_module_version": "1.2.0",
            "_view_name": "LayoutView",
            "align_content": null,
            "align_items": null,
            "align_self": null,
            "border": null,
            "bottom": null,
            "display": null,
            "flex": null,
            "flex_flow": null,
            "grid_area": null,
            "grid_auto_columns": null,
            "grid_auto_flow": null,
            "grid_auto_rows": null,
            "grid_column": null,
            "grid_gap": null,
            "grid_row": null,
            "grid_template_areas": null,
            "grid_template_columns": null,
            "grid_template_rows": null,
            "height": null,
            "justify_content": null,
            "justify_items": null,
            "left": null,
            "margin": null,
            "max_height": null,
            "max_width": null,
            "min_height": null,
            "min_width": null,
            "object_fit": null,
            "object_position": null,
            "order": null,
            "overflow": null,
            "overflow_x": null,
            "overflow_y": null,
            "padding": null,
            "right": null,
            "top": null,
            "visibility": null,
            "width": null
          }
        },
        "41074232a7c442ec87d6cd8bdf1bd931": {
          "model_module": "@jupyter-widgets/controls",
          "model_name": "DescriptionStyleModel",
          "model_module_version": "1.5.0",
          "state": {
            "_model_module": "@jupyter-widgets/controls",
            "_model_module_version": "1.5.0",
            "_model_name": "DescriptionStyleModel",
            "_view_count": null,
            "_view_module": "@jupyter-widgets/base",
            "_view_module_version": "1.2.0",
            "_view_name": "StyleView",
            "description_width": ""
          }
        },
        "a6c26f2928c24bae84eda78a73194ed9": {
          "model_module": "@jupyter-widgets/base",
          "model_name": "LayoutModel",
          "model_module_version": "1.2.0",
          "state": {
            "_model_module": "@jupyter-widgets/base",
            "_model_module_version": "1.2.0",
            "_model_name": "LayoutModel",
            "_view_count": null,
            "_view_module": "@jupyter-widgets/base",
            "_view_module_version": "1.2.0",
            "_view_name": "LayoutView",
            "align_content": null,
            "align_items": null,
            "align_self": null,
            "border": null,
            "bottom": null,
            "display": null,
            "flex": null,
            "flex_flow": null,
            "grid_area": null,
            "grid_auto_columns": null,
            "grid_auto_flow": null,
            "grid_auto_rows": null,
            "grid_column": null,
            "grid_gap": null,
            "grid_row": null,
            "grid_template_areas": null,
            "grid_template_columns": null,
            "grid_template_rows": null,
            "height": null,
            "justify_content": null,
            "justify_items": null,
            "left": null,
            "margin": null,
            "max_height": null,
            "max_width": null,
            "min_height": null,
            "min_width": null,
            "object_fit": null,
            "object_position": null,
            "order": null,
            "overflow": null,
            "overflow_x": null,
            "overflow_y": null,
            "padding": null,
            "right": null,
            "top": null,
            "visibility": null,
            "width": null
          }
        },
        "6205f686e8434192a9a017c808b3c8b7": {
          "model_module": "@jupyter-widgets/controls",
          "model_name": "ProgressStyleModel",
          "model_module_version": "1.5.0",
          "state": {
            "_model_module": "@jupyter-widgets/controls",
            "_model_module_version": "1.5.0",
            "_model_name": "ProgressStyleModel",
            "_view_count": null,
            "_view_module": "@jupyter-widgets/base",
            "_view_module_version": "1.2.0",
            "_view_name": "StyleView",
            "bar_color": null,
            "description_width": ""
          }
        },
        "e8127cffdc6b47ba891042ce10489333": {
          "model_module": "@jupyter-widgets/base",
          "model_name": "LayoutModel",
          "model_module_version": "1.2.0",
          "state": {
            "_model_module": "@jupyter-widgets/base",
            "_model_module_version": "1.2.0",
            "_model_name": "LayoutModel",
            "_view_count": null,
            "_view_module": "@jupyter-widgets/base",
            "_view_module_version": "1.2.0",
            "_view_name": "LayoutView",
            "align_content": null,
            "align_items": null,
            "align_self": null,
            "border": null,
            "bottom": null,
            "display": null,
            "flex": null,
            "flex_flow": null,
            "grid_area": null,
            "grid_auto_columns": null,
            "grid_auto_flow": null,
            "grid_auto_rows": null,
            "grid_column": null,
            "grid_gap": null,
            "grid_row": null,
            "grid_template_areas": null,
            "grid_template_columns": null,
            "grid_template_rows": null,
            "height": null,
            "justify_content": null,
            "justify_items": null,
            "left": null,
            "margin": null,
            "max_height": null,
            "max_width": null,
            "min_height": null,
            "min_width": null,
            "object_fit": null,
            "object_position": null,
            "order": null,
            "overflow": null,
            "overflow_x": null,
            "overflow_y": null,
            "padding": null,
            "right": null,
            "top": null,
            "visibility": null,
            "width": null
          }
        },
        "7e056b9cc5a444f5a3de6b22446e2d1d": {
          "model_module": "@jupyter-widgets/controls",
          "model_name": "DescriptionStyleModel",
          "model_module_version": "1.5.0",
          "state": {
            "_model_module": "@jupyter-widgets/controls",
            "_model_module_version": "1.5.0",
            "_model_name": "DescriptionStyleModel",
            "_view_count": null,
            "_view_module": "@jupyter-widgets/base",
            "_view_module_version": "1.2.0",
            "_view_name": "StyleView",
            "description_width": ""
          }
        },
        "e48546dacda940e3af1dc96efb571805": {
          "model_module": "@jupyter-widgets/controls",
          "model_name": "HBoxModel",
          "model_module_version": "1.5.0",
          "state": {
            "_dom_classes": [],
            "_model_module": "@jupyter-widgets/controls",
            "_model_module_version": "1.5.0",
            "_model_name": "HBoxModel",
            "_view_count": null,
            "_view_module": "@jupyter-widgets/controls",
            "_view_module_version": "1.5.0",
            "_view_name": "HBoxView",
            "box_style": "",
            "children": [
              "IPY_MODEL_fae7dc50a1034ace8a901e67ed4a46c0",
              "IPY_MODEL_86f8c82718d84e61932730216f22fcf8",
              "IPY_MODEL_23523bf8e41a4974a43ddd90fd6cf298"
            ],
            "layout": "IPY_MODEL_5d18a1fd20bf42d99a69931a4f7e5f1a"
          }
        },
        "fae7dc50a1034ace8a901e67ed4a46c0": {
          "model_module": "@jupyter-widgets/controls",
          "model_name": "HTMLModel",
          "model_module_version": "1.5.0",
          "state": {
            "_dom_classes": [],
            "_model_module": "@jupyter-widgets/controls",
            "_model_module_version": "1.5.0",
            "_model_name": "HTMLModel",
            "_view_count": null,
            "_view_module": "@jupyter-widgets/controls",
            "_view_module_version": "1.5.0",
            "_view_name": "HTMLView",
            "description": "",
            "description_tooltip": null,
            "layout": "IPY_MODEL_6c70f9bfc36d4fa39bb640052f4baa5c",
            "placeholder": "​",
            "style": "IPY_MODEL_88a6dc1d6b6b4ddaa024da911090e075",
            "value": "pytorch_model.bin: 100%"
          }
        },
        "86f8c82718d84e61932730216f22fcf8": {
          "model_module": "@jupyter-widgets/controls",
          "model_name": "FloatProgressModel",
          "model_module_version": "1.5.0",
          "state": {
            "_dom_classes": [],
            "_model_module": "@jupyter-widgets/controls",
            "_model_module_version": "1.5.0",
            "_model_name": "FloatProgressModel",
            "_view_count": null,
            "_view_module": "@jupyter-widgets/controls",
            "_view_module_version": "1.5.0",
            "_view_name": "ProgressView",
            "bar_style": "success",
            "description": "",
            "description_tooltip": null,
            "layout": "IPY_MODEL_93b48d7c6f6a4ccb82e1a854021117e6",
            "max": 100839543,
            "min": 0,
            "orientation": "horizontal",
            "style": "IPY_MODEL_88fb19a5ef5a4162b79766d5bc1e27fe",
            "value": 100839543
          }
        },
        "23523bf8e41a4974a43ddd90fd6cf298": {
          "model_module": "@jupyter-widgets/controls",
          "model_name": "HTMLModel",
          "model_module_version": "1.5.0",
          "state": {
            "_dom_classes": [],
            "_model_module": "@jupyter-widgets/controls",
            "_model_module_version": "1.5.0",
            "_model_name": "HTMLModel",
            "_view_count": null,
            "_view_module": "@jupyter-widgets/controls",
            "_view_module_version": "1.5.0",
            "_view_name": "HTMLView",
            "description": "",
            "description_tooltip": null,
            "layout": "IPY_MODEL_7f65862bce4441e0a81f8a1e07b56665",
            "placeholder": "​",
            "style": "IPY_MODEL_e598172d4d74477ba2bb99f67d99a9f8",
            "value": " 101M/101M [00:01&lt;00:00, 105MB/s]"
          }
        },
        "5d18a1fd20bf42d99a69931a4f7e5f1a": {
          "model_module": "@jupyter-widgets/base",
          "model_name": "LayoutModel",
          "model_module_version": "1.2.0",
          "state": {
            "_model_module": "@jupyter-widgets/base",
            "_model_module_version": "1.2.0",
            "_model_name": "LayoutModel",
            "_view_count": null,
            "_view_module": "@jupyter-widgets/base",
            "_view_module_version": "1.2.0",
            "_view_name": "LayoutView",
            "align_content": null,
            "align_items": null,
            "align_self": null,
            "border": null,
            "bottom": null,
            "display": null,
            "flex": null,
            "flex_flow": null,
            "grid_area": null,
            "grid_auto_columns": null,
            "grid_auto_flow": null,
            "grid_auto_rows": null,
            "grid_column": null,
            "grid_gap": null,
            "grid_row": null,
            "grid_template_areas": null,
            "grid_template_columns": null,
            "grid_template_rows": null,
            "height": null,
            "justify_content": null,
            "justify_items": null,
            "left": null,
            "margin": null,
            "max_height": null,
            "max_width": null,
            "min_height": null,
            "min_width": null,
            "object_fit": null,
            "object_position": null,
            "order": null,
            "overflow": null,
            "overflow_x": null,
            "overflow_y": null,
            "padding": null,
            "right": null,
            "top": null,
            "visibility": null,
            "width": null
          }
        },
        "6c70f9bfc36d4fa39bb640052f4baa5c": {
          "model_module": "@jupyter-widgets/base",
          "model_name": "LayoutModel",
          "model_module_version": "1.2.0",
          "state": {
            "_model_module": "@jupyter-widgets/base",
            "_model_module_version": "1.2.0",
            "_model_name": "LayoutModel",
            "_view_count": null,
            "_view_module": "@jupyter-widgets/base",
            "_view_module_version": "1.2.0",
            "_view_name": "LayoutView",
            "align_content": null,
            "align_items": null,
            "align_self": null,
            "border": null,
            "bottom": null,
            "display": null,
            "flex": null,
            "flex_flow": null,
            "grid_area": null,
            "grid_auto_columns": null,
            "grid_auto_flow": null,
            "grid_auto_rows": null,
            "grid_column": null,
            "grid_gap": null,
            "grid_row": null,
            "grid_template_areas": null,
            "grid_template_columns": null,
            "grid_template_rows": null,
            "height": null,
            "justify_content": null,
            "justify_items": null,
            "left": null,
            "margin": null,
            "max_height": null,
            "max_width": null,
            "min_height": null,
            "min_width": null,
            "object_fit": null,
            "object_position": null,
            "order": null,
            "overflow": null,
            "overflow_x": null,
            "overflow_y": null,
            "padding": null,
            "right": null,
            "top": null,
            "visibility": null,
            "width": null
          }
        },
        "88a6dc1d6b6b4ddaa024da911090e075": {
          "model_module": "@jupyter-widgets/controls",
          "model_name": "DescriptionStyleModel",
          "model_module_version": "1.5.0",
          "state": {
            "_model_module": "@jupyter-widgets/controls",
            "_model_module_version": "1.5.0",
            "_model_name": "DescriptionStyleModel",
            "_view_count": null,
            "_view_module": "@jupyter-widgets/base",
            "_view_module_version": "1.2.0",
            "_view_name": "StyleView",
            "description_width": ""
          }
        },
        "93b48d7c6f6a4ccb82e1a854021117e6": {
          "model_module": "@jupyter-widgets/base",
          "model_name": "LayoutModel",
          "model_module_version": "1.2.0",
          "state": {
            "_model_module": "@jupyter-widgets/base",
            "_model_module_version": "1.2.0",
            "_model_name": "LayoutModel",
            "_view_count": null,
            "_view_module": "@jupyter-widgets/base",
            "_view_module_version": "1.2.0",
            "_view_name": "LayoutView",
            "align_content": null,
            "align_items": null,
            "align_self": null,
            "border": null,
            "bottom": null,
            "display": null,
            "flex": null,
            "flex_flow": null,
            "grid_area": null,
            "grid_auto_columns": null,
            "grid_auto_flow": null,
            "grid_auto_rows": null,
            "grid_column": null,
            "grid_gap": null,
            "grid_row": null,
            "grid_template_areas": null,
            "grid_template_columns": null,
            "grid_template_rows": null,
            "height": null,
            "justify_content": null,
            "justify_items": null,
            "left": null,
            "margin": null,
            "max_height": null,
            "max_width": null,
            "min_height": null,
            "min_width": null,
            "object_fit": null,
            "object_position": null,
            "order": null,
            "overflow": null,
            "overflow_x": null,
            "overflow_y": null,
            "padding": null,
            "right": null,
            "top": null,
            "visibility": null,
            "width": null
          }
        },
        "88fb19a5ef5a4162b79766d5bc1e27fe": {
          "model_module": "@jupyter-widgets/controls",
          "model_name": "ProgressStyleModel",
          "model_module_version": "1.5.0",
          "state": {
            "_model_module": "@jupyter-widgets/controls",
            "_model_module_version": "1.5.0",
            "_model_name": "ProgressStyleModel",
            "_view_count": null,
            "_view_module": "@jupyter-widgets/base",
            "_view_module_version": "1.2.0",
            "_view_name": "StyleView",
            "bar_color": null,
            "description_width": ""
          }
        },
        "7f65862bce4441e0a81f8a1e07b56665": {
          "model_module": "@jupyter-widgets/base",
          "model_name": "LayoutModel",
          "model_module_version": "1.2.0",
          "state": {
            "_model_module": "@jupyter-widgets/base",
            "_model_module_version": "1.2.0",
            "_model_name": "LayoutModel",
            "_view_count": null,
            "_view_module": "@jupyter-widgets/base",
            "_view_module_version": "1.2.0",
            "_view_name": "LayoutView",
            "align_content": null,
            "align_items": null,
            "align_self": null,
            "border": null,
            "bottom": null,
            "display": null,
            "flex": null,
            "flex_flow": null,
            "grid_area": null,
            "grid_auto_columns": null,
            "grid_auto_flow": null,
            "grid_auto_rows": null,
            "grid_column": null,
            "grid_gap": null,
            "grid_row": null,
            "grid_template_areas": null,
            "grid_template_columns": null,
            "grid_template_rows": null,
            "height": null,
            "justify_content": null,
            "justify_items": null,
            "left": null,
            "margin": null,
            "max_height": null,
            "max_width": null,
            "min_height": null,
            "min_width": null,
            "object_fit": null,
            "object_position": null,
            "order": null,
            "overflow": null,
            "overflow_x": null,
            "overflow_y": null,
            "padding": null,
            "right": null,
            "top": null,
            "visibility": null,
            "width": null
          }
        },
        "e598172d4d74477ba2bb99f67d99a9f8": {
          "model_module": "@jupyter-widgets/controls",
          "model_name": "DescriptionStyleModel",
          "model_module_version": "1.5.0",
          "state": {
            "_model_module": "@jupyter-widgets/controls",
            "_model_module_version": "1.5.0",
            "_model_name": "DescriptionStyleModel",
            "_view_count": null,
            "_view_module": "@jupyter-widgets/base",
            "_view_module_version": "1.2.0",
            "_view_name": "StyleView",
            "description_width": ""
          }
        },
        "060c3165c93a458898934d26f7d37141": {
          "model_module": "@jupyter-widgets/controls",
          "model_name": "HBoxModel",
          "model_module_version": "1.5.0",
          "state": {
            "_dom_classes": [],
            "_model_module": "@jupyter-widgets/controls",
            "_model_module_version": "1.5.0",
            "_model_name": "HBoxModel",
            "_view_count": null,
            "_view_module": "@jupyter-widgets/controls",
            "_view_module_version": "1.5.0",
            "_view_name": "HBoxView",
            "box_style": "",
            "children": [
              "IPY_MODEL_4734d785185845a3982100163c081c08",
              "IPY_MODEL_ecfbceae47754d608c21a2ff55919910",
              "IPY_MODEL_15c5d227b8024dc9a3b16fe7ab196f12"
            ],
            "layout": "IPY_MODEL_5da66e1bb34c493bbc78d51e36618c94"
          }
        },
        "4734d785185845a3982100163c081c08": {
          "model_module": "@jupyter-widgets/controls",
          "model_name": "HTMLModel",
          "model_module_version": "1.5.0",
          "state": {
            "_dom_classes": [],
            "_model_module": "@jupyter-widgets/controls",
            "_model_module_version": "1.5.0",
            "_model_name": "HTMLModel",
            "_view_count": null,
            "_view_module": "@jupyter-widgets/controls",
            "_view_module_version": "1.5.0",
            "_view_name": "HTMLView",
            "description": "",
            "description_tooltip": null,
            "layout": "IPY_MODEL_a05c4e0ed45e4bcd9337e765bc589578",
            "placeholder": "​",
            "style": "IPY_MODEL_bbe07d3b61bf414bb618531fad9290e0",
            "value": "Testing DataLoader 0: 100%"
          }
        },
        "ecfbceae47754d608c21a2ff55919910": {
          "model_module": "@jupyter-widgets/controls",
          "model_name": "FloatProgressModel",
          "model_module_version": "1.5.0",
          "state": {
            "_dom_classes": [],
            "_model_module": "@jupyter-widgets/controls",
            "_model_module_version": "1.5.0",
            "_model_name": "FloatProgressModel",
            "_view_count": null,
            "_view_module": "@jupyter-widgets/controls",
            "_view_module_version": "1.5.0",
            "_view_name": "ProgressView",
            "bar_style": "success",
            "description": "",
            "description_tooltip": null,
            "layout": "IPY_MODEL_3c1c40365ff74239b5cdaef7be48a24e",
            "max": 10,
            "min": 0,
            "orientation": "horizontal",
            "style": "IPY_MODEL_10ba9c9619bd4a6880c8b037626b73fc",
            "value": 10
          }
        },
        "15c5d227b8024dc9a3b16fe7ab196f12": {
          "model_module": "@jupyter-widgets/controls",
          "model_name": "HTMLModel",
          "model_module_version": "1.5.0",
          "state": {
            "_dom_classes": [],
            "_model_module": "@jupyter-widgets/controls",
            "_model_module_version": "1.5.0",
            "_model_name": "HTMLModel",
            "_view_count": null,
            "_view_module": "@jupyter-widgets/controls",
            "_view_module_version": "1.5.0",
            "_view_name": "HTMLView",
            "description": "",
            "description_tooltip": null,
            "layout": "IPY_MODEL_3ef694e0f9c949bf8dd4fd1537da255e",
            "placeholder": "​",
            "style": "IPY_MODEL_f6f057318c004f4889f20d8c14f65626",
            "value": " 10/10 [00:04&lt;00:00,  2.13it/s]"
          }
        },
        "5da66e1bb34c493bbc78d51e36618c94": {
          "model_module": "@jupyter-widgets/base",
          "model_name": "LayoutModel",
          "model_module_version": "1.2.0",
          "state": {
            "_model_module": "@jupyter-widgets/base",
            "_model_module_version": "1.2.0",
            "_model_name": "LayoutModel",
            "_view_count": null,
            "_view_module": "@jupyter-widgets/base",
            "_view_module_version": "1.2.0",
            "_view_name": "LayoutView",
            "align_content": null,
            "align_items": null,
            "align_self": null,
            "border": null,
            "bottom": null,
            "display": "inline-flex",
            "flex": null,
            "flex_flow": "row wrap",
            "grid_area": null,
            "grid_auto_columns": null,
            "grid_auto_flow": null,
            "grid_auto_rows": null,
            "grid_column": null,
            "grid_gap": null,
            "grid_row": null,
            "grid_template_areas": null,
            "grid_template_columns": null,
            "grid_template_rows": null,
            "height": null,
            "justify_content": null,
            "justify_items": null,
            "left": null,
            "margin": null,
            "max_height": null,
            "max_width": null,
            "min_height": null,
            "min_width": null,
            "object_fit": null,
            "object_position": null,
            "order": null,
            "overflow": null,
            "overflow_x": null,
            "overflow_y": null,
            "padding": null,
            "right": null,
            "top": null,
            "visibility": null,
            "width": "100%"
          }
        },
        "a05c4e0ed45e4bcd9337e765bc589578": {
          "model_module": "@jupyter-widgets/base",
          "model_name": "LayoutModel",
          "model_module_version": "1.2.0",
          "state": {
            "_model_module": "@jupyter-widgets/base",
            "_model_module_version": "1.2.0",
            "_model_name": "LayoutModel",
            "_view_count": null,
            "_view_module": "@jupyter-widgets/base",
            "_view_module_version": "1.2.0",
            "_view_name": "LayoutView",
            "align_content": null,
            "align_items": null,
            "align_self": null,
            "border": null,
            "bottom": null,
            "display": null,
            "flex": null,
            "flex_flow": null,
            "grid_area": null,
            "grid_auto_columns": null,
            "grid_auto_flow": null,
            "grid_auto_rows": null,
            "grid_column": null,
            "grid_gap": null,
            "grid_row": null,
            "grid_template_areas": null,
            "grid_template_columns": null,
            "grid_template_rows": null,
            "height": null,
            "justify_content": null,
            "justify_items": null,
            "left": null,
            "margin": null,
            "max_height": null,
            "max_width": null,
            "min_height": null,
            "min_width": null,
            "object_fit": null,
            "object_position": null,
            "order": null,
            "overflow": null,
            "overflow_x": null,
            "overflow_y": null,
            "padding": null,
            "right": null,
            "top": null,
            "visibility": null,
            "width": null
          }
        },
        "bbe07d3b61bf414bb618531fad9290e0": {
          "model_module": "@jupyter-widgets/controls",
          "model_name": "DescriptionStyleModel",
          "model_module_version": "1.5.0",
          "state": {
            "_model_module": "@jupyter-widgets/controls",
            "_model_module_version": "1.5.0",
            "_model_name": "DescriptionStyleModel",
            "_view_count": null,
            "_view_module": "@jupyter-widgets/base",
            "_view_module_version": "1.2.0",
            "_view_name": "StyleView",
            "description_width": ""
          }
        },
        "3c1c40365ff74239b5cdaef7be48a24e": {
          "model_module": "@jupyter-widgets/base",
          "model_name": "LayoutModel",
          "model_module_version": "1.2.0",
          "state": {
            "_model_module": "@jupyter-widgets/base",
            "_model_module_version": "1.2.0",
            "_model_name": "LayoutModel",
            "_view_count": null,
            "_view_module": "@jupyter-widgets/base",
            "_view_module_version": "1.2.0",
            "_view_name": "LayoutView",
            "align_content": null,
            "align_items": null,
            "align_self": null,
            "border": null,
            "bottom": null,
            "display": null,
            "flex": "2",
            "flex_flow": null,
            "grid_area": null,
            "grid_auto_columns": null,
            "grid_auto_flow": null,
            "grid_auto_rows": null,
            "grid_column": null,
            "grid_gap": null,
            "grid_row": null,
            "grid_template_areas": null,
            "grid_template_columns": null,
            "grid_template_rows": null,
            "height": null,
            "justify_content": null,
            "justify_items": null,
            "left": null,
            "margin": null,
            "max_height": null,
            "max_width": null,
            "min_height": null,
            "min_width": null,
            "object_fit": null,
            "object_position": null,
            "order": null,
            "overflow": null,
            "overflow_x": null,
            "overflow_y": null,
            "padding": null,
            "right": null,
            "top": null,
            "visibility": null,
            "width": null
          }
        },
        "10ba9c9619bd4a6880c8b037626b73fc": {
          "model_module": "@jupyter-widgets/controls",
          "model_name": "ProgressStyleModel",
          "model_module_version": "1.5.0",
          "state": {
            "_model_module": "@jupyter-widgets/controls",
            "_model_module_version": "1.5.0",
            "_model_name": "ProgressStyleModel",
            "_view_count": null,
            "_view_module": "@jupyter-widgets/base",
            "_view_module_version": "1.2.0",
            "_view_name": "StyleView",
            "bar_color": null,
            "description_width": ""
          }
        },
        "3ef694e0f9c949bf8dd4fd1537da255e": {
          "model_module": "@jupyter-widgets/base",
          "model_name": "LayoutModel",
          "model_module_version": "1.2.0",
          "state": {
            "_model_module": "@jupyter-widgets/base",
            "_model_module_version": "1.2.0",
            "_model_name": "LayoutModel",
            "_view_count": null,
            "_view_module": "@jupyter-widgets/base",
            "_view_module_version": "1.2.0",
            "_view_name": "LayoutView",
            "align_content": null,
            "align_items": null,
            "align_self": null,
            "border": null,
            "bottom": null,
            "display": null,
            "flex": null,
            "flex_flow": null,
            "grid_area": null,
            "grid_auto_columns": null,
            "grid_auto_flow": null,
            "grid_auto_rows": null,
            "grid_column": null,
            "grid_gap": null,
            "grid_row": null,
            "grid_template_areas": null,
            "grid_template_columns": null,
            "grid_template_rows": null,
            "height": null,
            "justify_content": null,
            "justify_items": null,
            "left": null,
            "margin": null,
            "max_height": null,
            "max_width": null,
            "min_height": null,
            "min_width": null,
            "object_fit": null,
            "object_position": null,
            "order": null,
            "overflow": null,
            "overflow_x": null,
            "overflow_y": null,
            "padding": null,
            "right": null,
            "top": null,
            "visibility": null,
            "width": null
          }
        },
        "f6f057318c004f4889f20d8c14f65626": {
          "model_module": "@jupyter-widgets/controls",
          "model_name": "DescriptionStyleModel",
          "model_module_version": "1.5.0",
          "state": {
            "_model_module": "@jupyter-widgets/controls",
            "_model_module_version": "1.5.0",
            "_model_name": "DescriptionStyleModel",
            "_view_count": null,
            "_view_module": "@jupyter-widgets/base",
            "_view_module_version": "1.2.0",
            "_view_name": "StyleView",
            "description_width": ""
          }
        },
        "12d436259dc94fcb99f53873460b4c8c": {
          "model_module": "@jupyter-widgets/controls",
          "model_name": "HBoxModel",
          "model_module_version": "1.5.0",
          "state": {
            "_dom_classes": [],
            "_model_module": "@jupyter-widgets/controls",
            "_model_module_version": "1.5.0",
            "_model_name": "HBoxModel",
            "_view_count": null,
            "_view_module": "@jupyter-widgets/controls",
            "_view_module_version": "1.5.0",
            "_view_name": "HBoxView",
            "box_style": "",
            "children": [
              "IPY_MODEL_cd625cc03b3e4aecb8a0f7f0949a07ca",
              "IPY_MODEL_a52274df743a4963a1fb1024f41d884e",
              "IPY_MODEL_f63f7dc1106b4ad18062fef5f82957a5"
            ],
            "layout": "IPY_MODEL_4fca935f8ee646c18d150b0260110db8"
          }
        },
        "cd625cc03b3e4aecb8a0f7f0949a07ca": {
          "model_module": "@jupyter-widgets/controls",
          "model_name": "HTMLModel",
          "model_module_version": "1.5.0",
          "state": {
            "_dom_classes": [],
            "_model_module": "@jupyter-widgets/controls",
            "_model_module_version": "1.5.0",
            "_model_name": "HTMLModel",
            "_view_count": null,
            "_view_module": "@jupyter-widgets/controls",
            "_view_module_version": "1.5.0",
            "_view_name": "HTMLView",
            "description": "",
            "description_tooltip": null,
            "layout": "IPY_MODEL_ab0eca8af88e4c1396b8c7b1cc6794d2",
            "placeholder": "​",
            "style": "IPY_MODEL_216164e85cdf4483b5939c06092c71ba",
            "value": "Testing DataLoader 0: 100%"
          }
        },
        "a52274df743a4963a1fb1024f41d884e": {
          "model_module": "@jupyter-widgets/controls",
          "model_name": "FloatProgressModel",
          "model_module_version": "1.5.0",
          "state": {
            "_dom_classes": [],
            "_model_module": "@jupyter-widgets/controls",
            "_model_module_version": "1.5.0",
            "_model_name": "FloatProgressModel",
            "_view_count": null,
            "_view_module": "@jupyter-widgets/controls",
            "_view_module_version": "1.5.0",
            "_view_name": "ProgressView",
            "bar_style": "success",
            "description": "",
            "description_tooltip": null,
            "layout": "IPY_MODEL_1555114674a44340be969eb4cc0c298c",
            "max": 10,
            "min": 0,
            "orientation": "horizontal",
            "style": "IPY_MODEL_4cb734f81bb945b2b1a9beea4b0d2ce1",
            "value": 10
          }
        },
        "f63f7dc1106b4ad18062fef5f82957a5": {
          "model_module": "@jupyter-widgets/controls",
          "model_name": "HTMLModel",
          "model_module_version": "1.5.0",
          "state": {
            "_dom_classes": [],
            "_model_module": "@jupyter-widgets/controls",
            "_model_module_version": "1.5.0",
            "_model_name": "HTMLModel",
            "_view_count": null,
            "_view_module": "@jupyter-widgets/controls",
            "_view_module_version": "1.5.0",
            "_view_name": "HTMLView",
            "description": "",
            "description_tooltip": null,
            "layout": "IPY_MODEL_a9fc7ec8e6e3401fa2f7fc1c360afb4d",
            "placeholder": "​",
            "style": "IPY_MODEL_0e43df3bb33a41168aa9b81890d19c61",
            "value": " 10/10 [00:05&lt;00:00,  1.88it/s]"
          }
        },
        "4fca935f8ee646c18d150b0260110db8": {
          "model_module": "@jupyter-widgets/base",
          "model_name": "LayoutModel",
          "model_module_version": "1.2.0",
          "state": {
            "_model_module": "@jupyter-widgets/base",
            "_model_module_version": "1.2.0",
            "_model_name": "LayoutModel",
            "_view_count": null,
            "_view_module": "@jupyter-widgets/base",
            "_view_module_version": "1.2.0",
            "_view_name": "LayoutView",
            "align_content": null,
            "align_items": null,
            "align_self": null,
            "border": null,
            "bottom": null,
            "display": "inline-flex",
            "flex": null,
            "flex_flow": "row wrap",
            "grid_area": null,
            "grid_auto_columns": null,
            "grid_auto_flow": null,
            "grid_auto_rows": null,
            "grid_column": null,
            "grid_gap": null,
            "grid_row": null,
            "grid_template_areas": null,
            "grid_template_columns": null,
            "grid_template_rows": null,
            "height": null,
            "justify_content": null,
            "justify_items": null,
            "left": null,
            "margin": null,
            "max_height": null,
            "max_width": null,
            "min_height": null,
            "min_width": null,
            "object_fit": null,
            "object_position": null,
            "order": null,
            "overflow": null,
            "overflow_x": null,
            "overflow_y": null,
            "padding": null,
            "right": null,
            "top": null,
            "visibility": null,
            "width": "100%"
          }
        },
        "ab0eca8af88e4c1396b8c7b1cc6794d2": {
          "model_module": "@jupyter-widgets/base",
          "model_name": "LayoutModel",
          "model_module_version": "1.2.0",
          "state": {
            "_model_module": "@jupyter-widgets/base",
            "_model_module_version": "1.2.0",
            "_model_name": "LayoutModel",
            "_view_count": null,
            "_view_module": "@jupyter-widgets/base",
            "_view_module_version": "1.2.0",
            "_view_name": "LayoutView",
            "align_content": null,
            "align_items": null,
            "align_self": null,
            "border": null,
            "bottom": null,
            "display": null,
            "flex": null,
            "flex_flow": null,
            "grid_area": null,
            "grid_auto_columns": null,
            "grid_auto_flow": null,
            "grid_auto_rows": null,
            "grid_column": null,
            "grid_gap": null,
            "grid_row": null,
            "grid_template_areas": null,
            "grid_template_columns": null,
            "grid_template_rows": null,
            "height": null,
            "justify_content": null,
            "justify_items": null,
            "left": null,
            "margin": null,
            "max_height": null,
            "max_width": null,
            "min_height": null,
            "min_width": null,
            "object_fit": null,
            "object_position": null,
            "order": null,
            "overflow": null,
            "overflow_x": null,
            "overflow_y": null,
            "padding": null,
            "right": null,
            "top": null,
            "visibility": null,
            "width": null
          }
        },
        "216164e85cdf4483b5939c06092c71ba": {
          "model_module": "@jupyter-widgets/controls",
          "model_name": "DescriptionStyleModel",
          "model_module_version": "1.5.0",
          "state": {
            "_model_module": "@jupyter-widgets/controls",
            "_model_module_version": "1.5.0",
            "_model_name": "DescriptionStyleModel",
            "_view_count": null,
            "_view_module": "@jupyter-widgets/base",
            "_view_module_version": "1.2.0",
            "_view_name": "StyleView",
            "description_width": ""
          }
        },
        "1555114674a44340be969eb4cc0c298c": {
          "model_module": "@jupyter-widgets/base",
          "model_name": "LayoutModel",
          "model_module_version": "1.2.0",
          "state": {
            "_model_module": "@jupyter-widgets/base",
            "_model_module_version": "1.2.0",
            "_model_name": "LayoutModel",
            "_view_count": null,
            "_view_module": "@jupyter-widgets/base",
            "_view_module_version": "1.2.0",
            "_view_name": "LayoutView",
            "align_content": null,
            "align_items": null,
            "align_self": null,
            "border": null,
            "bottom": null,
            "display": null,
            "flex": "2",
            "flex_flow": null,
            "grid_area": null,
            "grid_auto_columns": null,
            "grid_auto_flow": null,
            "grid_auto_rows": null,
            "grid_column": null,
            "grid_gap": null,
            "grid_row": null,
            "grid_template_areas": null,
            "grid_template_columns": null,
            "grid_template_rows": null,
            "height": null,
            "justify_content": null,
            "justify_items": null,
            "left": null,
            "margin": null,
            "max_height": null,
            "max_width": null,
            "min_height": null,
            "min_width": null,
            "object_fit": null,
            "object_position": null,
            "order": null,
            "overflow": null,
            "overflow_x": null,
            "overflow_y": null,
            "padding": null,
            "right": null,
            "top": null,
            "visibility": null,
            "width": null
          }
        },
        "4cb734f81bb945b2b1a9beea4b0d2ce1": {
          "model_module": "@jupyter-widgets/controls",
          "model_name": "ProgressStyleModel",
          "model_module_version": "1.5.0",
          "state": {
            "_model_module": "@jupyter-widgets/controls",
            "_model_module_version": "1.5.0",
            "_model_name": "ProgressStyleModel",
            "_view_count": null,
            "_view_module": "@jupyter-widgets/base",
            "_view_module_version": "1.2.0",
            "_view_name": "StyleView",
            "bar_color": null,
            "description_width": ""
          }
        },
        "a9fc7ec8e6e3401fa2f7fc1c360afb4d": {
          "model_module": "@jupyter-widgets/base",
          "model_name": "LayoutModel",
          "model_module_version": "1.2.0",
          "state": {
            "_model_module": "@jupyter-widgets/base",
            "_model_module_version": "1.2.0",
            "_model_name": "LayoutModel",
            "_view_count": null,
            "_view_module": "@jupyter-widgets/base",
            "_view_module_version": "1.2.0",
            "_view_name": "LayoutView",
            "align_content": null,
            "align_items": null,
            "align_self": null,
            "border": null,
            "bottom": null,
            "display": null,
            "flex": null,
            "flex_flow": null,
            "grid_area": null,
            "grid_auto_columns": null,
            "grid_auto_flow": null,
            "grid_auto_rows": null,
            "grid_column": null,
            "grid_gap": null,
            "grid_row": null,
            "grid_template_areas": null,
            "grid_template_columns": null,
            "grid_template_rows": null,
            "height": null,
            "justify_content": null,
            "justify_items": null,
            "left": null,
            "margin": null,
            "max_height": null,
            "max_width": null,
            "min_height": null,
            "min_width": null,
            "object_fit": null,
            "object_position": null,
            "order": null,
            "overflow": null,
            "overflow_x": null,
            "overflow_y": null,
            "padding": null,
            "right": null,
            "top": null,
            "visibility": null,
            "width": null
          }
        },
        "0e43df3bb33a41168aa9b81890d19c61": {
          "model_module": "@jupyter-widgets/controls",
          "model_name": "DescriptionStyleModel",
          "model_module_version": "1.5.0",
          "state": {
            "_model_module": "@jupyter-widgets/controls",
            "_model_module_version": "1.5.0",
            "_model_name": "DescriptionStyleModel",
            "_view_count": null,
            "_view_module": "@jupyter-widgets/base",
            "_view_module_version": "1.2.0",
            "_view_name": "StyleView",
            "description_width": ""
          }
        },
        "75b7d7e5f05342c38bb041d970c9a127": {
          "model_module": "@jupyter-widgets/controls",
          "model_name": "HBoxModel",
          "model_module_version": "1.5.0",
          "state": {
            "_dom_classes": [],
            "_model_module": "@jupyter-widgets/controls",
            "_model_module_version": "1.5.0",
            "_model_name": "HBoxModel",
            "_view_count": null,
            "_view_module": "@jupyter-widgets/controls",
            "_view_module_version": "1.5.0",
            "_view_name": "HBoxView",
            "box_style": "",
            "children": [
              "IPY_MODEL_80c4592b49204c1eaaa67eac495bc54d",
              "IPY_MODEL_ca658510b507462c9d052b988897de8c",
              "IPY_MODEL_05c377b6dafc4961acd2508f04f3de3f"
            ],
            "layout": "IPY_MODEL_89ff6d0f456b40c3996d4abf8d7e16c3"
          }
        },
        "80c4592b49204c1eaaa67eac495bc54d": {
          "model_module": "@jupyter-widgets/controls",
          "model_name": "HTMLModel",
          "model_module_version": "1.5.0",
          "state": {
            "_dom_classes": [],
            "_model_module": "@jupyter-widgets/controls",
            "_model_module_version": "1.5.0",
            "_model_name": "HTMLModel",
            "_view_count": null,
            "_view_module": "@jupyter-widgets/controls",
            "_view_module_version": "1.5.0",
            "_view_name": "HTMLView",
            "description": "",
            "description_tooltip": null,
            "layout": "IPY_MODEL_43dd2e3da3204afb923f306da6744695",
            "placeholder": "​",
            "style": "IPY_MODEL_76f771b230f048ac91874c900c549221",
            "value": "Testing DataLoader 0: 100%"
          }
        },
        "ca658510b507462c9d052b988897de8c": {
          "model_module": "@jupyter-widgets/controls",
          "model_name": "FloatProgressModel",
          "model_module_version": "1.5.0",
          "state": {
            "_dom_classes": [],
            "_model_module": "@jupyter-widgets/controls",
            "_model_module_version": "1.5.0",
            "_model_name": "FloatProgressModel",
            "_view_count": null,
            "_view_module": "@jupyter-widgets/controls",
            "_view_module_version": "1.5.0",
            "_view_name": "ProgressView",
            "bar_style": "success",
            "description": "",
            "description_tooltip": null,
            "layout": "IPY_MODEL_30ee9d7b0b914befb140271fbc727699",
            "max": 10,
            "min": 0,
            "orientation": "horizontal",
            "style": "IPY_MODEL_0d343771541a47338ae4bc3af6b5360a",
            "value": 10
          }
        },
        "05c377b6dafc4961acd2508f04f3de3f": {
          "model_module": "@jupyter-widgets/controls",
          "model_name": "HTMLModel",
          "model_module_version": "1.5.0",
          "state": {
            "_dom_classes": [],
            "_model_module": "@jupyter-widgets/controls",
            "_model_module_version": "1.5.0",
            "_model_name": "HTMLModel",
            "_view_count": null,
            "_view_module": "@jupyter-widgets/controls",
            "_view_module_version": "1.5.0",
            "_view_name": "HTMLView",
            "description": "",
            "description_tooltip": null,
            "layout": "IPY_MODEL_9c5b21ccd1cd42baaa701fa088068696",
            "placeholder": "​",
            "style": "IPY_MODEL_ecd781ef90ea4957914977da2a11175a",
            "value": " 10/10 [00:05&lt;00:00,  1.83it/s]"
          }
        },
        "89ff6d0f456b40c3996d4abf8d7e16c3": {
          "model_module": "@jupyter-widgets/base",
          "model_name": "LayoutModel",
          "model_module_version": "1.2.0",
          "state": {
            "_model_module": "@jupyter-widgets/base",
            "_model_module_version": "1.2.0",
            "_model_name": "LayoutModel",
            "_view_count": null,
            "_view_module": "@jupyter-widgets/base",
            "_view_module_version": "1.2.0",
            "_view_name": "LayoutView",
            "align_content": null,
            "align_items": null,
            "align_self": null,
            "border": null,
            "bottom": null,
            "display": "inline-flex",
            "flex": null,
            "flex_flow": "row wrap",
            "grid_area": null,
            "grid_auto_columns": null,
            "grid_auto_flow": null,
            "grid_auto_rows": null,
            "grid_column": null,
            "grid_gap": null,
            "grid_row": null,
            "grid_template_areas": null,
            "grid_template_columns": null,
            "grid_template_rows": null,
            "height": null,
            "justify_content": null,
            "justify_items": null,
            "left": null,
            "margin": null,
            "max_height": null,
            "max_width": null,
            "min_height": null,
            "min_width": null,
            "object_fit": null,
            "object_position": null,
            "order": null,
            "overflow": null,
            "overflow_x": null,
            "overflow_y": null,
            "padding": null,
            "right": null,
            "top": null,
            "visibility": null,
            "width": "100%"
          }
        },
        "43dd2e3da3204afb923f306da6744695": {
          "model_module": "@jupyter-widgets/base",
          "model_name": "LayoutModel",
          "model_module_version": "1.2.0",
          "state": {
            "_model_module": "@jupyter-widgets/base",
            "_model_module_version": "1.2.0",
            "_model_name": "LayoutModel",
            "_view_count": null,
            "_view_module": "@jupyter-widgets/base",
            "_view_module_version": "1.2.0",
            "_view_name": "LayoutView",
            "align_content": null,
            "align_items": null,
            "align_self": null,
            "border": null,
            "bottom": null,
            "display": null,
            "flex": null,
            "flex_flow": null,
            "grid_area": null,
            "grid_auto_columns": null,
            "grid_auto_flow": null,
            "grid_auto_rows": null,
            "grid_column": null,
            "grid_gap": null,
            "grid_row": null,
            "grid_template_areas": null,
            "grid_template_columns": null,
            "grid_template_rows": null,
            "height": null,
            "justify_content": null,
            "justify_items": null,
            "left": null,
            "margin": null,
            "max_height": null,
            "max_width": null,
            "min_height": null,
            "min_width": null,
            "object_fit": null,
            "object_position": null,
            "order": null,
            "overflow": null,
            "overflow_x": null,
            "overflow_y": null,
            "padding": null,
            "right": null,
            "top": null,
            "visibility": null,
            "width": null
          }
        },
        "76f771b230f048ac91874c900c549221": {
          "model_module": "@jupyter-widgets/controls",
          "model_name": "DescriptionStyleModel",
          "model_module_version": "1.5.0",
          "state": {
            "_model_module": "@jupyter-widgets/controls",
            "_model_module_version": "1.5.0",
            "_model_name": "DescriptionStyleModel",
            "_view_count": null,
            "_view_module": "@jupyter-widgets/base",
            "_view_module_version": "1.2.0",
            "_view_name": "StyleView",
            "description_width": ""
          }
        },
        "30ee9d7b0b914befb140271fbc727699": {
          "model_module": "@jupyter-widgets/base",
          "model_name": "LayoutModel",
          "model_module_version": "1.2.0",
          "state": {
            "_model_module": "@jupyter-widgets/base",
            "_model_module_version": "1.2.0",
            "_model_name": "LayoutModel",
            "_view_count": null,
            "_view_module": "@jupyter-widgets/base",
            "_view_module_version": "1.2.0",
            "_view_name": "LayoutView",
            "align_content": null,
            "align_items": null,
            "align_self": null,
            "border": null,
            "bottom": null,
            "display": null,
            "flex": "2",
            "flex_flow": null,
            "grid_area": null,
            "grid_auto_columns": null,
            "grid_auto_flow": null,
            "grid_auto_rows": null,
            "grid_column": null,
            "grid_gap": null,
            "grid_row": null,
            "grid_template_areas": null,
            "grid_template_columns": null,
            "grid_template_rows": null,
            "height": null,
            "justify_content": null,
            "justify_items": null,
            "left": null,
            "margin": null,
            "max_height": null,
            "max_width": null,
            "min_height": null,
            "min_width": null,
            "object_fit": null,
            "object_position": null,
            "order": null,
            "overflow": null,
            "overflow_x": null,
            "overflow_y": null,
            "padding": null,
            "right": null,
            "top": null,
            "visibility": null,
            "width": null
          }
        },
        "0d343771541a47338ae4bc3af6b5360a": {
          "model_module": "@jupyter-widgets/controls",
          "model_name": "ProgressStyleModel",
          "model_module_version": "1.5.0",
          "state": {
            "_model_module": "@jupyter-widgets/controls",
            "_model_module_version": "1.5.0",
            "_model_name": "ProgressStyleModel",
            "_view_count": null,
            "_view_module": "@jupyter-widgets/base",
            "_view_module_version": "1.2.0",
            "_view_name": "StyleView",
            "bar_color": null,
            "description_width": ""
          }
        },
        "9c5b21ccd1cd42baaa701fa088068696": {
          "model_module": "@jupyter-widgets/base",
          "model_name": "LayoutModel",
          "model_module_version": "1.2.0",
          "state": {
            "_model_module": "@jupyter-widgets/base",
            "_model_module_version": "1.2.0",
            "_model_name": "LayoutModel",
            "_view_count": null,
            "_view_module": "@jupyter-widgets/base",
            "_view_module_version": "1.2.0",
            "_view_name": "LayoutView",
            "align_content": null,
            "align_items": null,
            "align_self": null,
            "border": null,
            "bottom": null,
            "display": null,
            "flex": null,
            "flex_flow": null,
            "grid_area": null,
            "grid_auto_columns": null,
            "grid_auto_flow": null,
            "grid_auto_rows": null,
            "grid_column": null,
            "grid_gap": null,
            "grid_row": null,
            "grid_template_areas": null,
            "grid_template_columns": null,
            "grid_template_rows": null,
            "height": null,
            "justify_content": null,
            "justify_items": null,
            "left": null,
            "margin": null,
            "max_height": null,
            "max_width": null,
            "min_height": null,
            "min_width": null,
            "object_fit": null,
            "object_position": null,
            "order": null,
            "overflow": null,
            "overflow_x": null,
            "overflow_y": null,
            "padding": null,
            "right": null,
            "top": null,
            "visibility": null,
            "width": null
          }
        },
        "ecd781ef90ea4957914977da2a11175a": {
          "model_module": "@jupyter-widgets/controls",
          "model_name": "DescriptionStyleModel",
          "model_module_version": "1.5.0",
          "state": {
            "_model_module": "@jupyter-widgets/controls",
            "_model_module_version": "1.5.0",
            "_model_name": "DescriptionStyleModel",
            "_view_count": null,
            "_view_module": "@jupyter-widgets/base",
            "_view_module_version": "1.2.0",
            "_view_name": "StyleView",
            "description_width": ""
          }
        }
      }
    }
  },
  "nbformat": 4,
  "nbformat_minor": 0
}