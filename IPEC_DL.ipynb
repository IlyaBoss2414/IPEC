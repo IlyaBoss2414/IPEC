{
  "nbformat": 4,
  "nbformat_minor": 0,
  "metadata": {
    "colab": {
      "provenance": [],
      "include_colab_link": true
    },
    "kernelspec": {
      "name": "python3",
      "display_name": "Python 3"
    },
    "language_info": {
      "name": "python"
    }
  },
  "cells": [
    {
      "cell_type": "markdown",
      "metadata": {
        "id": "view-in-github",
        "colab_type": "text"
      },
      "source": [
        "<a href=\"https://colab.research.google.com/github/IlyaBoss2414/IPEC/blob/main/IPEC_DL.ipynb\" target=\"_parent\"><img src=\"https://colab.research.google.com/assets/colab-badge.svg\" alt=\"Open In Colab\"/></a>"
      ]
    },
    {
      "cell_type": "code",
      "source": [
        "%pip install -q torchsat\n",
        "%pip install -q timm lightning torchmetrics"
      ],
      "metadata": {
        "id": "utk1nmz-XJ8j",
        "colab": {
          "base_uri": "https://localhost:8080/"
        },
        "outputId": "420e0f90-9e78-4e39-f0ba-8ee5482a01b4"
      },
      "execution_count": 1,
      "outputs": [
        {
          "output_type": "stream",
          "name": "stdout",
          "text": [
            "\u001b[2K     \u001b[90m━━━━━━━━━━━━━━━━━━━━━━━━━━━━━━━━━━━━━━━━\u001b[0m \u001b[32m46.3/46.3 kB\u001b[0m \u001b[31m568.7 kB/s\u001b[0m eta \u001b[36m0:00:00\u001b[0m\n",
            "\u001b[2K     \u001b[90m━━━━━━━━━━━━━━━━━━━━━━━━━━━━━━━━━━━━━━━━\u001b[0m \u001b[32m21.3/21.3 MB\u001b[0m \u001b[31m55.9 MB/s\u001b[0m eta \u001b[36m0:00:00\u001b[0m\n",
            "\u001b[2K     \u001b[90m━━━━━━━━━━━━━━━━━━━━━━━━━━━━━━━━━━━━━━━━\u001b[0m \u001b[32m2.3/2.3 MB\u001b[0m \u001b[31m27.1 MB/s\u001b[0m eta \u001b[36m0:00:00\u001b[0m\n",
            "\u001b[2K     \u001b[90m━━━━━━━━━━━━━━━━━━━━━━━━━━━━━━━━━━━━━━━━\u001b[0m \u001b[32m2.0/2.0 MB\u001b[0m \u001b[31m54.5 MB/s\u001b[0m eta \u001b[36m0:00:00\u001b[0m\n",
            "\u001b[2K     \u001b[90m━━━━━━━━━━━━━━━━━━━━━━━━━━━━━━━━━━━━━━━━\u001b[0m \u001b[32m868.8/868.8 kB\u001b[0m \u001b[31m39.3 MB/s\u001b[0m eta \u001b[36m0:00:00\u001b[0m\n",
            "\u001b[2K     \u001b[90m━━━━━━━━━━━━━━━━━━━━━━━━━━━━━━━━━━━━━━━━\u001b[0m \u001b[32m802.3/802.3 kB\u001b[0m \u001b[31m38.5 MB/s\u001b[0m eta \u001b[36m0:00:00\u001b[0m\n",
            "\u001b[?25h"
          ]
        }
      ]
    },
    {
      "cell_type": "code",
      "source": [
        "%pip install -q lion-pytorch"
      ],
      "metadata": {
        "id": "YB_PCtR4av1V"
      },
      "execution_count": 2,
      "outputs": []
    },
    {
      "cell_type": "code",
      "source": [
        "### для работы с файловой системой\n",
        "import os\n",
        "\n",
        "### для сохранения в файл\n",
        "import pickle\n",
        "\n",
        "### Импорты для анализа потраченной памяти\n",
        "from sys import getsizeof\n",
        "\n",
        "### Для работы с массивами\n",
        "import numpy as np\n",
        "\n",
        "### Pandas понадобится нам для работы с данными\n",
        "import pandas as pd\n",
        "import psutil\n",
        "import torch\n",
        "\n",
        "### для отрисовки\n",
        "from matplotlib import pyplot as plt\n",
        "from matplotlib.image import NonUniformImage\n",
        "\n"
      ],
      "metadata": {
        "id": "SBdgm9nrXNWB"
      },
      "execution_count": 3,
      "outputs": []
    },
    {
      "cell_type": "code",
      "source": [
        "import lightning as L\n",
        "import numpy as np\n",
        "import torch\n",
        "from pytorch_lightning.loggers import TensorBoardLogger\n",
        "import tensorflow as tf\n",
        "\n",
        "torch.manual_seed(42)\n",
        "torch.backends.cudnn.deterministic = True\n",
        "torch.backends.cudnn.benchmark = False\n",
        "\n",
        "import numpy as np\n",
        "import random\n",
        "import torch\n",
        "\n",
        "\n",
        "def set_random_seed(seed):\n",
        "    torch.manual_seed(seed)\n",
        "    torch.cuda.manual_seed(seed)\n",
        "    np.random.seed(seed)\n",
        "    random.seed(seed)\n",
        "\n",
        "\n",
        "set_random_seed(42)\n",
        "\n",
        "np.random.seed(42)\n",
        "tf.random.set_seed(42)\n",
        "L.seed_everything(42)\n"
      ],
      "metadata": {
        "colab": {
          "base_uri": "https://localhost:8080/"
        },
        "id": "gl7LXRuUbusp",
        "outputId": "6fde7941-cb89-49ad-f512-9500d97c23bf"
      },
      "execution_count": 4,
      "outputs": [
        {
          "output_type": "stream",
          "name": "stderr",
          "text": [
            "INFO: Seed set to 42\n",
            "INFO:lightning.fabric.utilities.seed:Seed set to 42\n"
          ]
        },
        {
          "output_type": "execute_result",
          "data": {
            "text/plain": [
              "42"
            ]
          },
          "metadata": {},
          "execution_count": 4
        }
      ]
    },
    {
      "cell_type": "code",
      "source": [
        "!git clone https://github.com/IlyaBoss2414/IPEC"
      ],
      "metadata": {
        "colab": {
          "base_uri": "https://localhost:8080/"
        },
        "outputId": "2f1c7287-99de-4173-f451-9bb69110da3f",
        "id": "Jrb-wJKkQiCx"
      },
      "execution_count": 5,
      "outputs": [
        {
          "output_type": "stream",
          "name": "stdout",
          "text": [
            "Cloning into 'IPEC'...\n",
            "remote: Enumerating objects: 110, done.\u001b[K\n",
            "remote: Counting objects: 100% (110/110), done.\u001b[K\n",
            "remote: Compressing objects: 100% (101/101), done.\u001b[K\n",
            "remote: Total 110 (delta 46), reused 0 (delta 0), pack-reused 0\u001b[K\n",
            "Receiving objects: 100% (110/110), 479.88 KiB | 3.24 MiB/s, done.\n",
            "Resolving deltas: 100% (46/46), done.\n"
          ]
        }
      ]
    },
    {
      "cell_type": "code",
      "source": [
        "# %cd /content/IPEC/models/model_pairing_common.py"
      ],
      "metadata": {
        "colab": {
          "base_uri": "https://localhost:8080/"
        },
        "id": "fw77nLDMO-bh",
        "outputId": "6cfff48c-140a-44d2-8a0a-8817befde017"
      },
      "execution_count": null,
      "outputs": [
        {
          "output_type": "stream",
          "name": "stdout",
          "text": [
            "[Errno 20] Not a directory: '/content/IPEC/models/model_pairing_common.py'\n",
            "/content\n"
          ]
        }
      ]
    },
    {
      "cell_type": "code",
      "source": [
        "!ls /content/IPEC/models\n",
        "from IPEC.models import model_pairing_common as model_pairing_common\n",
        "from IPEC.models import trainer_pairing as trainer_pairing"
      ],
      "metadata": {
        "colab": {
          "base_uri": "https://localhost:8080/"
        },
        "id": "X4GPvEptYGAq",
        "outputId": "f09a54ac-0923-4d23-f99e-3f04548d8487"
      },
      "execution_count": 6,
      "outputs": [
        {
          "output_type": "stream",
          "name": "stdout",
          "text": [
            "checkpoints  model_pairing_common.py  model_pairing.py\tmodel.py  trainer_pairing.py  trainer.py\n"
          ]
        }
      ]
    },
    {
      "cell_type": "code",
      "source": [
        "model_upd = model_pairing\n",
        "print(model_upd)"
      ],
      "metadata": {
        "colab": {
          "base_uri": "https://localhost:8080/"
        },
        "id": "Gmm0F_yCYZoD",
        "outputId": "f5dac848-6a71-4d68-895d-ef270698257d"
      },
      "execution_count": 8,
      "outputs": [
        {
          "output_type": "stream",
          "name": "stdout",
          "text": [
            "<module 'IPEC.models.model_pairing' from '/content/IPEC/models/model_pairing.py'>\n"
          ]
        }
      ]
    },
    {
      "cell_type": "code",
      "source": [
        "from lightning.pytorch.callbacks import ModelCheckpoint\n",
        "\n",
        "checkpoint_callback = ModelCheckpoint(\n",
        "    dirpath=\"https://drive.google.com/file/d/1N0O02IHfHswIeqEbZIdLzj1EmPWXIMR-/view?usp=drive_link\",\n",
        "    save_last=True,\n",
        "    every_n_epochs=1,\n",
        "    save_top_k=1,\n",
        "    save_weights_only=False,\n",
        "    monitor=\"r2/val\",\n",
        "    mode=\"max\",\n",
        ")"
      ],
      "metadata": {
        "id": "Jt5bYcuxQiCx"
      },
      "execution_count": 9,
      "outputs": []
    },
    {
      "cell_type": "code",
      "source": [
        "# import gdown\n",
        "# %cd /content/Self-Correction-Human-Parsing\n",
        "# atr_dataset_url = 'https://drive.google.com/uc?id=1ruJg4lqR_jgQPj-9K0PP-L2vJERYOxLP'\n",
        "# gdown.download(atr_dataset_url, 'checkpoints/atr.pth', quiet=False)"
      ],
      "metadata": {
        "id": "s9CYQEz4XDKk"
      },
      "execution_count": null,
      "outputs": []
    },
    {
      "cell_type": "code",
      "source": [
        "\n",
        "# True - дообучение\n",
        "# False - обучение всего\n",
        "lit_model = trainer_pairing(model_pairing_common, only_head = True)\n",
        "\n",
        "\n",
        "trainer = L.Trainer(\n",
        "    max_epochs = 300,\n",
        "    callbacks=[checkpoint_callback],\n",
        "    log_every_n_steps = 2,\n",
        "    logger=TensorBoardLogger(save_dir=\"/home/jupyter/datasphere/project/Data/model_all_AdamW\"),\n",
        ")\n",
        "\n",
        "trainer.fit(model=lit_model, train_dataloaders=train_loader, val_dataloaders=val_loader)\n"
      ],
      "metadata": {
        "id": "c3sEykoOKQsx"
      },
      "execution_count": null,
      "outputs": []
    },
    {
      "cell_type": "code",
      "source": [
        "trainer.test(lit_model, dataloaders=test_loader, ckpt_path=\"best\")"
      ],
      "metadata": {
        "id": "4Yevln04bsWy"
      },
      "execution_count": null,
      "outputs": []
    }
  ]
}