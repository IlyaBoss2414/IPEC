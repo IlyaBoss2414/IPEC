{
  "nbformat": 4,
  "nbformat_minor": 0,
  "metadata": {
    "colab": {
      "provenance": [],
      "include_colab_link": true
    },
    "kernelspec": {
      "name": "python3",
      "display_name": "Python 3"
    },
    "language_info": {
      "name": "python"
    }
  },
  "cells": [
    {
      "cell_type": "markdown",
      "metadata": {
        "id": "view-in-github",
        "colab_type": "text"
      },
      "source": [
        "<a href=\"https://colab.research.google.com/github/IlyaBoss2414/IPEC/blob/main/IPEC_ML.ipynb\" target=\"_parent\"><img src=\"https://colab.research.google.com/assets/colab-badge.svg\" alt=\"Open In Colab\"/></a>"
      ]
    },
    {
      "cell_type": "code",
      "source": [
        "from google.colab import drive\n",
        "drive.mount('/content/drive')"
      ],
      "metadata": {
        "colab": {
          "base_uri": "https://localhost:8080/"
        },
        "outputId": "33e2c412-0561-4c67-fdee-ccab586cf165",
        "id": "Jrb-wJKkQiCx"
      },
      "execution_count": 2,
      "outputs": [
        {
          "output_type": "stream",
          "name": "stdout",
          "text": [
            "Drive already mounted at /content/drive; to attempt to forcibly remount, call drive.mount(\"/content/drive\", force_remount=True).\n"
          ]
        }
      ]
    },
    {
      "cell_type": "code",
      "source": [
        "!pip install rdkit-pypi"
      ],
      "metadata": {
        "colab": {
          "base_uri": "https://localhost:8080/"
        },
        "outputId": "92c4c1a6-975a-4db0-dd80-061560774234",
        "id": "Jt5bYcuxQiCx"
      },
      "execution_count": 3,
      "outputs": [
        {
          "output_type": "stream",
          "name": "stdout",
          "text": [
            "Requirement already satisfied: rdkit-pypi in /usr/local/lib/python3.10/dist-packages (2022.9.5)\n",
            "Requirement already satisfied: numpy in /usr/local/lib/python3.10/dist-packages (from rdkit-pypi) (1.25.2)\n",
            "Requirement already satisfied: Pillow in /usr/local/lib/python3.10/dist-packages (from rdkit-pypi) (9.4.0)\n"
          ]
        }
      ]
    },
    {
      "cell_type": "code",
      "source": [
        "import rdkit\n",
        "import numpy as np\n",
        "from rdkit.Chem import MACCSkeys, AllChem, DataStructs\n",
        "from rdkit.Avalon.pyAvalonTools import GetAvalonFP\n",
        "from rdkit import Chem\n",
        "import pandas as pd\n",
        "from rdkit import Chem\n",
        "from rdkit.Chem import Descriptors\n",
        "from rdkit.Chem import Draw\n",
        "from rdkit.Chem import AllChem\n",
        "from rdkit.Chem import rdFMCS\n",
        "from rdkit.Chem.Draw import IPythonConsole\n",
        "import pickle\n",
        "import os\n",
        "from matplotlib import pyplot as plt\n",
        "from matplotlib.image import NonUniformImage\n",
        "import numpy as np\n",
        "from sys import getsizeof\n",
        "import psutil\n",
        "import torch\n"
      ],
      "metadata": {
        "id": "m6ErBahBQiCy"
      },
      "execution_count": 5,
      "outputs": []
    },
    {
      "cell_type": "code",
      "source": [
        "from sklearn.model_selection import train_test_split\n",
        "from sklearn.metrics import RocCurveDisplay\n",
        "try:\n",
        "    from catboost import CatBoostClassifier\n",
        "except:\n",
        "    !pip install catboost\n",
        "    from catboost import CatBoostClassifier\n",
        "from sklearn.model_selection import StratifiedKFold\n",
        "from sklearn.metrics import roc_auc_score\n",
        "try:\n",
        "    import optuna\n",
        "except:\n",
        "    !pip install optuna\n",
        "    import optuna"
      ],
      "metadata": {
        "id": "vgjzYYubeXc0"
      },
      "execution_count": 6,
      "outputs": []
    },
    {
      "cell_type": "code",
      "source": [
        "import numpy as np\n",
        "import random\n",
        "import torch\n",
        "\n",
        "def set_random_seed(seed):\n",
        "    torch.manual_seed(seed)\n",
        "    torch.cuda.manual_seed(seed)\n",
        "    np.random.seed(seed)\n",
        "    random.seed(seed)\n",
        "\n",
        "set_random_seed(42)"
      ],
      "metadata": {
        "id": "mMxummKXZVqC"
      },
      "execution_count": 11,
      "outputs": []
    },
    {
      "cell_type": "code",
      "source": [
        "# Load data and shuffle before splitting\n",
        "path_to_folder = \"/content/drive/MyDrive/MsuAI/Project/Data\"\n",
        "df = pd.read_csv(os.path.join(path_to_folder, 'df_lin.csv')).sample(frac=1, random_state = 27)\n",
        "df = df.drop(columns=['Unnamed: 0'])\n"
      ],
      "metadata": {
        "id": "HKY-9DUxeXt5"
      },
      "execution_count": 7,
      "outputs": []
    },
    {
      "cell_type": "code",
      "source": [
        "# best features obtained using the rdkit library and selected using combubed Boruta, Boruta, built-in feature extraction approaches, Lasso, mRmR\n",
        "best_rdkit_features = ['PA_BalabanJ',\n",
        " 'PС_fr_Ndealkylation1',\n",
        " 'PA_EState_VSA7',\n",
        " 'PС_SlogP_VSA4',\n",
        " 'PС_SMR_VSA4',\n",
        " 'PA_SMR_VSA5',\n",
        " 'PС_fr_unbrch_alkane',\n",
        " 'PA_SPS',\n",
        " 'PA_VSA_EState8',\n",
        " 'PС_qed']\n",
        "\n",
        "my_features = [\"PA_DP\", \"PC_DP\", \"NaCl\", \"PA_idx\", \"PC_idx\",\"eps\",\"eps1\",\"eps2\"]\n",
        "\n",
        "list_features = my_features + best_rdkit_features\n"
      ],
      "metadata": {
        "id": "NkTv9XM7eXt6"
      },
      "execution_count": 8,
      "outputs": []
    },
    {
      "cell_type": "code",
      "source": [
        "df_test = pd.concat([df.loc[(df[\"PA_idx\"] == 1) & (df[\"PC_idx\"] == 3)].copy(), df.loc[(df[\"PA_idx\"] == 4) & (df[\"PC_idx\"] == 2)].copy()]) # index_to_drop = df_test.index\n",
        "df_train_all = df.drop(index=df_test.index)  # Sample 20% for the validation set\n",
        "df_train = df_train_all.sample(frac=0.8, random_state = 42)  # Sample 20% for the test set\n",
        "df_val = df_train_all.drop(index=df_train.index)  # Sample"
      ],
      "metadata": {
        "id": "Z2r1J1fAIRHm"
      },
      "execution_count": 9,
      "outputs": []
    },
    {
      "cell_type": "code",
      "source": [
        "# hyperparameters selected using Optuna of 5 folds by groups = df_train_all[\"PC_idx\"]\n",
        "best_params =  {'iterations': 202, 'depth': 4, 'learning_rate': 0.04420107240307016, 'l2_leaf_reg': 6.703979878946633e-05, 'border_count': 75}\n",
        "final_model = CatBoostRegressor(**best_params)\n",
        "\n",
        "\n",
        "X_train_val = df_train_all[list_features]\n",
        "X_test = df_test[list_features]\n",
        "\n",
        "y_train_val = df_train_all['phi'].astype(float)\n",
        "y_test = df_test['phi'].astype(float)\n",
        "\n",
        "# Step 2: Scale the features\n",
        "scaler = StandardScaler()\n",
        "X_train_val_scaled = scaler.fit_transform(X_train_val)\n",
        "X_test_scaled = scaler.transform(X_test)\n",
        "\n",
        "# Fit the final model\n",
        "final_model.fit(X_train_val_scaled, y_train_val, early_stopping_rounds=100, verbose=False)\n",
        "\n",
        "# Predict and evaluate on test set\n",
        "y_test_pred = final_model.predict(X_test_scaled)\n",
        "\n",
        "# Calculate metrics\n",
        "test_rmse = np.sqrt(mean_squared_error(y_test, y_test_pred))\n",
        "test_mae = mean_absolute_error(y_test, y_test_pred)\n",
        "test_mse = mean_squared_error(y_test, y_test_pred)\n",
        "test_r2 = r2_score(y_test, y_test_pred)\n",
        "test_mape = mean_absolute_percentage_error(y_test, y_test_pred)\n",
        "\n",
        "print(f'Test MAE score: {test_mae}')\n",
        "print(f'Test MSE score: {test_mse}')\n",
        "print(f'Test R² score: {test_r2}')\n",
        "print(f'Test MAPE score: {test_mape}')\n",
        "\n"
      ],
      "metadata": {
        "id": "ifaFOt4KEQld",
        "colab": {
          "base_uri": "https://localhost:8080/"
        },
        "outputId": "c28578ad-cfd1-459c-9cd5-543c9c1ca6c9"
      },
      "execution_count": 19,
      "outputs": [
        {
          "output_type": "stream",
          "name": "stdout",
          "text": [
            "Test MAE score: 2.097793687180338\n",
            "Test MSE score: 14.07965028988206\n",
            "Test R² score: 0.9022997679652726\n",
            "Test MAPE score: 0.045690820445396\n"
          ]
        }
      ]
    },
    {
      "cell_type": "code",
      "source": [],
      "metadata": {
        "id": "GHKjRLn0hjew"
      },
      "execution_count": 13,
      "outputs": []
    }
  ]
}